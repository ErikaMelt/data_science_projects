{
 "cells": [
  {
   "cell_type": "markdown",
   "id": "74112e12",
   "metadata": {},
   "source": [
    "# Problema - ¿Quién ganará las elecciones?  - Distribuccion Binomial\n",
    "\n",
    "Tres partidos se presentan a las elecciones presidenciales de un cierto país. Para conocer el estado de opinión de la población y las expectitivas de cada uno, el gobierno encarga una encuesta electoral a una empresa de sociométrica justo antes de la campaña electoral. También pretenden usar el estudio para conocer quién hace mejor campaña electoral.\n",
    "\n",
    "Carga el fichero `elections.csv` con los resultados de la encuesta. Trataremos de responder a las dos cuestiones."
   ]
  },
  {
   "cell_type": "code",
   "execution_count": 1,
   "id": "677b7130",
   "metadata": {},
   "outputs": [
    {
     "data": {
      "text/html": [
       "<div>\n",
       "<style scoped>\n",
       "    .dataframe tbody tr th:only-of-type {\n",
       "        vertical-align: middle;\n",
       "    }\n",
       "\n",
       "    .dataframe tbody tr th {\n",
       "        vertical-align: top;\n",
       "    }\n",
       "\n",
       "    .dataframe thead th {\n",
       "        text-align: right;\n",
       "    }\n",
       "</style>\n",
       "<table border=\"1\" class=\"dataframe\">\n",
       "  <thead>\n",
       "    <tr style=\"text-align: right;\">\n",
       "      <th></th>\n",
       "      <th>person</th>\n",
       "      <th>votes_for_A</th>\n",
       "      <th>votes_for_B</th>\n",
       "      <th>votes_for_C</th>\n",
       "      <th>gender</th>\n",
       "      <th>p_changes_vote</th>\n",
       "    </tr>\n",
       "  </thead>\n",
       "  <tbody>\n",
       "    <tr>\n",
       "      <th>count</th>\n",
       "      <td>3500.000000</td>\n",
       "      <td>3500.000000</td>\n",
       "      <td>3500.000000</td>\n",
       "      <td>3500.000000</td>\n",
       "      <td>3500.000000</td>\n",
       "      <td>3500.000000</td>\n",
       "    </tr>\n",
       "    <tr>\n",
       "      <th>mean</th>\n",
       "      <td>1750.500000</td>\n",
       "      <td>0.398000</td>\n",
       "      <td>0.155429</td>\n",
       "      <td>0.251714</td>\n",
       "      <td>0.420857</td>\n",
       "      <td>0.203574</td>\n",
       "    </tr>\n",
       "    <tr>\n",
       "      <th>std</th>\n",
       "      <td>1010.507298</td>\n",
       "      <td>0.489555</td>\n",
       "      <td>0.362365</td>\n",
       "      <td>0.434060</td>\n",
       "      <td>0.493767</td>\n",
       "      <td>0.205237</td>\n",
       "    </tr>\n",
       "    <tr>\n",
       "      <th>min</th>\n",
       "      <td>1.000000</td>\n",
       "      <td>0.000000</td>\n",
       "      <td>0.000000</td>\n",
       "      <td>0.000000</td>\n",
       "      <td>0.000000</td>\n",
       "      <td>0.000000</td>\n",
       "    </tr>\n",
       "    <tr>\n",
       "      <th>25%</th>\n",
       "      <td>875.750000</td>\n",
       "      <td>0.000000</td>\n",
       "      <td>0.000000</td>\n",
       "      <td>0.000000</td>\n",
       "      <td>0.000000</td>\n",
       "      <td>0.028705</td>\n",
       "    </tr>\n",
       "    <tr>\n",
       "      <th>50%</th>\n",
       "      <td>1750.500000</td>\n",
       "      <td>0.000000</td>\n",
       "      <td>0.000000</td>\n",
       "      <td>0.000000</td>\n",
       "      <td>0.000000</td>\n",
       "      <td>0.144596</td>\n",
       "    </tr>\n",
       "    <tr>\n",
       "      <th>75%</th>\n",
       "      <td>2625.250000</td>\n",
       "      <td>1.000000</td>\n",
       "      <td>0.000000</td>\n",
       "      <td>1.000000</td>\n",
       "      <td>1.000000</td>\n",
       "      <td>0.345611</td>\n",
       "    </tr>\n",
       "    <tr>\n",
       "      <th>max</th>\n",
       "      <td>3500.000000</td>\n",
       "      <td>1.000000</td>\n",
       "      <td>1.000000</td>\n",
       "      <td>1.000000</td>\n",
       "      <td>1.000000</td>\n",
       "      <td>0.988265</td>\n",
       "    </tr>\n",
       "  </tbody>\n",
       "</table>\n",
       "</div>"
      ],
      "text/plain": [
       "            person  votes_for_A  votes_for_B  votes_for_C       gender  \\\n",
       "count  3500.000000  3500.000000  3500.000000  3500.000000  3500.000000   \n",
       "mean   1750.500000     0.398000     0.155429     0.251714     0.420857   \n",
       "std    1010.507298     0.489555     0.362365     0.434060     0.493767   \n",
       "min       1.000000     0.000000     0.000000     0.000000     0.000000   \n",
       "25%     875.750000     0.000000     0.000000     0.000000     0.000000   \n",
       "50%    1750.500000     0.000000     0.000000     0.000000     0.000000   \n",
       "75%    2625.250000     1.000000     0.000000     1.000000     1.000000   \n",
       "max    3500.000000     1.000000     1.000000     1.000000     1.000000   \n",
       "\n",
       "       p_changes_vote  \n",
       "count     3500.000000  \n",
       "mean         0.203574  \n",
       "std          0.205237  \n",
       "min          0.000000  \n",
       "25%          0.028705  \n",
       "50%          0.144596  \n",
       "75%          0.345611  \n",
       "max          0.988265  "
      ]
     },
     "execution_count": 1,
     "metadata": {},
     "output_type": "execute_result"
    }
   ],
   "source": [
    "import pandas as pd\n",
    "import numpy as np\n",
    "\n",
    "path = 'data/elections.csv'\n",
    "elections_df = pd.read_csv(path, sep=\",\")\n",
    "elections_df.rename(columns={'Unnamed: 0': 'person'}, inplace=True)\n",
    "elections_df.describe()"
   ]
  },
  {
   "cell_type": "markdown",
   "id": "86960806",
   "metadata": {},
   "source": [
    "## Parte 1: Interpretación directa de la encuesta\n",
    "\n",
    "Basándote únicamente en lo declarado por los entrevistados.  \n",
    "\n",
    "### Calcula las probabilidades de voto de cada uno de los partidos. \n",
    "Para cada partido, (casos posibles / total casos) \n",
    "\n"
   ]
  },
  {
   "cell_type": "code",
   "execution_count": 2,
   "id": "fc99b311",
   "metadata": {},
   "outputs": [],
   "source": [
    "# Constants\n",
    "TOTAL_PEOPLE_IN_SURVEY = len(elections_df)\n",
    "FEMALE = 1\n",
    "MALE = 0"
   ]
  },
  {
   "cell_type": "code",
   "execution_count": 3,
   "id": "8689951d",
   "metadata": {},
   "outputs": [
    {
     "name": "stdout",
     "output_type": "stream",
     "text": [
      "votes_for_A    0.398\n",
      "votes_for_B    0.155\n",
      "votes_for_C    0.252\n",
      "dtype: float64\n",
      "0.195\n"
     ]
    }
   ],
   "source": [
    "# Probabilidad de voto por cada partido (casos posibles / total casos)\n",
    "prob_per_party = elections_df.loc[:, [\n",
    "    \"votes_for_A\", \"votes_for_B\", 'votes_for_C'\n",
    "]].mean()\n",
    "\n",
    "# Probabilidad del voto indeciso, personas que fueron encuestadas y no van a votar por el partido A, B ó C.\n",
    "total_undecided = elections_df.loc[(elections_df[\"votes_for_A\"] == 0)\n",
    "                                   & (elections_df[\"votes_for_B\"] == 0)\n",
    "                                   & (elections_df[\"votes_for_C\"] == 0),\n",
    "                                   [\"person\"]].count().mean()\n",
    "\n",
    "prob_undecided = total_undecided / TOTAL_PEOPLE_IN_SURVEY\n",
    "\n",
    "print(np.round(prob_per_party, 3))\n",
    "print(np.round(prob_undecided, 3))"
   ]
  },
  {
   "cell_type": "markdown",
   "id": "2123127a",
   "metadata": {},
   "source": [
    "### Calcula la probabilidad de voto si se es mujer o si se es hombre. (Probabilidad condicionado que es mujer, y condicionado que es hombre)\n"
   ]
  },
  {
   "cell_type": "code",
   "execution_count": 4,
   "id": "876f092d",
   "metadata": {},
   "outputs": [
    {
     "name": "stdout",
     "output_type": "stream",
     "text": [
      "gender\n",
      "0    2027\n",
      "1    1473\n",
      "Name: person, dtype: int64\n",
      "Probabilidad de voto Femenino es: \n",
      "0.421\n",
      "Probabilidad de voto Masculino es: \n",
      "0.579\n"
     ]
    }
   ],
   "source": [
    "def calculate_mean(conditional_col, condition_value):\n",
    "    mean = len(elections_df.loc[(elections_df[conditional_col]\n",
    "                                 == condition_value)]) / TOTAL_PEOPLE_IN_SURVEY\n",
    "    return mean\n",
    "\n",
    "\n",
    "qty_persons_by_gender = elections_df.groupby('gender').person.count()\n",
    "print(qty_persons_by_gender)\n",
    "\n",
    "# Probabilidad de voto por partido si es Mujer\n",
    "prob_female = calculate_mean('gender', FEMALE)\n",
    "print(\"Probabilidad de voto Femenino es: \\n{0}\".format(np.round(\n",
    "    prob_female, 3)))\n",
    "\n",
    "# Probabilidad de voto por partido si es Hombre\n",
    "prob_male = calculate_mean('gender', MALE)\n",
    "print(\"Probabilidad de voto Masculino es: \\n{0}\".format(np.round(prob_male,\n",
    "                                                                 3)))"
   ]
  },
  {
   "cell_type": "markdown",
   "id": "c10d74c5",
   "metadata": {},
   "source": [
    "\n",
    "### Tomando un voto del partido A al azar, ¿cuál es la probabilidad de que provenga de una mujer? ¿Y si el voto es del partido C? (Probabilidad de ser mujer condicionado a que haz votado al partido A) "
   ]
  },
  {
   "cell_type": "code",
   "execution_count": 5,
   "id": "59726504",
   "metadata": {},
   "outputs": [
    {
     "name": "stdout",
     "output_type": "stream",
     "text": [
      "La probabilidad de que un voto del partido A provenga de una mujer es: 0.419\n",
      "La probabilidad de que un voto del partido B provenga de una mujer es: 0.496\n",
      "La probabilidad de que un voto del partido C provenga de una mujer es: 0.703\n"
     ]
    }
   ],
   "source": [
    "prob_vote_fem_a = elections_df[\n",
    "    (elections_df.gender == FEMALE)\n",
    "    & (elections_df.votes_for_A == 1)].person.count() / TOTAL_PEOPLE_IN_SURVEY\n",
    "\n",
    "prob_vote_fem_c = elections_df[\n",
    "    (elections_df.gender == FEMALE)\n",
    "    & (elections_df.votes_for_C == 1)].person.count() / TOTAL_PEOPLE_IN_SURVEY\n",
    "\n",
    "prob_vote_fem_b = elections_df[\n",
    "    (elections_df.gender == FEMALE)\n",
    "    & (elections_df.votes_for_B == 1)].person.count() / TOTAL_PEOPLE_IN_SURVEY\n",
    "\n",
    "prob_vote_fem_a = elections_df[(\n",
    "    elections_df.votes_for_A == FEMALE)].gender.mean()\n",
    "prob_vote_fem_c = elections_df[(\n",
    "    elections_df.votes_for_C == FEMALE)].gender.mean()\n",
    "prob_vote_fem_b = elections_df[(\n",
    "    elections_df.votes_for_B == FEMALE)].gender.mean()\n",
    "\n",
    "print(\n",
    "    \"La probabilidad de que un voto del partido A provenga de una mujer es: {}\"\n",
    "    .format(np.round(prob_vote_fem_a, 3)))\n",
    "print(\n",
    "    \"La probabilidad de que un voto del partido B provenga de una mujer es: {}\"\n",
    "    .format(np.round(prob_vote_fem_b, 3)))\n",
    "print(\n",
    "    \"La probabilidad de que un voto del partido C provenga de una mujer es: {}\"\n",
    "    .format(np.round(prob_vote_fem_c, 3)))"
   ]
  },
  {
   "cell_type": "markdown",
   "id": "767de09d",
   "metadata": {},
   "source": [
    "## Parte 2: Volatilidad del voto\n",
    "\n",
    "La columna `p_changes_vote` muestra la probabilidad de que el encuestado termine votando algo distinto a lo declarado. Úsala para determinar la fiabilidad de la encuesta. ¿Es igual de volátil el voto femenino que el masculino?\n",
    "\n",
    "(La volatilidad del voto)"
   ]
  },
  {
   "cell_type": "code",
   "execution_count": 23,
   "id": "d7759ad4",
   "metadata": {},
   "outputs": [
    {
     "name": "stdout",
     "output_type": "stream",
     "text": [
      "       p_changes_vote                          \n",
      "                 mean count    median       std\n",
      "gender                                         \n",
      "0            0.176870  2027  0.059068  0.211409\n",
      "1            0.240321  1473  0.215052  0.190467\n"
     ]
    }
   ],
   "source": [
    "import matplotlib.pyplot as plt\n",
    "import scipy.stats as stats\n",
    "from scipy.stats import shapiro\n",
    "from scipy.stats import mannwhitneyu\n",
    "\n",
    "# Calculate mean of p_changes column grouped by gender\n",
    "prob_change_by_gender = elections_df.groupby('gender').agg(\n",
    "    {'p_changes_vote': ['mean', 'count', 'median', 'std']})\n",
    "print(prob_change_by_gender)"
   ]
  },
  {
   "cell_type": "markdown",
   "id": "fb315b08",
   "metadata": {},
   "source": [
    "Para la pregunta es: ¿Es igual de volátil el voto femenino que el masculino? podemos concluir que no podemos responder con base en los valores promedios obtenidos sin antes hacer un constraste de hipótesis. \n",
    "\n",
    "Si graficamos los datos de probabilidad de cambio de voto, podemos observar que de acuerdo al gráfico los datos no parecen que provengan de una distribucción normal pero podemos aplicar un test de shapiro para confirmar esta hipótesis. "
   ]
  },
  {
   "cell_type": "code",
   "execution_count": 21,
   "id": "8f726aa2",
   "metadata": {},
   "outputs": [
    {
     "data": {
      "image/png": "[encoded data removed]",
      "text/plain": [
       "<Figure size 800x500 with 1 Axes>"
      ]
     },
     "metadata": {},
     "output_type": "display_data"
    }
   ],
   "source": [
    "#Get dataframes by gender for p-changes_vote column\n",
    "fem = elections_df[elections_df['gender'] == FEMALE]['p_changes_vote']\n",
    "mas = elections_df[elections_df['gender'] == MALE]['p_changes_vote']\n",
    "\n",
    "plt.figure(figsize=(8, 5))\n",
    "bins = np.linspace(-10, 10, 200)\n",
    "plt.hist(fem, bins=bins, alpha=0.2, label=\"p_changes_F\", color=['yellow'])\n",
    "plt.axvline(fem.mean(), linestyle=\"--\", color='y', linewidth=2)\n",
    "\n",
    "plt.hist(mas, bins=bins, alpha=0.5, label=\"p_changes_M\", color=['blue'])\n",
    "plt.axvline(mas.mean(), linestyle=\"--\", color='b', linewidth=2)\n",
    "\n",
    "plt.xlim([-0.1, 1.2])\n",
    "plt.title(\"Probability of Changing Vote Female vs. Male\")\n",
    "plt.grid(linestyle=\"--\")\n",
    "plt.xlabel(\"Probability of Changing Vote\")\n",
    "plt.legend()\n",
    "plt.show()"
   ]
  },
  {
   "cell_type": "code",
   "execution_count": 8,
   "id": "3709af71",
   "metadata": {},
   "outputs": [
    {
     "name": "stdout",
     "output_type": "stream",
     "text": [
      "ShapiroResult(statistic=0.9309669137001038, pvalue=1.571246371745807e-25)\n",
      "ShapiroResult(statistic=0.8170072436332703, pvalue=3.685414961174269e-43)\n"
     ]
    }
   ],
   "source": [
    "# Verificar si los datos siguen una distribución normal usando Shapiro Test.\n",
    "shapiro_test_F = shapiro(fem)\n",
    "shapiro_test_M = shapiro(mas)\n",
    "\n",
    "print(shapiro_test_F)\n",
    "print(shapiro_test_M)"
   ]
  },
  {
   "cell_type": "markdown",
   "id": "88e87016",
   "metadata": {},
   "source": [
    "La hipótesis nula de un test de Shapiro-Wilk es que los datos proceden de una distibución normal. Con un p-valor tan bajo, rechazamos y conlcuímos que es muy improbable que estos sean datos procedentes de una distribución normal.\n",
    "\n",
    "Al parecer, las varianzas de los dos grupos son diferentes para comprobarlo vamos a usar un test de **F de Fisher-Snedecor**:"
   ]
  },
  {
   "cell_type": "code",
   "execution_count": 9,
   "id": "3ff233f3",
   "metadata": {},
   "outputs": [
    {
     "name": "stdout",
     "output_type": "stream",
     "text": [
      "7.34197599232549e-06\n"
     ]
    }
   ],
   "source": [
    "from scipy.stats import f\n",
    "\n",
    "F = np.var(fem) / np.var(mas)\n",
    "df1, df2 = prob_change_by_gender['p_changes_vote']['count'][\n",
    "    MALE] - 1, prob_change_by_gender['p_changes_vote']['count'][FEMALE] - 1\n",
    "p_value = f.cdf(F, df1, df2)\n",
    "\n",
    "print(np.min([p_value, 1. - p_value]))"
   ]
  },
  {
   "cell_type": "markdown",
   "id": "b0faf661",
   "metadata": {},
   "source": [
    "El p-valor nos confirma que son muestras procedentes de poblaciones con varianzas distintas. Ello nos impide realizar un t-test para comparar las medias, así que tendremos que recurrir a un test **U de Mann-Whitney**."
   ]
  },
  {
   "cell_type": "code",
   "execution_count": 10,
   "id": "bfca1f4b",
   "metadata": {},
   "outputs": [
    {
     "data": {
      "text/plain": [
       "MannwhitneyuResult(statistic=1900615.0, pvalue=5.828969320447167e-44)"
      ]
     },
     "execution_count": 10,
     "metadata": {},
     "output_type": "execute_result"
    }
   ],
   "source": [
    "mannwhitneyu(fem, mas)"
   ]
  },
  {
   "cell_type": "markdown",
   "id": "d21f5710",
   "metadata": {},
   "source": [
    "## Parte 3: Análisis de campaña\n",
    "\n",
    "**(a)** Suponiendo que los resultados finales son \n",
    "\n",
    "* partido A -> 38.77%,\n",
    "* partido B -> 15.04%,\n",
    "* partido C -> 29.16%,\n",
    "\n",
    "calcula la probabilidad de que, tomado un voto del partido A, éste provenga de un entrevistado que declaró querer votar al partido A. Haz lo mismo con los partidos B y C."
   ]
  },
  {
   "cell_type": "markdown",
   "id": "744eabc4",
   "metadata": {},
   "source": [
    "Se utiliza teorema de Bayes donde: \n",
    "$$𝑃(𝐵/𝐴)∗𝑃(𝐴)=𝑃(𝐴/𝐵)∗𝑃(𝐵)$$\n",
    "De esta forma:  $$𝑃(𝑣𝑜𝑡e𝐴/say𝐴)∗𝑃(say𝐴)=𝑃(say𝐴/𝑣𝑜𝑡e𝐴)∗𝑃(𝑣𝑜𝑡e𝐴)$$\n",
    "Dado que se quiere calcular $$P(sayA/𝑣𝑜𝑡eA)$$\n",
    "Entonces:  $$𝑃(𝑣𝑜𝑡e𝐴/say𝐴)=(𝑃(𝑣𝑜𝑡e𝐴say𝐴) * 𝑃(𝑣𝑜𝑡e𝐴))/𝑃(say𝐴) $$"
   ]
  },
  {
   "cell_type": "code",
   "execution_count": 11,
   "id": "1e73b0df",
   "metadata": {},
   "outputs": [
    {
     "name": "stdout",
     "output_type": "stream",
     "text": [
      "La probabilidad de voto del partido votes_for_A es: 0.6602\n",
      "La probabilidad de voto del partido votes_for_B es: 0.9818\n",
      "La probabilidad de voto del partido votes_for_C es: 0.6789\n"
     ]
    }
   ],
   "source": [
    "# Resultados finales por partido\n",
    "prob_final_A = 0.3877\n",
    "prob_final_B = 0.1504\n",
    "prob_final_C = 0.2916\n",
    "\n",
    "# New column p_vote_correct.  It calculates the probability of vote for a party giving the probability of changing vote.\n",
    "elections_df['p_vote_correct'] = 1 - elections_df['p_changes_vote']\n",
    "\n",
    "prob_voteA_if_sayA = elections_df[elections_df[\"votes_for_A\"] ==\n",
    "                                  1].p_vote_correct.mean()\n",
    "prob_voteB_if_sayB = elections_df[elections_df[\"votes_for_B\"] ==\n",
    "                                  1].p_vote_correct.mean()\n",
    "prob_voteC_if_sayC = elections_df[elections_df[\"votes_for_C\"] ==\n",
    "                                  1].p_vote_correct.mean()\n",
    "\n",
    "\n",
    "def get_probability(column_name_cond, party_results, prob_real_vote):\n",
    "    # Probabilidad de voto por cada partido\n",
    "    prob_per_party = elections_df.loc[:, [\n",
    "        \"votes_for_A\", \"votes_for_B\", 'votes_for_C'\n",
    "    ]].mean()\n",
    "    prob = (prob_real_vote * prob_per_party[column_name_cond]) / party_results\n",
    "\n",
    "    return print(\"La probabilidad de voto del partido {} es: {}\".format(\n",
    "        column_name_cond, np.round(prob, 4)))\n",
    "\n",
    "\n",
    "p_say_A_if_vote_A = get_probability('votes_for_A', prob_final_A,\n",
    "                                    prob_voteA_if_sayA)\n",
    "p_say_A_if_vote_B = get_probability('votes_for_B', prob_final_B,\n",
    "                                    prob_voteB_if_sayB)\n",
    "p_say_A_if_vote_C = get_probability('votes_for_C', prob_final_C,\n",
    "                                    prob_voteC_if_sayC)"
   ]
  },
  {
   "cell_type": "markdown",
   "id": "6c2c7ca2",
   "metadata": {},
   "source": [
    "**(b)** Suponiendo que el estado reparte 10 millones de euros en subvenciones a cada partido en función de sus resultados electorales y que cada partido invirtió en la campaña las cantidades siguientes\n",
    "\n",
    "* partido A -> 3.8 millones,\n",
    "* partido B -> 1.47 millones,\n",
    "* partido C -> 2.31 millones,\n",
    "\n",
    "calcula cuánto esperaban ganar con las subvenciones y termina deduciendo quién hizo mejor campaña electoral."
   ]
  },
  {
   "cell_type": "code",
   "execution_count": 12,
   "id": "4bf6885c",
   "metadata": {},
   "outputs": [],
   "source": [
    "# El total de subvenciones otorgado por el gobierno\n",
    "subsidized = 10000000\n",
    "\n",
    "# El total del dinero invertido en campana por cada partido\n",
    "investment_a = 3800000\n",
    "investment_b = 1470000\n",
    "investment_c = 2310000\n",
    "\n",
    "# Beneficio tomando la subvencion recibida - la inversión realizada en campana.\n",
    "probA = prob_voteA_if_sayA * prob_per_party[\"votes_for_A\"]\n",
    "probB = prob_voteB_if_sayB * prob_per_party[\"votes_for_B\"]\n",
    "probC = prob_voteC_if_sayC * prob_per_party[\"votes_for_C\"]\n",
    "\n",
    "data = [{\n",
    "    'Partido': 'Partido A',\n",
    "    'Inversion': investment_a,\n",
    "    'Prob. Final': prob_final_A,\n",
    "    'Prob. Encuesta': probA\n",
    "}, {\n",
    "    'Partido': 'Partido B',\n",
    "    'Inversion': investment_b,\n",
    "    'Prob. Final': prob_final_B,\n",
    "    'Prob. Encuesta': probB\n",
    "}, {\n",
    "    'Partido': 'Partido C',\n",
    "    'Inversion': investment_c,\n",
    "    'Prob. Final': prob_final_C,\n",
    "    'Prob. Encuesta': probC\n",
    "}]\n",
    "\n",
    "final_results_df = pd.DataFrame(data, index=['1', '2', '3'])\n",
    "final_results_df[\"Valor Recibido\"] = (subsidized *\n",
    "                                      final_results_df['Prob. Final'])\n",
    "final_results_df[\"Valor Esperado\"] = (subsidized *\n",
    "                                      final_results_df['Prob. Encuesta'])\n",
    "final_results_df[\"Dif. recibido-esperado\"] = final_results_df[\n",
    "    'Valor Recibido'] - final_results_df['Valor Esperado']\n",
    "final_results_df[\"Ganancia Final (Recibido-Inversión)\"] = final_results_df[\n",
    "    'Valor Recibido'] - final_results_df['Inversion']\n",
    "final_results_df.set_index('Partido')\n",
    "final_results_df[\"% (Recibido/Esperado)\"] = ((final_results_df['Valor Recibido']*100)/final_results_df['Valor Esperado'])-100"
   ]
  },
  {
   "cell_type": "markdown",
   "id": "01bdfdd2",
   "metadata": {},
   "source": [
    "## Conclusiones \n",
    "\n",
    "La encuesta electoral fue realizada a 3.500 personas. La población encuestada se divide así: \n",
    "\n",
    "         * Mujeres 1.473 \n",
    "         * Hombres 2.027 \n",
    "               \n",
    "**Interpretación directa de la encuesta** \n",
    "\n",
    "***1.*** La probabilidad de voto por cada partido es:\n",
    "\n",
    "         * Partido A: 0.398 \n",
    "         * Partido B: 0.155 \n",
    "         * Partido C: 0.252\n",
    "         \n",
    "***2.*** La probabilidad de voto en blanco es ó el voto indeciso. \n",
    "\n",
    "         * Indecisos:  0.195 \n",
    "         \n",
    "         \n",
    "***3.*** La probabilidad de voto femenino y masculino se divide de la siguiente manera: \n",
    "\n",
    "        * Probabilidad de voto Femenino es:  0.421\n",
    "        * Probabilidad de voto Masculino es: 0.579\n",
    "        \n",
    "***4.*** La probabilidad de ser mujer y votar por el partido A, B ó C es: \n",
    "\n",
    "        * Partido A: 0.419\n",
    "        * Partido B: 0.496\n",
    "        * Partido C: 0.703        "
   ]
  },
  {
   "cell_type": "markdown",
   "id": "300b63e4",
   "metadata": {},
   "source": [
    "**Volatilidad del voto**\n",
    "\n",
    "***5.*** La probabilidad de cambio de votos por género es la siguiente: \n",
    "   \n",
    "        * Prob. cambio de voto Masculino:  0.177\n",
    "        * Prob. cambio de voto Femenino:   0.240\n",
    "        \n",
    "Según los datos podemos observar que el voto femenino es mas volátil que el voto Masculino, pero para poder contestar esta pregunta debemos realizar un contraste de hipótesis. \n",
    "\n",
    "Primero verificamos que los datos sigan un distribucción normal, para esto hemos utilizado un histograma el cual nos indica que la muestra no sigue una distribucción normal para reforzar esta hipótesis hemos realizado un shapiro test cuyo resultado nos indicó que efectivamente no sigue una distribucción normal.  \n",
    "\n",
    "Por esta razón se escogió el test de U-Whitman para comparar las dos medias y responder a la pregunta **¿Es igual de volátil el voto femenino que el masculino?**. \n",
    "\n",
    "Los planteamientos para el test son los siguientes: \n",
    "\n",
    "$$H_0: \\mu volatilidad voto F  =  \\mu volatilidad voto M \\\\ \n",
    "H_1: \\mu volatilidad voto F  \\neq \\mu volatilidad voto M  \\\\ \n",
    "$$\n",
    "\n",
    "$$\n",
    "\\alpha = 0.05\n",
    "p-value < 0.05 = Rechazar H_0\n",
    "$$\n",
    "\n",
    "El test de U-Whitman nos da como resultado un p-value de **5.828969320447167e-44**, al ser menor que el nivel de significancia de 0.05 podriamos decir que con un riesgo de 5.828969320447167e-44 existe una diferencia entre la volátilidad del voto Femenino y Masculino.  Por lo tanto las diferencias en las medias que hemos observado nos indica que el voto Femenino es más volátil que el voto Masculino. "
   ]
  },
  {
   "cell_type": "markdown",
   "id": "492e04be",
   "metadata": {},
   "source": [
    "***Análisis de campaña***\n",
    "\n",
    "La probabilidad de que un voto del partido A este provenga de un entrevistado que declaró querer votar por el partido A es: \n",
    "          \n",
    "          Partido A: 0.6602\n",
    "\n",
    "La probabilidad de que un voto del partido B provenga de un entrevistado que declaró querer votar por el partido B es: \n",
    "          \n",
    "          Partido B: 0.9818\n",
    "\n",
    "La probabilidad de que un voto del partido C provenga de un entrevistado que declaró querer votar por el partido C es: \n",
    "            \n",
    "          Partido C: 0.6789\n",
    "          \n",
    "**Cuál partido hizo mejor campaña electoral.?**\n",
    "         "
   ]
  },
  {
   "cell_type": "code",
   "execution_count": 13,
   "id": "b241f943",
   "metadata": {},
   "outputs": [
    {
     "data": {
      "text/html": [
       "<div>\n",
       "<style scoped>\n",
       "    .dataframe tbody tr th:only-of-type {\n",
       "        vertical-align: middle;\n",
       "    }\n",
       "\n",
       "    .dataframe tbody tr th {\n",
       "        vertical-align: top;\n",
       "    }\n",
       "\n",
       "    .dataframe thead th {\n",
       "        text-align: right;\n",
       "    }\n",
       "</style>\n",
       "<table border=\"1\" class=\"dataframe\">\n",
       "  <thead>\n",
       "    <tr style=\"text-align: right;\">\n",
       "      <th></th>\n",
       "      <th>Partido</th>\n",
       "      <th>Inversion</th>\n",
       "      <th>Prob. Final</th>\n",
       "      <th>Prob. Encuesta</th>\n",
       "      <th>Valor Recibido</th>\n",
       "      <th>Valor Esperado</th>\n",
       "      <th>Dif. recibido-esperado</th>\n",
       "      <th>Ganancia Final (Recibido-Inversión)</th>\n",
       "      <th>% (Recibido/Esperado)</th>\n",
       "    </tr>\n",
       "  </thead>\n",
       "  <tbody>\n",
       "    <tr>\n",
       "      <th>1</th>\n",
       "      <td>Partido A</td>\n",
       "      <td>3800000</td>\n",
       "      <td>0.3877</td>\n",
       "      <td>0.255944</td>\n",
       "      <td>3877000.0</td>\n",
       "      <td>2.559439e+06</td>\n",
       "      <td>1.317561e+06</td>\n",
       "      <td>77000.0</td>\n",
       "      <td>51.478524</td>\n",
       "    </tr>\n",
       "    <tr>\n",
       "      <th>2</th>\n",
       "      <td>Partido B</td>\n",
       "      <td>1470000</td>\n",
       "      <td>0.1504</td>\n",
       "      <td>0.147659</td>\n",
       "      <td>1504000.0</td>\n",
       "      <td>1.476593e+06</td>\n",
       "      <td>2.740685e+04</td>\n",
       "      <td>34000.0</td>\n",
       "      <td>1.856087</td>\n",
       "    </tr>\n",
       "    <tr>\n",
       "      <th>3</th>\n",
       "      <td>Partido C</td>\n",
       "      <td>2310000</td>\n",
       "      <td>0.2916</td>\n",
       "      <td>0.197966</td>\n",
       "      <td>2916000.0</td>\n",
       "      <td>1.979655e+06</td>\n",
       "      <td>9.363447e+05</td>\n",
       "      <td>606000.0</td>\n",
       "      <td>47.298373</td>\n",
       "    </tr>\n",
       "  </tbody>\n",
       "</table>\n",
       "</div>"
      ],
      "text/plain": [
       "     Partido  Inversion  Prob. Final  Prob. Encuesta  Valor Recibido  \\\n",
       "1  Partido A    3800000       0.3877        0.255944       3877000.0   \n",
       "2  Partido B    1470000       0.1504        0.147659       1504000.0   \n",
       "3  Partido C    2310000       0.2916        0.197966       2916000.0   \n",
       "\n",
       "   Valor Esperado  Dif. recibido-esperado  \\\n",
       "1    2.559439e+06            1.317561e+06   \n",
       "2    1.476593e+06            2.740685e+04   \n",
       "3    1.979655e+06            9.363447e+05   \n",
       "\n",
       "   Ganancia Final (Recibido-Inversión)  % (Recibido/Esperado)  \n",
       "1                              77000.0              51.478524  \n",
       "2                              34000.0               1.856087  \n",
       "3                             606000.0              47.298373  "
      ]
     },
     "execution_count": 13,
     "metadata": {},
     "output_type": "execute_result"
    }
   ],
   "source": [
    "final_results_df.head()"
   ]
  },
  {
   "cell_type": "markdown",
   "id": "f5add7ab",
   "metadata": {},
   "source": [
    "De acuerdo con la información presentada en la tabla podemos concluir lo siguiente: \n",
    "\n",
    "1. El partido A incrementó el valor final esperado en un 51%. \n",
    "2. El partido A fue el partido que invirtió más dinero en la campaña electoral. \n",
    "3. El partido A tenia la probabilidad de voto más alta según las encuestas y fue el partido que obtuvó el mayor porcentaje final de votos. \n",
    "4. El partido C incrementó el valor final esperado en un 47% y fue el partido que mayor ganancia final recibió y el segundo que realizó mayor inversión. \n",
    "\n",
    "Podriamos concluir que los tres partidos realizaron buenas campañas electorales ya que los porcentajes de votantes finales aumentaron con referencia a los valores de la encuesta.  Sin embargo de los tres partidos, el Partido A fue el que mayor aumento de votantes obtuvó ya que pasó de un porcentaje según la encuesta de 25.59% a un resultado final de 38.77%.   Esto le permitió aumentar el valor estimado en un 51.47% y obtener una ganancia final de 77.000 Euros. "
   ]
  }
 ],
 "metadata": {
  "kernelspec": {
   "display_name": "Python 3 (ipykernel)",
   "language": "python",
   "name": "python3"
  },
  "language_info": {
   "codemirror_mode": {
    "name": "ipython",
    "version": 3
   },
   "file_extension": ".py",
   "mimetype": "text/x-python",
   "name": "python",
   "nbconvert_exporter": "python",
   "pygments_lexer": "ipython3",
   "version": "3.9.13"
  },
  "toc": {
   "base_numbering": 1,
   "nav_menu": {},
   "number_sections": true,
   "sideBar": true,
   "skip_h1_title": false,
   "title_cell": "Table of Contents",
   "title_sidebar": "Contents",
   "toc_cell": false,
   "toc_position": {},
   "toc_section_display": true,
   "toc_window_display": false
  },
  "varInspector": {
   "cols": {
    "lenName": 16,
    "lenType": 16,
    "lenVar": 40
   },
   "kernels_config": {
    "python": {
     "delete_cmd_postfix": "",
     "delete_cmd_prefix": "del ",
     "library": "var_list.py",
     "varRefreshCmd": "print(var_dic_list())"
    },
    "r": {
     "delete_cmd_postfix": ") ",
     "delete_cmd_prefix": "rm(",
     "library": "var_list.r",
     "varRefreshCmd": "cat(var_dic_list()) "
    }
   },
   "types_to_exclude": [
    "module",
    "function",
    "builtin_function_or_method",
    "instance",
    "_Feature"
   ],
   "window_display": false
  }
 },
 "nbformat": 4,
 "nbformat_minor": 5
}
