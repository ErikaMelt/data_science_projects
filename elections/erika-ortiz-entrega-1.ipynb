{
  "cells": [
    {
      "cell_type": "markdown",
      "id": "74112e12",
      "metadata": {
        "id": "74112e12"
      },
      "source": [
        "# Problema - ¿Quién ganará las elecciones?  - Distribuccion Binomial\n",
        "\n",
        "Tres partidos se presentan a las elecciones presidenciales de un cierto país. Para conocer el estado de opinión de la población y las expectitivas de cada uno, el gobierno encarga una encuesta electoral a una empresa de sociométrica justo antes de la campaña electoral. También pretenden usar el estudio para conocer quién hace mejor campaña electoral.\n",
        "\n",
        "Carga el fichero `elections.csv` con los resultados de la encuesta. Trataremos de responder a las dos cuestiones."
      ]
    },
    {
      "cell_type": "code",
      "execution_count": 10,
      "id": "adf3bb6b",
      "metadata": {
        "id": "adf3bb6b",
        "outputId": "1735aa72-f039-4906-d45d-a60c38c4c72b",
        "colab": {
          "base_uri": "https://localhost:8080/",
          "height": 74
        }
      },
      "outputs": [
        {
          "output_type": "display_data",
          "data": {
            "text/plain": [
              "<IPython.core.display.HTML object>"
            ],
            "text/html": [
              "\n",
              "     <input type=\"file\" id=\"files-67ba4a0c-871f-43d7-b16c-e9feadcd3c24\" name=\"files[]\" multiple disabled\n",
              "        style=\"border:none\" />\n",
              "     <output id=\"result-67ba4a0c-871f-43d7-b16c-e9feadcd3c24\">\n",
              "      Upload widget is only available when the cell has been executed in the\n",
              "      current browser session. Please rerun this cell to enable.\n",
              "      </output>\n",
              "      <script>// Copyright 2017 Google LLC\n",
              "//\n",
              "// Licensed under the Apache License, Version 2.0 (the \"License\");\n",
              "// you may not use this file except in compliance with the License.\n",
              "// You may obtain a copy of the License at\n",
              "//\n",
              "//      http://www.apache.org/licenses/LICENSE-2.0\n",
              "//\n",
              "// Unless required by applicable law or agreed to in writing, software\n",
              "// distributed under the License is distributed on an \"AS IS\" BASIS,\n",
              "// WITHOUT WARRANTIES OR CONDITIONS OF ANY KIND, either express or implied.\n",
              "// See the License for the specific language governing permissions and\n",
              "// limitations under the License.\n",
              "\n",
              "/**\n",
              " * @fileoverview Helpers for google.colab Python module.\n",
              " */\n",
              "(function(scope) {\n",
              "function span(text, styleAttributes = {}) {\n",
              "  const element = document.createElement('span');\n",
              "  element.textContent = text;\n",
              "  for (const key of Object.keys(styleAttributes)) {\n",
              "    element.style[key] = styleAttributes[key];\n",
              "  }\n",
              "  return element;\n",
              "}\n",
              "\n",
              "// Max number of bytes which will be uploaded at a time.\n",
              "const MAX_PAYLOAD_SIZE = 100 * 1024;\n",
              "\n",
              "function _uploadFiles(inputId, outputId) {\n",
              "  const steps = uploadFilesStep(inputId, outputId);\n",
              "  const outputElement = document.getElementById(outputId);\n",
              "  // Cache steps on the outputElement to make it available for the next call\n",
              "  // to uploadFilesContinue from Python.\n",
              "  outputElement.steps = steps;\n",
              "\n",
              "  return _uploadFilesContinue(outputId);\n",
              "}\n",
              "\n",
              "// This is roughly an async generator (not supported in the browser yet),\n",
              "// where there are multiple asynchronous steps and the Python side is going\n",
              "// to poll for completion of each step.\n",
              "// This uses a Promise to block the python side on completion of each step,\n",
              "// then passes the result of the previous step as the input to the next step.\n",
              "function _uploadFilesContinue(outputId) {\n",
              "  const outputElement = document.getElementById(outputId);\n",
              "  const steps = outputElement.steps;\n",
              "\n",
              "  const next = steps.next(outputElement.lastPromiseValue);\n",
              "  return Promise.resolve(next.value.promise).then((value) => {\n",
              "    // Cache the last promise value to make it available to the next\n",
              "    // step of the generator.\n",
              "    outputElement.lastPromiseValue = value;\n",
              "    return next.value.response;\n",
              "  });\n",
              "}\n",
              "\n",
              "/**\n",
              " * Generator function which is called between each async step of the upload\n",
              " * process.\n",
              " * @param {string} inputId Element ID of the input file picker element.\n",
              " * @param {string} outputId Element ID of the output display.\n",
              " * @return {!Iterable<!Object>} Iterable of next steps.\n",
              " */\n",
              "function* uploadFilesStep(inputId, outputId) {\n",
              "  const inputElement = document.getElementById(inputId);\n",
              "  inputElement.disabled = false;\n",
              "\n",
              "  const outputElement = document.getElementById(outputId);\n",
              "  outputElement.innerHTML = '';\n",
              "\n",
              "  const pickedPromise = new Promise((resolve) => {\n",
              "    inputElement.addEventListener('change', (e) => {\n",
              "      resolve(e.target.files);\n",
              "    });\n",
              "  });\n",
              "\n",
              "  const cancel = document.createElement('button');\n",
              "  inputElement.parentElement.appendChild(cancel);\n",
              "  cancel.textContent = 'Cancel upload';\n",
              "  const cancelPromise = new Promise((resolve) => {\n",
              "    cancel.onclick = () => {\n",
              "      resolve(null);\n",
              "    };\n",
              "  });\n",
              "\n",
              "  // Wait for the user to pick the files.\n",
              "  const files = yield {\n",
              "    promise: Promise.race([pickedPromise, cancelPromise]),\n",
              "    response: {\n",
              "      action: 'starting',\n",
              "    }\n",
              "  };\n",
              "\n",
              "  cancel.remove();\n",
              "\n",
              "  // Disable the input element since further picks are not allowed.\n",
              "  inputElement.disabled = true;\n",
              "\n",
              "  if (!files) {\n",
              "    return {\n",
              "      response: {\n",
              "        action: 'complete',\n",
              "      }\n",
              "    };\n",
              "  }\n",
              "\n",
              "  for (const file of files) {\n",
              "    const li = document.createElement('li');\n",
              "    li.append(span(file.name, {fontWeight: 'bold'}));\n",
              "    li.append(span(\n",
              "        `(${file.type || 'n/a'}) - ${file.size} bytes, ` +\n",
              "        `last modified: ${\n",
              "            file.lastModifiedDate ? file.lastModifiedDate.toLocaleDateString() :\n",
              "                                    'n/a'} - `));\n",
              "    const percent = span('0% done');\n",
              "    li.appendChild(percent);\n",
              "\n",
              "    outputElement.appendChild(li);\n",
              "\n",
              "    const fileDataPromise = new Promise((resolve) => {\n",
              "      const reader = new FileReader();\n",
              "      reader.onload = (e) => {\n",
              "        resolve(e.target.result);\n",
              "      };\n",
              "      reader.readAsArrayBuffer(file);\n",
              "    });\n",
              "    // Wait for the data to be ready.\n",
              "    let fileData = yield {\n",
              "      promise: fileDataPromise,\n",
              "      response: {\n",
              "        action: 'continue',\n",
              "      }\n",
              "    };\n",
              "\n",
              "    // Use a chunked sending to avoid message size limits. See b/62115660.\n",
              "    let position = 0;\n",
              "    do {\n",
              "      const length = Math.min(fileData.byteLength - position, MAX_PAYLOAD_SIZE);\n",
              "      const chunk = new Uint8Array(fileData, position, length);\n",
              "      position += length;\n",
              "\n",
              "      const base64 = btoa(String.fromCharCode.apply(null, chunk));\n",
              "      yield {\n",
              "        response: {\n",
              "          action: 'append',\n",
              "          file: file.name,\n",
              "          data: base64,\n",
              "        },\n",
              "      };\n",
              "\n",
              "      let percentDone = fileData.byteLength === 0 ?\n",
              "          100 :\n",
              "          Math.round((position / fileData.byteLength) * 100);\n",
              "      percent.textContent = `${percentDone}% done`;\n",
              "\n",
              "    } while (position < fileData.byteLength);\n",
              "  }\n",
              "\n",
              "  // All done.\n",
              "  yield {\n",
              "    response: {\n",
              "      action: 'complete',\n",
              "    }\n",
              "  };\n",
              "}\n",
              "\n",
              "scope.google = scope.google || {};\n",
              "scope.google.colab = scope.google.colab || {};\n",
              "scope.google.colab._files = {\n",
              "  _uploadFiles,\n",
              "  _uploadFilesContinue,\n",
              "};\n",
              "})(self);\n",
              "</script> "
            ]
          },
          "metadata": {}
        },
        {
          "output_type": "stream",
          "name": "stdout",
          "text": [
            "Saving elections.csv to elections (1).csv\n"
          ]
        }
      ],
      "source": [
        "from google.colab import files\n",
        "uploaded = files.upload()"
      ]
    },
    {
      "cell_type": "code",
      "execution_count": 11,
      "id": "677b7130",
      "metadata": {
        "id": "677b7130",
        "outputId": "f032963a-6d0f-4f52-860c-5b15f5822629",
        "colab": {
          "base_uri": "https://localhost:8080/",
          "height": 224
        }
      },
      "outputs": [
        {
          "output_type": "stream",
          "name": "stdout",
          "text": [
            "(3500, 6)\n"
          ]
        },
        {
          "output_type": "execute_result",
          "data": {
            "text/plain": [
              "   Unnamed: 0  votes_for_A  votes_for_B  votes_for_C  gender  p_changes_vote\n",
              "0           1            0            1            0       1        0.062710\n",
              "1           2            0            0            1       0        0.409047\n",
              "2           3            0            0            1       1        0.210734\n",
              "3           4            0            0            1       1        0.304020\n",
              "4           5            1            0            0       0        0.317170"
            ],
            "text/html": [
              "\n",
              "  <div id=\"df-f1b2a026-03ef-41bd-90fc-ed2b41a75626\">\n",
              "    <div class=\"colab-df-container\">\n",
              "      <div>\n",
              "<style scoped>\n",
              "    .dataframe tbody tr th:only-of-type {\n",
              "        vertical-align: middle;\n",
              "    }\n",
              "\n",
              "    .dataframe tbody tr th {\n",
              "        vertical-align: top;\n",
              "    }\n",
              "\n",
              "    .dataframe thead th {\n",
              "        text-align: right;\n",
              "    }\n",
              "</style>\n",
              "<table border=\"1\" class=\"dataframe\">\n",
              "  <thead>\n",
              "    <tr style=\"text-align: right;\">\n",
              "      <th></th>\n",
              "      <th>Unnamed: 0</th>\n",
              "      <th>votes_for_A</th>\n",
              "      <th>votes_for_B</th>\n",
              "      <th>votes_for_C</th>\n",
              "      <th>gender</th>\n",
              "      <th>p_changes_vote</th>\n",
              "    </tr>\n",
              "  </thead>\n",
              "  <tbody>\n",
              "    <tr>\n",
              "      <th>0</th>\n",
              "      <td>1</td>\n",
              "      <td>0</td>\n",
              "      <td>1</td>\n",
              "      <td>0</td>\n",
              "      <td>1</td>\n",
              "      <td>0.062710</td>\n",
              "    </tr>\n",
              "    <tr>\n",
              "      <th>1</th>\n",
              "      <td>2</td>\n",
              "      <td>0</td>\n",
              "      <td>0</td>\n",
              "      <td>1</td>\n",
              "      <td>0</td>\n",
              "      <td>0.409047</td>\n",
              "    </tr>\n",
              "    <tr>\n",
              "      <th>2</th>\n",
              "      <td>3</td>\n",
              "      <td>0</td>\n",
              "      <td>0</td>\n",
              "      <td>1</td>\n",
              "      <td>1</td>\n",
              "      <td>0.210734</td>\n",
              "    </tr>\n",
              "    <tr>\n",
              "      <th>3</th>\n",
              "      <td>4</td>\n",
              "      <td>0</td>\n",
              "      <td>0</td>\n",
              "      <td>1</td>\n",
              "      <td>1</td>\n",
              "      <td>0.304020</td>\n",
              "    </tr>\n",
              "    <tr>\n",
              "      <th>4</th>\n",
              "      <td>5</td>\n",
              "      <td>1</td>\n",
              "      <td>0</td>\n",
              "      <td>0</td>\n",
              "      <td>0</td>\n",
              "      <td>0.317170</td>\n",
              "    </tr>\n",
              "  </tbody>\n",
              "</table>\n",
              "</div>\n",
              "      <button class=\"colab-df-convert\" onclick=\"convertToInteractive('df-f1b2a026-03ef-41bd-90fc-ed2b41a75626')\"\n",
              "              title=\"Convert this dataframe to an interactive table.\"\n",
              "              style=\"display:none;\">\n",
              "        \n",
              "  <svg xmlns=\"http://www.w3.org/2000/svg\" height=\"24px\"viewBox=\"0 0 24 24\"\n",
              "       width=\"24px\">\n",
              "    <path d=\"M0 0h24v24H0V0z\" fill=\"none\"/>\n",
              "    <path d=\"M18.56 5.44l.94 2.06.94-2.06 2.06-.94-2.06-.94-.94-2.06-.94 2.06-2.06.94zm-11 1L8.5 8.5l.94-2.06 2.06-.94-2.06-.94L8.5 2.5l-.94 2.06-2.06.94zm10 10l.94 2.06.94-2.06 2.06-.94-2.06-.94-.94-2.06-.94 2.06-2.06.94z\"/><path d=\"M17.41 7.96l-1.37-1.37c-.4-.4-.92-.59-1.43-.59-.52 0-1.04.2-1.43.59L10.3 9.45l-7.72 7.72c-.78.78-.78 2.05 0 2.83L4 21.41c.39.39.9.59 1.41.59.51 0 1.02-.2 1.41-.59l7.78-7.78 2.81-2.81c.8-.78.8-2.07 0-2.86zM5.41 20L4 18.59l7.72-7.72 1.47 1.35L5.41 20z\"/>\n",
              "  </svg>\n",
              "      </button>\n",
              "      \n",
              "  <style>\n",
              "    .colab-df-container {\n",
              "      display:flex;\n",
              "      flex-wrap:wrap;\n",
              "      gap: 12px;\n",
              "    }\n",
              "\n",
              "    .colab-df-convert {\n",
              "      background-color: #E8F0FE;\n",
              "      border: none;\n",
              "      border-radius: 50%;\n",
              "      cursor: pointer;\n",
              "      display: none;\n",
              "      fill: #1967D2;\n",
              "      height: 32px;\n",
              "      padding: 0 0 0 0;\n",
              "      width: 32px;\n",
              "    }\n",
              "\n",
              "    .colab-df-convert:hover {\n",
              "      background-color: #E2EBFA;\n",
              "      box-shadow: 0px 1px 2px rgba(60, 64, 67, 0.3), 0px 1px 3px 1px rgba(60, 64, 67, 0.15);\n",
              "      fill: #174EA6;\n",
              "    }\n",
              "\n",
              "    [theme=dark] .colab-df-convert {\n",
              "      background-color: #3B4455;\n",
              "      fill: #D2E3FC;\n",
              "    }\n",
              "\n",
              "    [theme=dark] .colab-df-convert:hover {\n",
              "      background-color: #434B5C;\n",
              "      box-shadow: 0px 1px 3px 1px rgba(0, 0, 0, 0.15);\n",
              "      filter: drop-shadow(0px 1px 2px rgba(0, 0, 0, 0.3));\n",
              "      fill: #FFFFFF;\n",
              "    }\n",
              "  </style>\n",
              "\n",
              "      <script>\n",
              "        const buttonEl =\n",
              "          document.querySelector('#df-f1b2a026-03ef-41bd-90fc-ed2b41a75626 button.colab-df-convert');\n",
              "        buttonEl.style.display =\n",
              "          google.colab.kernel.accessAllowed ? 'block' : 'none';\n",
              "\n",
              "        async function convertToInteractive(key) {\n",
              "          const element = document.querySelector('#df-f1b2a026-03ef-41bd-90fc-ed2b41a75626');\n",
              "          const dataTable =\n",
              "            await google.colab.kernel.invokeFunction('convertToInteractive',\n",
              "                                                     [key], {});\n",
              "          if (!dataTable) return;\n",
              "\n",
              "          const docLinkHtml = 'Like what you see? Visit the ' +\n",
              "            '<a target=\"_blank\" href=https://colab.research.google.com/notebooks/data_table.ipynb>data table notebook</a>'\n",
              "            + ' to learn more about interactive tables.';\n",
              "          element.innerHTML = '';\n",
              "          dataTable['output_type'] = 'display_data';\n",
              "          await google.colab.output.renderOutput(dataTable, element);\n",
              "          const docLink = document.createElement('div');\n",
              "          docLink.innerHTML = docLinkHtml;\n",
              "          element.appendChild(docLink);\n",
              "        }\n",
              "      </script>\n",
              "    </div>\n",
              "  </div>\n",
              "  "
            ]
          },
          "metadata": {},
          "execution_count": 11
        }
      ],
      "source": [
        "import io\n",
        "import pandas as pd\n",
        "import numpy as np\n",
        "\n",
        "path = io.BytesIO(uploaded['elections.csv'])\n",
        "elections_df = pd.read_csv(path, sep=\",\")\n",
        "print(elections_df.shape)\n",
        "elections_df.head()"
      ]
    },
    {
      "cell_type": "code",
      "source": [
        "elections_df.rename(columns={'Unnamed: 0': 'id'}, inplace=True)\n",
        "elections_df.describe()"
      ],
      "metadata": {
        "id": "ZTfULoUVJF-F",
        "outputId": "95092318-02d3-4fe3-a46e-314d5b4d7fd1",
        "colab": {
          "base_uri": "https://localhost:8080/",
          "height": 300
        }
      },
      "id": "ZTfULoUVJF-F",
      "execution_count": 12,
      "outputs": [
        {
          "output_type": "execute_result",
          "data": {
            "text/plain": [
              "                id  votes_for_A  votes_for_B  votes_for_C       gender  \\\n",
              "count  3500.000000  3500.000000  3500.000000  3500.000000  3500.000000   \n",
              "mean   1750.500000     0.398000     0.155429     0.251714     0.420857   \n",
              "std    1010.507298     0.489555     0.362365     0.434060     0.493767   \n",
              "min       1.000000     0.000000     0.000000     0.000000     0.000000   \n",
              "25%     875.750000     0.000000     0.000000     0.000000     0.000000   \n",
              "50%    1750.500000     0.000000     0.000000     0.000000     0.000000   \n",
              "75%    2625.250000     1.000000     0.000000     1.000000     1.000000   \n",
              "max    3500.000000     1.000000     1.000000     1.000000     1.000000   \n",
              "\n",
              "       p_changes_vote  \n",
              "count     3500.000000  \n",
              "mean         0.203574  \n",
              "std          0.205237  \n",
              "min          0.000000  \n",
              "25%          0.028705  \n",
              "50%          0.144596  \n",
              "75%          0.345611  \n",
              "max          0.988265  "
            ],
            "text/html": [
              "\n",
              "  <div id=\"df-53a405eb-c956-4e58-b15c-df90aa8f1de2\">\n",
              "    <div class=\"colab-df-container\">\n",
              "      <div>\n",
              "<style scoped>\n",
              "    .dataframe tbody tr th:only-of-type {\n",
              "        vertical-align: middle;\n",
              "    }\n",
              "\n",
              "    .dataframe tbody tr th {\n",
              "        vertical-align: top;\n",
              "    }\n",
              "\n",
              "    .dataframe thead th {\n",
              "        text-align: right;\n",
              "    }\n",
              "</style>\n",
              "<table border=\"1\" class=\"dataframe\">\n",
              "  <thead>\n",
              "    <tr style=\"text-align: right;\">\n",
              "      <th></th>\n",
              "      <th>id</th>\n",
              "      <th>votes_for_A</th>\n",
              "      <th>votes_for_B</th>\n",
              "      <th>votes_for_C</th>\n",
              "      <th>gender</th>\n",
              "      <th>p_changes_vote</th>\n",
              "    </tr>\n",
              "  </thead>\n",
              "  <tbody>\n",
              "    <tr>\n",
              "      <th>count</th>\n",
              "      <td>3500.000000</td>\n",
              "      <td>3500.000000</td>\n",
              "      <td>3500.000000</td>\n",
              "      <td>3500.000000</td>\n",
              "      <td>3500.000000</td>\n",
              "      <td>3500.000000</td>\n",
              "    </tr>\n",
              "    <tr>\n",
              "      <th>mean</th>\n",
              "      <td>1750.500000</td>\n",
              "      <td>0.398000</td>\n",
              "      <td>0.155429</td>\n",
              "      <td>0.251714</td>\n",
              "      <td>0.420857</td>\n",
              "      <td>0.203574</td>\n",
              "    </tr>\n",
              "    <tr>\n",
              "      <th>std</th>\n",
              "      <td>1010.507298</td>\n",
              "      <td>0.489555</td>\n",
              "      <td>0.362365</td>\n",
              "      <td>0.434060</td>\n",
              "      <td>0.493767</td>\n",
              "      <td>0.205237</td>\n",
              "    </tr>\n",
              "    <tr>\n",
              "      <th>min</th>\n",
              "      <td>1.000000</td>\n",
              "      <td>0.000000</td>\n",
              "      <td>0.000000</td>\n",
              "      <td>0.000000</td>\n",
              "      <td>0.000000</td>\n",
              "      <td>0.000000</td>\n",
              "    </tr>\n",
              "    <tr>\n",
              "      <th>25%</th>\n",
              "      <td>875.750000</td>\n",
              "      <td>0.000000</td>\n",
              "      <td>0.000000</td>\n",
              "      <td>0.000000</td>\n",
              "      <td>0.000000</td>\n",
              "      <td>0.028705</td>\n",
              "    </tr>\n",
              "    <tr>\n",
              "      <th>50%</th>\n",
              "      <td>1750.500000</td>\n",
              "      <td>0.000000</td>\n",
              "      <td>0.000000</td>\n",
              "      <td>0.000000</td>\n",
              "      <td>0.000000</td>\n",
              "      <td>0.144596</td>\n",
              "    </tr>\n",
              "    <tr>\n",
              "      <th>75%</th>\n",
              "      <td>2625.250000</td>\n",
              "      <td>1.000000</td>\n",
              "      <td>0.000000</td>\n",
              "      <td>1.000000</td>\n",
              "      <td>1.000000</td>\n",
              "      <td>0.345611</td>\n",
              "    </tr>\n",
              "    <tr>\n",
              "      <th>max</th>\n",
              "      <td>3500.000000</td>\n",
              "      <td>1.000000</td>\n",
              "      <td>1.000000</td>\n",
              "      <td>1.000000</td>\n",
              "      <td>1.000000</td>\n",
              "      <td>0.988265</td>\n",
              "    </tr>\n",
              "  </tbody>\n",
              "</table>\n",
              "</div>\n",
              "      <button class=\"colab-df-convert\" onclick=\"convertToInteractive('df-53a405eb-c956-4e58-b15c-df90aa8f1de2')\"\n",
              "              title=\"Convert this dataframe to an interactive table.\"\n",
              "              style=\"display:none;\">\n",
              "        \n",
              "  <svg xmlns=\"http://www.w3.org/2000/svg\" height=\"24px\"viewBox=\"0 0 24 24\"\n",
              "       width=\"24px\">\n",
              "    <path d=\"M0 0h24v24H0V0z\" fill=\"none\"/>\n",
              "    <path d=\"M18.56 5.44l.94 2.06.94-2.06 2.06-.94-2.06-.94-.94-2.06-.94 2.06-2.06.94zm-11 1L8.5 8.5l.94-2.06 2.06-.94-2.06-.94L8.5 2.5l-.94 2.06-2.06.94zm10 10l.94 2.06.94-2.06 2.06-.94-2.06-.94-.94-2.06-.94 2.06-2.06.94z\"/><path d=\"M17.41 7.96l-1.37-1.37c-.4-.4-.92-.59-1.43-.59-.52 0-1.04.2-1.43.59L10.3 9.45l-7.72 7.72c-.78.78-.78 2.05 0 2.83L4 21.41c.39.39.9.59 1.41.59.51 0 1.02-.2 1.41-.59l7.78-7.78 2.81-2.81c.8-.78.8-2.07 0-2.86zM5.41 20L4 18.59l7.72-7.72 1.47 1.35L5.41 20z\"/>\n",
              "  </svg>\n",
              "      </button>\n",
              "      \n",
              "  <style>\n",
              "    .colab-df-container {\n",
              "      display:flex;\n",
              "      flex-wrap:wrap;\n",
              "      gap: 12px;\n",
              "    }\n",
              "\n",
              "    .colab-df-convert {\n",
              "      background-color: #E8F0FE;\n",
              "      border: none;\n",
              "      border-radius: 50%;\n",
              "      cursor: pointer;\n",
              "      display: none;\n",
              "      fill: #1967D2;\n",
              "      height: 32px;\n",
              "      padding: 0 0 0 0;\n",
              "      width: 32px;\n",
              "    }\n",
              "\n",
              "    .colab-df-convert:hover {\n",
              "      background-color: #E2EBFA;\n",
              "      box-shadow: 0px 1px 2px rgba(60, 64, 67, 0.3), 0px 1px 3px 1px rgba(60, 64, 67, 0.15);\n",
              "      fill: #174EA6;\n",
              "    }\n",
              "\n",
              "    [theme=dark] .colab-df-convert {\n",
              "      background-color: #3B4455;\n",
              "      fill: #D2E3FC;\n",
              "    }\n",
              "\n",
              "    [theme=dark] .colab-df-convert:hover {\n",
              "      background-color: #434B5C;\n",
              "      box-shadow: 0px 1px 3px 1px rgba(0, 0, 0, 0.15);\n",
              "      filter: drop-shadow(0px 1px 2px rgba(0, 0, 0, 0.3));\n",
              "      fill: #FFFFFF;\n",
              "    }\n",
              "  </style>\n",
              "\n",
              "      <script>\n",
              "        const buttonEl =\n",
              "          document.querySelector('#df-53a405eb-c956-4e58-b15c-df90aa8f1de2 button.colab-df-convert');\n",
              "        buttonEl.style.display =\n",
              "          google.colab.kernel.accessAllowed ? 'block' : 'none';\n",
              "\n",
              "        async function convertToInteractive(key) {\n",
              "          const element = document.querySelector('#df-53a405eb-c956-4e58-b15c-df90aa8f1de2');\n",
              "          const dataTable =\n",
              "            await google.colab.kernel.invokeFunction('convertToInteractive',\n",
              "                                                     [key], {});\n",
              "          if (!dataTable) return;\n",
              "\n",
              "          const docLinkHtml = 'Like what you see? Visit the ' +\n",
              "            '<a target=\"_blank\" href=https://colab.research.google.com/notebooks/data_table.ipynb>data table notebook</a>'\n",
              "            + ' to learn more about interactive tables.';\n",
              "          element.innerHTML = '';\n",
              "          dataTable['output_type'] = 'display_data';\n",
              "          await google.colab.output.renderOutput(dataTable, element);\n",
              "          const docLink = document.createElement('div');\n",
              "          docLink.innerHTML = docLinkHtml;\n",
              "          element.appendChild(docLink);\n",
              "        }\n",
              "      </script>\n",
              "    </div>\n",
              "  </div>\n",
              "  "
            ]
          },
          "metadata": {},
          "execution_count": 12
        }
      ]
    },
    {
      "cell_type": "code",
      "execution_count": 26,
      "id": "c3f0df62",
      "metadata": {
        "id": "c3f0df62",
        "outputId": "0d452948-dbd8-421e-f1b5-bd2821c9f78b",
        "colab": {
          "base_uri": "https://localhost:8080/"
        }
      },
      "outputs": [
        {
          "output_type": "stream",
          "name": "stdout",
          "text": [
            "<class 'pandas.core.frame.DataFrame'>\n",
            "RangeIndex: 3500 entries, 0 to 3499\n",
            "Data columns (total 7 columns):\n",
            " #   Column          Non-Null Count  Dtype  \n",
            "---  ------          --------------  -----  \n",
            " 0   id              3500 non-null   int64  \n",
            " 1   votes_for_A     3500 non-null   int64  \n",
            " 2   votes_for_B     3500 non-null   int64  \n",
            " 3   votes_for_C     3500 non-null   int64  \n",
            " 4   gender          3500 non-null   int64  \n",
            " 5   p_changes_vote  3500 non-null   float64\n",
            " 6   p_vote_correct  3500 non-null   float64\n",
            "dtypes: float64(2), int64(5)\n",
            "memory usage: 191.5 KB\n"
          ]
        }
      ],
      "source": [
        "# Veamos las variables categóricas y las numéricas\n",
        "elections_df.info()"
      ]
    },
    {
      "cell_type": "markdown",
      "source": [
        "**Observaciones:**\n",
        "\n",
        "\n",
        "*   La información recolectada por la empresa de sociométrica contiene 3500 filas y 6 columnas.\n",
        "*   Todas las columnas en el dataset son de tipo númerico no tenemos ninguna variable categórica. \n",
        "*   Para las columnas ***votes_for_A, votes_for_B y votes_for_C***, los valores corresponden a:  0=No votarian y 1=Si votarian. \n",
        "*   La columna ***gender *** contiene dos valores 1 y 0 que corresponden a 1=Female y 0=Male. \n",
        "*   La columna ***p_changes_vote*** contiene la probabilidad de cambio de voto de los encuestados. \n",
        "*   El dataset se encuentra balanceado  y no se observan columnas con valores faltantes. "
      ],
      "metadata": {
        "id": "CjBIkHdJKW3b"
      },
      "id": "CjBIkHdJKW3b"
    },
    {
      "cell_type": "markdown",
      "id": "86960806",
      "metadata": {
        "id": "86960806"
      },
      "source": [
        "## Parte 1: Interpretación directa de la encuesta\n",
        "\n",
        "Basándote únicamente en lo declarado por los entrevistados.  \n",
        "\n",
        "### Calcula las probabilidades de voto de cada uno de los partidos. \n",
        "Para cada partido, (casos posibles / total casos) \n",
        "\n"
      ]
    },
    {
      "cell_type": "code",
      "execution_count": 35,
      "id": "fc99b311",
      "metadata": {
        "id": "fc99b311"
      },
      "outputs": [],
      "source": [
        "# Constants\n",
        "TOTAL_PEOPLE_IN_SURVEY = len(elections_df)\n",
        "FEMALE = 1\n",
        "MALE = 0"
      ]
    },
    {
      "cell_type": "code",
      "execution_count": 36,
      "id": "8689951d",
      "metadata": {
        "id": "8689951d",
        "outputId": "88ea9e8c-0614-4088-9317-35c3d77461fd",
        "colab": {
          "base_uri": "https://localhost:8080/"
        }
      },
      "outputs": [
        {
          "output_type": "stream",
          "name": "stdout",
          "text": [
            "votes_for_A    0.398\n",
            "votes_for_B    0.155\n",
            "votes_for_C    0.252\n",
            "dtype: float64\n",
            "0.195\n"
          ]
        }
      ],
      "source": [
        "# Probabilidad de voto por cada partido (casos posibles / total casos)\n",
        "prob_per_party = elections_df.loc[:, [\n",
        "    \"votes_for_A\", \"votes_for_B\", 'votes_for_C'\n",
        "]].mean()\n",
        "\n",
        "# Probabilidad del voto indeciso, personas que fueron encuestadas y no van a votar por el partido A, B ó C.\n",
        "total_undecided = elections_df.loc[(elections_df[\"votes_for_A\"] == 0)\n",
        "                                   & (elections_df[\"votes_for_B\"] == 0)\n",
        "                                   & (elections_df[\"votes_for_C\"] == 0),\n",
        "                                   [\"id\"]].count().mean()\n",
        "\n",
        "prob_undecided = total_undecided / TOTAL_PEOPLE_IN_SURVEY\n",
        "\n",
        "print(np.round(prob_per_party, 3))\n",
        "print(np.round(prob_undecided, 3))"
      ]
    },
    {
      "cell_type": "markdown",
      "id": "2123127a",
      "metadata": {
        "id": "2123127a"
      },
      "source": [
        "### Calcula la probabilidad de voto si se es mujer o si se es hombre. (Probabilidad condicionado que es mujer, y condicionado que es hombre)\n"
      ]
    },
    {
      "cell_type": "code",
      "execution_count": 37,
      "id": "876f092d",
      "metadata": {
        "id": "876f092d",
        "outputId": "e847cfa9-c410-462c-d1ba-8e85376d237a",
        "colab": {
          "base_uri": "https://localhost:8080/"
        }
      },
      "outputs": [
        {
          "output_type": "stream",
          "name": "stdout",
          "text": [
            "gender\n",
            "0    2027\n",
            "1    1473\n",
            "Name: id, dtype: int64\n",
            "Probabilidad de voto Femenino es: \n",
            "0.421\n",
            "Probabilidad de voto Masculino es: \n",
            "0.579\n"
          ]
        }
      ],
      "source": [
        "def calculate_mean(conditional_col, condition_value):\n",
        "    mean = len(elections_df.loc[(elections_df[conditional_col]\n",
        "                                 == condition_value)]) / TOTAL_PEOPLE_IN_SURVEY\n",
        "    return mean\n",
        "\n",
        "\n",
        "qty_persons_by_gender = elections_df.groupby('gender').id.count()\n",
        "print(qty_persons_by_gender)\n",
        "\n",
        "# Probabilidad de voto por partido si es Mujer\n",
        "prob_female = calculate_mean('gender', FEMALE)\n",
        "print(\"Probabilidad de voto Femenino es: \\n{0}\".format(np.round(\n",
        "    prob_female, 3)))\n",
        "\n",
        "# Probabilidad de voto por partido si es Hombre\n",
        "prob_male = calculate_mean('gender', MALE)\n",
        "print(\"Probabilidad de voto Masculino es: \\n{0}\".format(np.round(prob_male,\n",
        "                                                                 3)))"
      ]
    },
    {
      "cell_type": "markdown",
      "id": "c10d74c5",
      "metadata": {
        "id": "c10d74c5"
      },
      "source": [
        "\n",
        "### Tomando un voto del partido A al azar, ¿cuál es la probabilidad de que provenga de una mujer? ¿Y si el voto es del partido C? (Probabilidad de ser mujer condicionado a que haz votado al partido A) "
      ]
    },
    {
      "cell_type": "code",
      "execution_count": 38,
      "id": "59726504",
      "metadata": {
        "id": "59726504",
        "outputId": "ad17077b-f182-4688-d220-fa67414f312a",
        "colab": {
          "base_uri": "https://localhost:8080/"
        }
      },
      "outputs": [
        {
          "output_type": "stream",
          "name": "stdout",
          "text": [
            "La probabilidad de que un voto del partido A provenga de una mujer es: 0.419\n",
            "La probabilidad de que un voto del partido B provenga de una mujer es: 0.496\n",
            "La probabilidad de que un voto del partido C provenga de una mujer es: 0.703\n"
          ]
        }
      ],
      "source": [
        "prob_vote_fem_a = elections_df[\n",
        "    (elections_df.gender == FEMALE)\n",
        "    & (elections_df.votes_for_A == 1)].id.count() / TOTAL_PEOPLE_IN_SURVEY\n",
        "\n",
        "prob_vote_fem_c = elections_df[\n",
        "    (elections_df.gender == FEMALE)\n",
        "    & (elections_df.votes_for_C == 1)].id.count() / TOTAL_PEOPLE_IN_SURVEY\n",
        "\n",
        "prob_vote_fem_b = elections_df[\n",
        "    (elections_df.gender == FEMALE)\n",
        "    & (elections_df.votes_for_B == 1)].id.count() / TOTAL_PEOPLE_IN_SURVEY\n",
        "\n",
        "prob_vote_fem_a = elections_df[(\n",
        "    elections_df.votes_for_A == FEMALE)].gender.mean()\n",
        "prob_vote_fem_c = elections_df[(\n",
        "    elections_df.votes_for_C == FEMALE)].gender.mean()\n",
        "prob_vote_fem_b = elections_df[(\n",
        "    elections_df.votes_for_B == FEMALE)].gender.mean()\n",
        "\n",
        "print(\n",
        "    \"La probabilidad de que un voto del partido A provenga de una mujer es: {}\"\n",
        "    .format(np.round(prob_vote_fem_a, 3)))\n",
        "print(\n",
        "    \"La probabilidad de que un voto del partido B provenga de una mujer es: {}\"\n",
        "    .format(np.round(prob_vote_fem_b, 3)))\n",
        "print(\n",
        "    \"La probabilidad de que un voto del partido C provenga de una mujer es: {}\"\n",
        "    .format(np.round(prob_vote_fem_c, 3)))"
      ]
    },
    {
      "cell_type": "markdown",
      "id": "767de09d",
      "metadata": {
        "id": "767de09d"
      },
      "source": [
        "## Parte 2: Volatilidad del voto\n",
        "\n",
        "La columna `p_changes_vote` muestra la probabilidad de que el encuestado termine votando algo distinto a lo declarado. Úsala para determinar la fiabilidad de la encuesta. ¿Es igual de volátil el voto femenino que el masculino?\n",
        "\n",
        "(La volatilidad del voto)"
      ]
    },
    {
      "cell_type": "code",
      "execution_count": 18,
      "id": "d7759ad4",
      "metadata": {
        "id": "d7759ad4",
        "outputId": "aa91296b-8dcd-4da0-e07a-cab8a3b40e31",
        "colab": {
          "base_uri": "https://localhost:8080/"
        }
      },
      "outputs": [
        {
          "output_type": "stream",
          "name": "stdout",
          "text": [
            "       p_changes_vote                          \n",
            "                 mean count    median       std\n",
            "gender                                         \n",
            "0            0.176870  2027  0.059068  0.211409\n",
            "1            0.240321  1473  0.215052  0.190467\n"
          ]
        }
      ],
      "source": [
        "import matplotlib.pyplot as plt\n",
        "import scipy.stats as stats\n",
        "from scipy.stats import shapiro\n",
        "from scipy.stats import mannwhitneyu\n",
        "\n",
        "# Calculate mean of p_changes column grouped by gender\n",
        "prob_change_by_gender = elections_df.groupby('gender').agg(\n",
        "    {'p_changes_vote': ['mean', 'count', 'median', 'std']})\n",
        "print(prob_change_by_gender)"
      ]
    },
    {
      "cell_type": "markdown",
      "id": "fb315b08",
      "metadata": {
        "id": "fb315b08"
      },
      "source": [
        "Para la pregunta es: ¿Es igual de volátil el voto femenino que el masculino? podemos concluir que no podemos responder con base en los valores promedios obtenidos sin antes hacer un constraste de hipótesis. \n",
        "\n",
        "Si graficamos los datos de probabilidad de cambio de voto, podemos observar que de acuerdo al gráfico los datos no parecen que provengan de una distribucción normal pero podemos aplicar un test de shapiro para confirmar esta hipótesis. "
      ]
    },
    {
      "cell_type": "code",
      "execution_count": 19,
      "id": "8f726aa2",
      "metadata": {
        "id": "8f726aa2",
        "outputId": "e21e9010-bfd8-49aa-fd35-c40900591944",
        "colab": {
          "base_uri": "https://localhost:8080/",
          "height": 350
        }
      },
      "outputs": [
        {
          "output_type": "display_data",
          "data": {
            "text/plain": [
              "<Figure size 576x360 with 1 Axes>"
            ],
            "image/png": "[encoded data removed]"
          },
          "metadata": {
            "needs_background": "light"
          }
        }
      ],
      "source": [
        "#Get dataframes by gender for p-changes_vote column\n",
        "fem = elections_df[elections_df['gender'] == FEMALE]['p_changes_vote']\n",
        "mas = elections_df[elections_df['gender'] == MALE]['p_changes_vote']\n",
        "\n",
        "plt.figure(figsize=(8, 5))\n",
        "bins = np.linspace(-10, 10, 200)\n",
        "plt.hist(fem, bins=bins, alpha=0.2, label=\"p_changes_F\", color=['yellow'])\n",
        "plt.axvline(fem.mean(), linestyle=\"--\", color='y', linewidth=2)\n",
        "\n",
        "plt.hist(mas, bins=bins, alpha=0.5, label=\"p_changes_M\", color=['blue'])\n",
        "plt.axvline(mas.mean(), linestyle=\"--\", color='b', linewidth=2)\n",
        "\n",
        "plt.xlim([-0.1, 1.2])\n",
        "plt.title(\"Probability of Changing Vote Female vs. Male\")\n",
        "plt.grid(linestyle=\"--\")\n",
        "plt.xlabel(\"Probability of Changing Vote\")\n",
        "plt.legend()\n",
        "plt.show()"
      ]
    },
    {
      "cell_type": "code",
      "execution_count": 20,
      "id": "3709af71",
      "metadata": {
        "id": "3709af71",
        "outputId": "621b8616-9626-4a29-dde6-06768f1ab7f2",
        "colab": {
          "base_uri": "https://localhost:8080/"
        }
      },
      "outputs": [
        {
          "output_type": "stream",
          "name": "stdout",
          "text": [
            "ShapiroResult(statistic=0.9309672713279724, pvalue=1.5714347122869286e-25)\n",
            "ShapiroResult(statistic=0.8170072436332703, pvalue=3.685414961174269e-43)\n"
          ]
        }
      ],
      "source": [
        "# Verificar si los datos siguen una distribución normal usando Shapiro Test.\n",
        "shapiro_test_F = shapiro(fem)\n",
        "shapiro_test_M = shapiro(mas)\n",
        "\n",
        "print(shapiro_test_F)\n",
        "print(shapiro_test_M)"
      ]
    },
    {
      "cell_type": "markdown",
      "id": "88e87016",
      "metadata": {
        "id": "88e87016"
      },
      "source": [
        "La hipótesis nula de un test de Shapiro-Wilk es que los datos proceden de una distibución normal. Con un p-valor tan bajo, rechazamos y conlcuímos que es muy improbable que estos sean datos procedentes de una distribución normal.\n",
        "\n",
        "Al parecer, las varianzas de los dos grupos son diferentes para comprobarlo vamos a usar un test de **F de Fisher-Snedecor**:"
      ]
    },
    {
      "cell_type": "code",
      "execution_count": 21,
      "id": "3ff233f3",
      "metadata": {
        "id": "3ff233f3",
        "outputId": "ce3aa413-9d2f-424b-f274-f38676674186",
        "colab": {
          "base_uri": "https://localhost:8080/"
        }
      },
      "outputs": [
        {
          "output_type": "stream",
          "name": "stdout",
          "text": [
            "7.341975992327276e-06\n"
          ]
        }
      ],
      "source": [
        "from scipy.stats import f\n",
        "\n",
        "F = np.var(fem) / np.var(mas)\n",
        "df1, df2 = prob_change_by_gender['p_changes_vote']['count'][\n",
        "    MALE] - 1, prob_change_by_gender['p_changes_vote']['count'][FEMALE] - 1\n",
        "p_value = f.cdf(F, df1, df2)\n",
        "\n",
        "print(np.min([p_value, 1. - p_value]))"
      ]
    },
    {
      "cell_type": "markdown",
      "id": "b0faf661",
      "metadata": {
        "id": "b0faf661"
      },
      "source": [
        "El p-valor nos confirma que son muestras procedentes de poblaciones con varianzas distintas. Ello nos impide realizar un t-test para comparar las medias, así que tendremos que recurrir a un test **U de Mann-Whitney**."
      ]
    },
    {
      "cell_type": "code",
      "execution_count": 22,
      "id": "bfca1f4b",
      "metadata": {
        "id": "bfca1f4b",
        "outputId": "97354ab7-0d41-49b0-8a0e-5b55e5a7ea5c",
        "colab": {
          "base_uri": "https://localhost:8080/"
        }
      },
      "outputs": [
        {
          "output_type": "execute_result",
          "data": {
            "text/plain": [
              "MannwhitneyuResult(statistic=1900615.0, pvalue=5.828969320447167e-44)"
            ]
          },
          "metadata": {},
          "execution_count": 22
        }
      ],
      "source": [
        "mannwhitneyu(fem, mas)"
      ]
    },
    {
      "cell_type": "markdown",
      "id": "d21f5710",
      "metadata": {
        "id": "d21f5710"
      },
      "source": [
        "## Parte 3: Análisis de campaña\n",
        "\n",
        "**(a)** Suponiendo que los resultados finales son \n",
        "\n",
        "* partido A -> 38.77%,\n",
        "* partido B -> 15.04%,\n",
        "* partido C -> 29.16%,\n",
        "\n",
        "calcula la probabilidad de que, tomado un voto del partido A, éste provenga de un entrevistado que declaró querer votar al partido A. Haz lo mismo con los partidos B y C."
      ]
    },
    {
      "cell_type": "markdown",
      "id": "744eabc4",
      "metadata": {
        "id": "744eabc4"
      },
      "source": [
        "Se utiliza teorema de Bayes donde: \n",
        "$$𝑃(𝐵/𝐴)∗𝑃(𝐴)=𝑃(𝐴/𝐵)∗𝑃(𝐵)$$\n",
        "De esta forma:  $$𝑃(𝑣𝑜𝑡e𝐴/say𝐴)∗𝑃(say𝐴)=𝑃(say𝐴/𝑣𝑜𝑡e𝐴)∗𝑃(𝑣𝑜𝑡e𝐴)$$\n",
        "Dado que se quiere calcular $$P(sayA/𝑣𝑜𝑡eA)$$\n",
        "Entonces:  $$𝑃(𝑣𝑜𝑡e𝐴/say𝐴)=(𝑃(𝑣𝑜𝑡e𝐴say𝐴) * 𝑃(𝑣𝑜𝑡e𝐴))/𝑃(say𝐴) $$"
      ]
    },
    {
      "cell_type": "code",
      "execution_count": 39,
      "id": "1e73b0df",
      "metadata": {
        "id": "1e73b0df",
        "outputId": "53296ff4-73f9-47d9-ddd1-6f6e4631fecd",
        "colab": {
          "base_uri": "https://localhost:8080/"
        }
      },
      "outputs": [
        {
          "output_type": "stream",
          "name": "stdout",
          "text": [
            "La probabilidad de voto del partido votes_for_A es: 0.6602\n",
            "La probabilidad de voto del partido votes_for_B es: 0.9818\n",
            "La probabilidad de voto del partido votes_for_C es: 0.6789\n"
          ]
        }
      ],
      "source": [
        "# Resultados finales por partido\n",
        "prob_final_A = 0.3877\n",
        "prob_final_B = 0.1504\n",
        "prob_final_C = 0.2916\n",
        "\n",
        "# New column p_vote_correct.  It calculates the probability of vote for a party giving the probability of changing vote.\n",
        "elections_df['p_vote_correct'] = 1 - elections_df['p_changes_vote']\n",
        "\n",
        "prob_voteA_if_sayA = elections_df[elections_df[\"votes_for_A\"] ==\n",
        "                                  1].p_vote_correct.mean()\n",
        "prob_voteB_if_sayB = elections_df[elections_df[\"votes_for_B\"] ==\n",
        "                                  1].p_vote_correct.mean()\n",
        "prob_voteC_if_sayC = elections_df[elections_df[\"votes_for_C\"] ==\n",
        "                                  1].p_vote_correct.mean()\n",
        "\n",
        "\n",
        "def get_probability(column_name_cond, party_results, prob_real_vote):\n",
        "    # Probabilidad de voto por cada partido\n",
        "    prob_per_party = elections_df.loc[:, [\n",
        "        \"votes_for_A\", \"votes_for_B\", 'votes_for_C'\n",
        "    ]].mean()\n",
        "    prob = (prob_real_vote * prob_per_party[column_name_cond]) / party_results\n",
        "\n",
        "    return print(\"La probabilidad de voto del partido {} es: {}\".format(\n",
        "        column_name_cond, np.round(prob, 4)))\n",
        "\n",
        "\n",
        "p_say_A_if_vote_A = get_probability('votes_for_A', prob_final_A,\n",
        "                                    prob_voteA_if_sayA)\n",
        "p_say_A_if_vote_B = get_probability('votes_for_B', prob_final_B,\n",
        "                                    prob_voteB_if_sayB)\n",
        "p_say_A_if_vote_C = get_probability('votes_for_C', prob_final_C,\n",
        "                                    prob_voteC_if_sayC)"
      ]
    },
    {
      "cell_type": "markdown",
      "id": "6c2c7ca2",
      "metadata": {
        "id": "6c2c7ca2"
      },
      "source": [
        "**(b)** Suponiendo que el estado reparte 10 millones de euros en subvenciones a cada partido en función de sus resultados electorales y que cada partido invirtió en la campaña las cantidades siguientes\n",
        "\n",
        "* partido A -> 3.8 millones,\n",
        "* partido B -> 1.47 millones,\n",
        "* partido C -> 2.31 millones,\n",
        "\n",
        "calcula cuánto esperaban ganar con las subvenciones y termina deduciendo quién hizo mejor campaña electoral."
      ]
    },
    {
      "cell_type": "code",
      "execution_count": 40,
      "id": "4bf6885c",
      "metadata": {
        "id": "4bf6885c"
      },
      "outputs": [],
      "source": [
        "# El total de subvenciones otorgado por el gobierno\n",
        "subsidized = 10000000\n",
        "\n",
        "# El total del dinero invertido en campana por cada partido\n",
        "investment_a = 3800000\n",
        "investment_b = 1470000\n",
        "investment_c = 2310000\n",
        "\n",
        "# Beneficio tomando la subvencion recibida - la inversión realizada en campana.\n",
        "probA = prob_voteA_if_sayA * prob_per_party[\"votes_for_A\"]\n",
        "probB = prob_voteB_if_sayB * prob_per_party[\"votes_for_B\"]\n",
        "probC = prob_voteC_if_sayC * prob_per_party[\"votes_for_C\"]\n",
        "\n",
        "data = [{\n",
        "    'Partido': 'Partido A',\n",
        "    'Inversion': investment_a,\n",
        "    'Prob. Final': prob_final_A,\n",
        "    'Prob. Encuesta': probA\n",
        "}, {\n",
        "    'Partido': 'Partido B',\n",
        "    'Inversion': investment_b,\n",
        "    'Prob. Final': prob_final_B,\n",
        "    'Prob. Encuesta': probB\n",
        "}, {\n",
        "    'Partido': 'Partido C',\n",
        "    'Inversion': investment_c,\n",
        "    'Prob. Final': prob_final_C,\n",
        "    'Prob. Encuesta': probC\n",
        "}]\n",
        "\n",
        "final_results_df = pd.DataFrame(data, index=['1', '2', '3'])\n",
        "final_results_df[\"Valor Recibido\"] = (subsidized *\n",
        "                                      final_results_df['Prob. Final'])\n",
        "final_results_df[\"Valor Esperado\"] = (subsidized *\n",
        "                                      final_results_df['Prob. Encuesta'])\n",
        "final_results_df[\"Dif. recibido-esperado\"] = final_results_df[\n",
        "    'Valor Recibido'] - final_results_df['Valor Esperado']\n",
        "final_results_df[\"Ganancia Final (Recibido-Inversión)\"] = final_results_df[\n",
        "    'Valor Recibido'] - final_results_df['Inversion']\n",
        "final_results_df.set_index('Partido')\n",
        "final_results_df[\"% (Recibido/Esperado)\"] = ((final_results_df['Valor Recibido']*100)/final_results_df['Valor Esperado'])-100"
      ]
    },
    {
      "cell_type": "markdown",
      "id": "01bdfdd2",
      "metadata": {
        "id": "01bdfdd2"
      },
      "source": [
        "## Conclusiones \n",
        "\n",
        "La encuesta electoral fue realizada a 3.500 personas. La población encuestada se divide así: \n",
        "\n",
        "         * Mujeres 1.473 \n",
        "         * Hombres 2.027 \n",
        "               \n",
        "**Interpretación directa de la encuesta** \n",
        "\n",
        "***1.*** La probabilidad de voto por cada partido es:\n",
        "\n",
        "         * Partido A: 0.398 \n",
        "         * Partido B: 0.155 \n",
        "         * Partido C: 0.252\n",
        "         \n",
        "***2.*** La probabilidad de voto en blanco es ó el voto indeciso. \n",
        "\n",
        "         * Indecisos:  0.195 \n",
        "         \n",
        "         \n",
        "***3.*** La probabilidad de voto femenino y masculino se divide de la siguiente manera: \n",
        "\n",
        "        * Probabilidad de voto Femenino es:  0.421\n",
        "        * Probabilidad de voto Masculino es: 0.579\n",
        "        \n",
        "***4.*** La probabilidad de ser mujer y votar por el partido A, B ó C es: \n",
        "\n",
        "        * Partido A: 0.419\n",
        "        * Partido B: 0.496\n",
        "        * Partido C: 0.703        "
      ]
    },
    {
      "cell_type": "markdown",
      "id": "300b63e4",
      "metadata": {
        "id": "300b63e4"
      },
      "source": [
        "**Volatilidad del voto**\n",
        "\n",
        "***5.*** La probabilidad de cambio de votos por género es la siguiente: \n",
        "   \n",
        "        * Prob. cambio de voto Masculino:  0.177\n",
        "        * Prob. cambio de voto Femenino:   0.240\n",
        "        \n",
        "Según los datos podemos observar que el voto femenino es mas volátil que el voto Masculino, pero para poder contestar esta pregunta debemos realizar un contraste de hipótesis. \n",
        "\n",
        "Primero verificamos que los datos sigan un distribucción normal, para esto hemos utilizado un histograma el cual nos indica que la muestra no sigue una distribucción normal para reforzar esta hipótesis hemos realizado un shapiro test cuyo resultado nos indicó que efectivamente no sigue una distribucción normal.  \n",
        "\n",
        "Por esta razón se escogió el test de U-Whitman para comparar las dos medias y responder a la pregunta **¿Es igual de volátil el voto femenino que el masculino?**. \n",
        "\n",
        "Los planteamientos para el test son los siguientes: \n",
        "\n",
        "$$H_0: \\mu volatilidad voto F  =  \\mu volatilidad voto M \\\\ \n",
        "H_1: \\mu volatilidad voto F  \\neq \\mu volatilidad voto M  \\\\ \n",
        "$$\n",
        "\n",
        "$$\n",
        "\\alpha = 0.05\n",
        "p-value < 0.05 = Rechazar H_0\n",
        "$$\n",
        "\n",
        "El test de U-Whitman nos da como resultado un p-value de **5.828969320447167e-44**, al ser menor que el nivel de significancia de 0.05 podriamos decir que con un riesgo de 5.828969320447167e-44 existe una diferencia entre la volátilidad del voto Femenino y Masculino.  Por lo tanto las diferencias en las medias que hemos observado nos indica que el voto Femenino es más volátil que el voto Masculino. "
      ]
    },
    {
      "cell_type": "markdown",
      "id": "492e04be",
      "metadata": {
        "id": "492e04be"
      },
      "source": [
        "***Análisis de campaña***\n",
        "\n",
        "La probabilidad de que un voto del partido A este provenga de un entrevistado que declaró querer votar por el partido A es: \n",
        "          \n",
        "          Partido A: 0.6602\n",
        "\n",
        "La probabilidad de que un voto del partido B provenga de un entrevistado que declaró querer votar por el partido B es: \n",
        "          \n",
        "          Partido B: 0.9818\n",
        "\n",
        "La probabilidad de que un voto del partido C provenga de un entrevistado que declaró querer votar por el partido C es: \n",
        "            \n",
        "          Partido C: 0.6789\n",
        "          \n",
        "**Cuál partido hizo mejor campaña electoral.?**\n",
        "         "
      ]
    },
    {
      "cell_type": "code",
      "execution_count": 25,
      "id": "b241f943",
      "metadata": {
        "id": "b241f943",
        "outputId": "508bb2ae-636f-4864-b61d-fd1cce0b8fa3",
        "colab": {
          "base_uri": "https://localhost:8080/",
          "height": 143
        }
      },
      "outputs": [
        {
          "output_type": "execute_result",
          "data": {
            "text/plain": [
              "     Partido  Inversion  Prob. Final  Prob. Encuesta  Valor Recibido  \\\n",
              "1  Partido A    3800000       0.3877        0.255944       3877000.0   \n",
              "2  Partido B    1470000       0.1504        0.147659       1504000.0   \n",
              "3  Partido C    2310000       0.2916        0.197966       2916000.0   \n",
              "\n",
              "   Valor Esperado  Dif. recibido-esperado  \\\n",
              "1    2.559439e+06            1.317561e+06   \n",
              "2    1.476593e+06            2.740685e+04   \n",
              "3    1.979655e+06            9.363447e+05   \n",
              "\n",
              "   Ganancia Final (Recibido-Inversión)  % (Recibido/Esperado)  \n",
              "1                              77000.0              51.478524  \n",
              "2                              34000.0               1.856087  \n",
              "3                             606000.0              47.298373  "
            ],
            "text/html": [
              "\n",
              "  <div id=\"df-7ada5ed5-3035-4a57-821c-1a3fb1fb5d7f\">\n",
              "    <div class=\"colab-df-container\">\n",
              "      <div>\n",
              "<style scoped>\n",
              "    .dataframe tbody tr th:only-of-type {\n",
              "        vertical-align: middle;\n",
              "    }\n",
              "\n",
              "    .dataframe tbody tr th {\n",
              "        vertical-align: top;\n",
              "    }\n",
              "\n",
              "    .dataframe thead th {\n",
              "        text-align: right;\n",
              "    }\n",
              "</style>\n",
              "<table border=\"1\" class=\"dataframe\">\n",
              "  <thead>\n",
              "    <tr style=\"text-align: right;\">\n",
              "      <th></th>\n",
              "      <th>Partido</th>\n",
              "      <th>Inversion</th>\n",
              "      <th>Prob. Final</th>\n",
              "      <th>Prob. Encuesta</th>\n",
              "      <th>Valor Recibido</th>\n",
              "      <th>Valor Esperado</th>\n",
              "      <th>Dif. recibido-esperado</th>\n",
              "      <th>Ganancia Final (Recibido-Inversión)</th>\n",
              "      <th>% (Recibido/Esperado)</th>\n",
              "    </tr>\n",
              "  </thead>\n",
              "  <tbody>\n",
              "    <tr>\n",
              "      <th>1</th>\n",
              "      <td>Partido A</td>\n",
              "      <td>3800000</td>\n",
              "      <td>0.3877</td>\n",
              "      <td>0.255944</td>\n",
              "      <td>3877000.0</td>\n",
              "      <td>2.559439e+06</td>\n",
              "      <td>1.317561e+06</td>\n",
              "      <td>77000.0</td>\n",
              "      <td>51.478524</td>\n",
              "    </tr>\n",
              "    <tr>\n",
              "      <th>2</th>\n",
              "      <td>Partido B</td>\n",
              "      <td>1470000</td>\n",
              "      <td>0.1504</td>\n",
              "      <td>0.147659</td>\n",
              "      <td>1504000.0</td>\n",
              "      <td>1.476593e+06</td>\n",
              "      <td>2.740685e+04</td>\n",
              "      <td>34000.0</td>\n",
              "      <td>1.856087</td>\n",
              "    </tr>\n",
              "    <tr>\n",
              "      <th>3</th>\n",
              "      <td>Partido C</td>\n",
              "      <td>2310000</td>\n",
              "      <td>0.2916</td>\n",
              "      <td>0.197966</td>\n",
              "      <td>2916000.0</td>\n",
              "      <td>1.979655e+06</td>\n",
              "      <td>9.363447e+05</td>\n",
              "      <td>606000.0</td>\n",
              "      <td>47.298373</td>\n",
              "    </tr>\n",
              "  </tbody>\n",
              "</table>\n",
              "</div>\n",
              "      <button class=\"colab-df-convert\" onclick=\"convertToInteractive('df-7ada5ed5-3035-4a57-821c-1a3fb1fb5d7f')\"\n",
              "              title=\"Convert this dataframe to an interactive table.\"\n",
              "              style=\"display:none;\">\n",
              "        \n",
              "  <svg xmlns=\"http://www.w3.org/2000/svg\" height=\"24px\"viewBox=\"0 0 24 24\"\n",
              "       width=\"24px\">\n",
              "    <path d=\"M0 0h24v24H0V0z\" fill=\"none\"/>\n",
              "    <path d=\"M18.56 5.44l.94 2.06.94-2.06 2.06-.94-2.06-.94-.94-2.06-.94 2.06-2.06.94zm-11 1L8.5 8.5l.94-2.06 2.06-.94-2.06-.94L8.5 2.5l-.94 2.06-2.06.94zm10 10l.94 2.06.94-2.06 2.06-.94-2.06-.94-.94-2.06-.94 2.06-2.06.94z\"/><path d=\"M17.41 7.96l-1.37-1.37c-.4-.4-.92-.59-1.43-.59-.52 0-1.04.2-1.43.59L10.3 9.45l-7.72 7.72c-.78.78-.78 2.05 0 2.83L4 21.41c.39.39.9.59 1.41.59.51 0 1.02-.2 1.41-.59l7.78-7.78 2.81-2.81c.8-.78.8-2.07 0-2.86zM5.41 20L4 18.59l7.72-7.72 1.47 1.35L5.41 20z\"/>\n",
              "  </svg>\n",
              "      </button>\n",
              "      \n",
              "  <style>\n",
              "    .colab-df-container {\n",
              "      display:flex;\n",
              "      flex-wrap:wrap;\n",
              "      gap: 12px;\n",
              "    }\n",
              "\n",
              "    .colab-df-convert {\n",
              "      background-color: #E8F0FE;\n",
              "      border: none;\n",
              "      border-radius: 50%;\n",
              "      cursor: pointer;\n",
              "      display: none;\n",
              "      fill: #1967D2;\n",
              "      height: 32px;\n",
              "      padding: 0 0 0 0;\n",
              "      width: 32px;\n",
              "    }\n",
              "\n",
              "    .colab-df-convert:hover {\n",
              "      background-color: #E2EBFA;\n",
              "      box-shadow: 0px 1px 2px rgba(60, 64, 67, 0.3), 0px 1px 3px 1px rgba(60, 64, 67, 0.15);\n",
              "      fill: #174EA6;\n",
              "    }\n",
              "\n",
              "    [theme=dark] .colab-df-convert {\n",
              "      background-color: #3B4455;\n",
              "      fill: #D2E3FC;\n",
              "    }\n",
              "\n",
              "    [theme=dark] .colab-df-convert:hover {\n",
              "      background-color: #434B5C;\n",
              "      box-shadow: 0px 1px 3px 1px rgba(0, 0, 0, 0.15);\n",
              "      filter: drop-shadow(0px 1px 2px rgba(0, 0, 0, 0.3));\n",
              "      fill: #FFFFFF;\n",
              "    }\n",
              "  </style>\n",
              "\n",
              "      <script>\n",
              "        const buttonEl =\n",
              "          document.querySelector('#df-7ada5ed5-3035-4a57-821c-1a3fb1fb5d7f button.colab-df-convert');\n",
              "        buttonEl.style.display =\n",
              "          google.colab.kernel.accessAllowed ? 'block' : 'none';\n",
              "\n",
              "        async function convertToInteractive(key) {\n",
              "          const element = document.querySelector('#df-7ada5ed5-3035-4a57-821c-1a3fb1fb5d7f');\n",
              "          const dataTable =\n",
              "            await google.colab.kernel.invokeFunction('convertToInteractive',\n",
              "                                                     [key], {});\n",
              "          if (!dataTable) return;\n",
              "\n",
              "          const docLinkHtml = 'Like what you see? Visit the ' +\n",
              "            '<a target=\"_blank\" href=https://colab.research.google.com/notebooks/data_table.ipynb>data table notebook</a>'\n",
              "            + ' to learn more about interactive tables.';\n",
              "          element.innerHTML = '';\n",
              "          dataTable['output_type'] = 'display_data';\n",
              "          await google.colab.output.renderOutput(dataTable, element);\n",
              "          const docLink = document.createElement('div');\n",
              "          docLink.innerHTML = docLinkHtml;\n",
              "          element.appendChild(docLink);\n",
              "        }\n",
              "      </script>\n",
              "    </div>\n",
              "  </div>\n",
              "  "
            ]
          },
          "metadata": {},
          "execution_count": 25
        }
      ],
      "source": [
        "final_results_df.head()"
      ]
    },
    {
      "cell_type": "markdown",
      "id": "f5add7ab",
      "metadata": {
        "id": "f5add7ab"
      },
      "source": [
        "De acuerdo con la información presentada en la tabla podemos concluir lo siguiente: \n",
        "\n",
        "1. El partido A incrementó el valor final esperado en un 51%. \n",
        "2. El partido A fue el partido que invirtió más dinero en la campaña electoral. \n",
        "3. El partido A tenia la probabilidad de voto más alta según las encuestas y fue el partido que obtuvó el mayor porcentaje final de votos. \n",
        "4. El partido C incrementó el valor final esperado en un 47% y fue el partido que mayor ganancia final recibió y el segundo que realizó mayor inversión. \n",
        "\n",
        "Podriamos concluir que los tres partidos realizaron buenas campañas electorales ya que los porcentajes de votantes finales aumentaron con referencia a los valores de la encuesta.  Sin embargo de los tres partidos, el Partido A fue el que mayor aumento de votantes obtuvó ya que pasó de un porcentaje según la encuesta de 25.59% a un resultado final de 38.77%.   Esto le permitió aumentar el valor estimado en un 51.47% y obtener una ganancia final de 77.000 Euros. "
      ]
    }
  ],
  "metadata": {
    "kernelspec": {
      "display_name": "Python 3 (ipykernel)",
      "language": "python",
      "name": "python3"
    },
    "language_info": {
      "codemirror_mode": {
        "name": "ipython",
        "version": 3
      },
      "file_extension": ".py",
      "mimetype": "text/x-python",
      "name": "python",
      "nbconvert_exporter": "python",
      "pygments_lexer": "ipython3",
      "version": "3.10.8"
    },
    "toc": {
      "base_numbering": 1,
      "nav_menu": {},
      "number_sections": true,
      "sideBar": true,
      "skip_h1_title": false,
      "title_cell": "Table of Contents",
      "title_sidebar": "Contents",
      "toc_cell": false,
      "toc_position": {},
      "toc_section_display": true,
      "toc_window_display": false
    },
    "varInspector": {
      "cols": {
        "lenName": 16,
        "lenType": 16,
        "lenVar": 40
      },
      "kernels_config": {
        "python": {
          "delete_cmd_postfix": "",
          "delete_cmd_prefix": "del ",
          "library": "var_list.py",
          "varRefreshCmd": "print(var_dic_list())"
        },
        "r": {
          "delete_cmd_postfix": ") ",
          "delete_cmd_prefix": "rm(",
          "library": "var_list.r",
          "varRefreshCmd": "cat(var_dic_list()) "
        }
      },
      "types_to_exclude": [
        "module",
        "function",
        "builtin_function_or_method",
        "instance",
        "_Feature"
      ],
      "window_display": false
    },
    "colab": {
      "provenance": []
    }
  },
  "nbformat": 4,
  "nbformat_minor": 5
}