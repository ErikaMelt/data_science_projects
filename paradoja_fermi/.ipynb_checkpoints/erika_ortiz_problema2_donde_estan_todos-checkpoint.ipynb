{
 "cells": [
  {
   "cell_type": "markdown",
   "id": "926a8d28",
   "metadata": {},
   "source": [
    "# Problema: ¿Dónde está todo el mundo?\n",
    "\n",
    "\n",
    "## Background: La Paradoja de Fermi\n",
    "\n",
    "En 1950, mientras trabajaba en el Proyecto Manhattan, Enrico Fermi formuló la siguiente pregunta: Con la cantidad de estrellas que hay en la Vía Láctea, muchas de las cuales sin duda albergando planetas a su alrededor, seguro que hay una proporción significativa de los mismos con condiciones similares a las de la Tierra. De estos, habrá una proporción que, además, albergarán vida inteligente. Si es así, ¿cómo es que no hemos contactado con nadie? Este adagio es conocido como la Paradoja de Fermi y se considera una paradoja porque la observación empírica (cero extraterretres) contradice la intuición de que, a juzagar por los datos, la Vía Láctea debería rebosar de vida y, en particular, la Especie Humana debería encontrarse en medio de un enjambre de civilizaciones que van de aquí para allá.\n",
    "\n",
    "Se han propuesto diversas soluciones a la paradoja, desde la más conservadora de que, simplemente, nuestro juicio de los datos es incorrecto hasta las más extravagantes, que sugieren que hay muchas formas de vida pero que la gran mayoría no son computables por nuestros sentidos; pasando por algunas algo ominosas, como que toda civilización debe superar, llegado cierto punto, una suerte de filtro cósmico que suele dar como resultado la extinción en la mayoría de los casos.\n",
    "\n",
    "En esta actividad vamos a hacer uso de algunos datos para dar una posible respuesta a la Paradoja de Fermi."
   ]
  },
  {
   "cell_type": "markdown",
   "id": "52787f06",
   "metadata": {},
   "source": [
    "## Parte 1: ¿Es la Tierra un planeta común en la Vía Láctea?\n",
    "\n",
    "Descárgate el fichero planets.csv. En él hallarás datos sobre planetas extrasolares. Establecer una métrica de similitud entre la Tierra y otro planeta es complicado, pero para no forzar demasiado la máquina vamos a trabajar con un modelo muy simplificado. Supondremos que un planeta es homologable a la Tierra si sus valores para los siguientes parámetros no son más de un 10% distintos a los de la Tierra:\n",
    "1. Periodo orbital (en días)\n",
    "2. Masa (en masas de Júpiter)\n",
    "3. Radio (en radios de Júpiter)\n",
    "4. Temperatura estelar efectiva (en grados Kelvin)\n",
    "\n",
    "La condición 4 resulta de relevancia evidente para nuestra supervivencia. La 1 puede o no ser relevante, pero cuanto más parecida a la de la Tierra menos probabilidad de fluctuaciones caóticas en el clima. La 3 y la 4 tienen que ver con la gravedad en la superfície del planeta, esta sí, de críticas consecuencias para una vida homologable a la humana.\n",
    "\n",
    "Los valores de la Tierra son los siguientes:\n",
    "1. 365.256 días\n",
    "2. 0.0031453 masas de Júpiter\n",
    "3. 0.08856 radios de Júpiter\n",
    "4. 5500 K\n",
    "\n"
   ]
  },
  {
   "cell_type": "code",
   "execution_count": null,
   "id": "5ba88f2f",
   "metadata": {},
   "outputs": [],
   "source": [
    "from google.colab import files\n",
    "\n",
    "uploaded = files.upload()"
   ]
  },
  {
   "cell_type": "code",
   "execution_count": 1,
   "id": "d0a46594",
   "metadata": {},
   "outputs": [
    {
     "name": "stdout",
     "output_type": "stream",
     "text": [
      "(3564, 6)\n"
     ]
    },
    {
     "data": {
      "text/html": [
       "<div>\n",
       "<style scoped>\n",
       "    .dataframe tbody tr th:only-of-type {\n",
       "        vertical-align: middle;\n",
       "    }\n",
       "\n",
       "    .dataframe tbody tr th {\n",
       "        vertical-align: top;\n",
       "    }\n",
       "\n",
       "    .dataframe thead th {\n",
       "        text-align: right;\n",
       "    }\n",
       "</style>\n",
       "<table border=\"1\" class=\"dataframe\">\n",
       "  <thead>\n",
       "    <tr style=\"text-align: right;\">\n",
       "      <th></th>\n",
       "      <th>Orbital_Period_d</th>\n",
       "      <th>Mass_J</th>\n",
       "      <th>Radious_J</th>\n",
       "      <th>Temp_K</th>\n",
       "      <th>Distance_pc</th>\n",
       "      <th>index_x</th>\n",
       "    </tr>\n",
       "  </thead>\n",
       "  <tbody>\n",
       "    <tr>\n",
       "      <th>count</th>\n",
       "      <td>3.482000e+03</td>\n",
       "      <td>1327.000000</td>\n",
       "      <td>2805.000000</td>\n",
       "      <td>3375.000000</td>\n",
       "      <td>2418.000000</td>\n",
       "      <td>3564.000000</td>\n",
       "    </tr>\n",
       "    <tr>\n",
       "      <th>mean</th>\n",
       "      <td>2.549070e+03</td>\n",
       "      <td>2.572574</td>\n",
       "      <td>0.359421</td>\n",
       "      <td>5519.407852</td>\n",
       "      <td>632.868730</td>\n",
       "      <td>1782.500000</td>\n",
       "    </tr>\n",
       "    <tr>\n",
       "      <th>std</th>\n",
       "      <td>1.241042e+05</td>\n",
       "      <td>4.231027</td>\n",
       "      <td>0.411342</td>\n",
       "      <td>1741.719988</td>\n",
       "      <td>840.702593</td>\n",
       "      <td>1028.982507</td>\n",
       "    </tr>\n",
       "    <tr>\n",
       "      <th>min</th>\n",
       "      <td>9.100000e-02</td>\n",
       "      <td>0.000000</td>\n",
       "      <td>0.029000</td>\n",
       "      <td>575.000000</td>\n",
       "      <td>1.290000</td>\n",
       "      <td>1.000000</td>\n",
       "    </tr>\n",
       "    <tr>\n",
       "      <th>25%</th>\n",
       "      <td>4.645250e+00</td>\n",
       "      <td>0.193500</td>\n",
       "      <td>0.138000</td>\n",
       "      <td>5079.000000</td>\n",
       "      <td>95.157500</td>\n",
       "      <td>891.750000</td>\n",
       "    </tr>\n",
       "    <tr>\n",
       "      <th>50%</th>\n",
       "      <td>1.255600e+01</td>\n",
       "      <td>0.960000</td>\n",
       "      <td>0.205000</td>\n",
       "      <td>5616.000000</td>\n",
       "      <td>494.500000</td>\n",
       "      <td>1782.500000</td>\n",
       "    </tr>\n",
       "    <tr>\n",
       "      <th>75%</th>\n",
       "      <td>4.514700e+01</td>\n",
       "      <td>2.640000</td>\n",
       "      <td>0.304000</td>\n",
       "      <td>5935.500000</td>\n",
       "      <td>880.000000</td>\n",
       "      <td>2673.250000</td>\n",
       "    </tr>\n",
       "    <tr>\n",
       "      <th>max</th>\n",
       "      <td>7.300000e+06</td>\n",
       "      <td>30.000000</td>\n",
       "      <td>6.900000</td>\n",
       "      <td>57000.000000</td>\n",
       "      <td>8500.000000</td>\n",
       "      <td>3564.000000</td>\n",
       "    </tr>\n",
       "  </tbody>\n",
       "</table>\n",
       "</div>"
      ],
      "text/plain": [
       "       Orbital_Period_d       Mass_J    Radious_J        Temp_K  Distance_pc  \\\n",
       "count      3.482000e+03  1327.000000  2805.000000   3375.000000  2418.000000   \n",
       "mean       2.549070e+03     2.572574     0.359421   5519.407852   632.868730   \n",
       "std        1.241042e+05     4.231027     0.411342   1741.719988   840.702593   \n",
       "min        9.100000e-02     0.000000     0.029000    575.000000     1.290000   \n",
       "25%        4.645250e+00     0.193500     0.138000   5079.000000    95.157500   \n",
       "50%        1.255600e+01     0.960000     0.205000   5616.000000   494.500000   \n",
       "75%        4.514700e+01     2.640000     0.304000   5935.500000   880.000000   \n",
       "max        7.300000e+06    30.000000     6.900000  57000.000000  8500.000000   \n",
       "\n",
       "           index_x  \n",
       "count  3564.000000  \n",
       "mean   1782.500000  \n",
       "std    1028.982507  \n",
       "min       1.000000  \n",
       "25%     891.750000  \n",
       "50%    1782.500000  \n",
       "75%    2673.250000  \n",
       "max    3564.000000  "
      ]
     },
     "execution_count": 1,
     "metadata": {},
     "output_type": "execute_result"
    }
   ],
   "source": [
    "import pandas as pd \n",
    "import numpy as np\n",
    "from scipy.stats import norm\n",
    "\n",
    "path = 'data/planets.csv'\n",
    "raw_df = pd.read_csv(path, index_col='rowid', skiprows=15)\n",
    "\n",
    "# Valores de la Tierra \n",
    "tolerance = 0.10\n",
    "earth_orbper_days = 365.256 \n",
    "earth_massj = 0.0031453 \n",
    "earth_radj = 0.08856 \n",
    "earth_temp_k = 5500 \n",
    "\n",
    "#- Periodo orbital (en días)  =  pl_orbper: Orbital Period [days]\n",
    "#- Masa (en masas de Júpiter) = pl_bmassj: Planet Mass or M*sin(i)[Jupiter mass]\n",
    "#- Radio (en radios de Júpiter) = pl_radj: Planet Radius [Jupiter radii]\n",
    "#- Temperatura estelar efectiva (en grados Kelvin) = st_teff: Effective Temperature [K]\n",
    "\n",
    "planets_df = raw_df[['pl_orbper', 'pl_bmassj', 'pl_radj', 'st_teff', 'st_dist']]\n",
    "planets_df=planets_df.rename(columns={'pl_orbper': 'Orbital_Period_d', 'pl_bmassj': 'Mass_J', \n",
    "                                       'pl_radj':'Radious_J', 'st_teff':'Temp_K', 'st_dist': 'Distance_pc'})\n",
    "planets_df = planets_df.round(3)\n",
    "planets_df[planets_df.duplicated(subset=['Orbital_Period_d', 'Mass_J', 'Radious_J', 'Temp_K', 'Distance_pc'])].sum()\n",
    "planets_df[\"index_x\"] = planets_df.index\n",
    "print(planets_df.shape)\n",
    "planets_df.describe()"
   ]
  },
  {
   "cell_type": "markdown",
   "id": "2ff0f0f9",
   "metadata": {},
   "source": [
    "A partir del fichero de datos, estima la media y la desviación de estas 4 métricas para todos los planetas de la Via Láctea. Suponiendo que todas ellas siguen una distribución normal con los parámetros obtenidos y que se trata de medidas independientes, calcula la probabilidad de que un planeta de la Vía Láctea escogido al azar sea similar a la Tierra."
   ]
  },
  {
   "cell_type": "code",
   "execution_count": 2,
   "id": "1bab84bf",
   "metadata": {},
   "outputs": [
    {
     "name": "stdout",
     "output_type": "stream",
     "text": [
      "Los IC para la media de las cuatro variables son: [Orbital_Period_d    2537.505227\n",
      "Mass_J                 2.505056\n",
      "Radious_J              0.338367\n",
      "Temp_K              5518.037802\n",
      "dtype: float64, Orbital_Period_d    2560.634996\n",
      "Mass_J                 2.640092\n",
      "Radious_J              0.380476\n",
      "Temp_K              5520.777901\n",
      "dtype: float64]\n",
      "Probabilidad de que un planeta de la via láctea sea similar a la tierra es: 1.0636007869256454e-07\n"
     ]
    }
   ],
   "source": [
    "# Calcular la media Y la desviacion\n",
    "total_planets = len(planets_df)\n",
    "empiric_mean = np.mean(planets_df.loc[:, ['Orbital_Period_d', 'Mass_J', 'Radious_J', 'Temp_K']], axis=0)\n",
    "empiric_std = np.std(planets_df.loc[:, ['Orbital_Period_d', 'Mass_J', 'Radious_J', 'Temp_K']], axis=0)\n",
    "\n",
    "alpha = 0.05\n",
    "z = norm.ppf(1. - alpha / 2.) \n",
    "correction = z * np.sqrt(empiric_std / total_planets)\n",
    "print(f\"Los IC para la media de las cuatro variables son: [{empiric_mean - correction}, {empiric_mean + correction}]\", flush=True)\n",
    "\n",
    "# Probabilidad de que un planeta de la vía láctea escogido al azar sea similar a la tierra \n",
    "earth_orbper_max = earth_orbper_days + (earth_orbper_days * tolerance)\n",
    "earth_orbper_min = earth_orbper_days - (earth_orbper_days * tolerance)\n",
    "\n",
    "earth_mass_max = earth_massj + (earth_massj * tolerance)  \n",
    "earth_mass_min = earth_massj - (earth_massj * tolerance)  \n",
    "\n",
    "earth_rad_max = earth_radj + (earth_radj * tolerance)  \n",
    "earth_rad_min = earth_radj - (earth_radj * tolerance)  \n",
    "\n",
    "earth_temp_max = earth_temp_k + (earth_temp_k * tolerance)  \n",
    "earth_temp_min = earth_temp_k - (earth_temp_k * tolerance)  \n",
    "\n",
    "cond_mass = ((earth_mass_min <= planets_df['Mass_J']) & (planets_df['Mass_J'] <= earth_mass_max))\n",
    "cond_orb = ((earth_orbper_min <= planets_df['Orbital_Period_d']) & (planets_df['Orbital_Period_d'] <= earth_orbper_max))\n",
    "cond_rad = ((earth_rad_min <= planets_df['Radious_J']) & (planets_df['Radious_J'] <= earth_rad_max))\n",
    "cond_temp = ((earth_temp_min <= planets_df['Temp_K']) & (planets_df['Temp_K'] <= earth_temp_max))\n",
    "\n",
    "prob1 = planets_df[cond_mass].Mass_J.count()/ total_planets\n",
    "prob2 = planets_df[cond_orb].Orbital_Period_d.count() / total_planets\n",
    "prob3 = planets_df[cond_rad].Radious_J.count() / total_planets\n",
    "prob4 = planets_df[cond_temp].Temp_K.count() / total_planets\n",
    "\n",
    "prob_sim_earth = prob1 * prob2 * prob3 * prob4\n",
    "print(\"Probabilidad de que un planeta de la via láctea sea similar a la tierra es: {0}\".format(prob_sim_earth, 3))"
   ]
  },
  {
   "cell_type": "markdown",
   "id": "9ecf7755",
   "metadata": {},
   "source": [
    "## Parte 2: La Tierra, ¿dónde queda?\n",
    "\n",
    "Usa métodos de estimación para dilucidar, con una confianza del 99%, cuál es la distancia media entre la Tierra y un planeta cualquiera de la Vía Láctea. ¿Es la Tierra un lugar remoto de la galaxia?"
   ]
  },
  {
   "cell_type": "code",
   "execution_count": 3,
   "id": "aae656a7",
   "metadata": {},
   "outputs": [
    {
     "name": "stdout",
     "output_type": "stream",
     "text": [
      "IC para la Distancia media: [631.6178248217374, 634.1196358895944]\n",
      "La distancia media entre la Tierra y un planeta cualquiera de la Vía Láctea es: 632.6 pc\n"
     ]
    }
   ],
   "source": [
    "# Calcular la distancia media entre la Tierra y un planeta cualquiera \n",
    "empiric_mean_distance = np.mean(planets_df.Distance_pc)\n",
    "empiric_std_distance = np.std(planets_df.Distance_pc)\n",
    "dist_media = 0 \n",
    "alpha = 0.01\n",
    "z = norm.ppf(1. - alpha / 2.) \n",
    "correction = z * np.sqrt(empiric_std_distance / len(planets_df))\n",
    "\n",
    "print(f\"IC para la Distancia media: [{empiric_mean_distance - correction}, {empiric_mean_distance + correction}]\", flush=True)\n",
    "\n",
    "dist_media = planets_df[(planets_df.Distance_pc <= (empiric_mean_distance + correction)) & (planets_df.Distance_pc >= (empiric_mean_distance - correction))].Distance_pc.mean()\n",
    "print(f\"La distancia media entre la Tierra y un planeta cualquiera de la Vía Láctea es: {dist_media} pc\")"
   ]
  },
  {
   "cell_type": "markdown",
   "id": "cd5ac0e8",
   "metadata": {},
   "source": [
    "## Parte 3: Pues eso, que dónde está todo el mundo.\n",
    "\n",
    "Aquí la distancia se da en pársecs, que equivalen a 3.1 años luz. Un año luz es la distancia cubierta por un fotón durante un año viajando por el vacío. En km equivale a un número absurdamente grande en términos humanamente cotidianos. Las leyes de la física impiden moverse a velocidades cercanas a la luz sin sufrir efectos extravagantes y desgradables, así que vamos a suponer que, en el mejor de los casos, una especie lo suficientemente avanzada puede viajar al 20% de la velocidad de la luz. Vamos a suponer también que el Universo tiene una topología lo bastante regular como para que no se puedan hacer trampas como atravesar agujeros de gusano, teletransportarse u obrar cualquier otro tipo de magia.\n",
    "\n",
    "a) Suponiendo que el Homo Sapiens tiene una antigüedad de 200.000 años, estima el tiempo medio que tardaremos en contactar con una especie extraterrestre que emprendiera su viaje hacia la Tierra justo cuando nosotros comenzamos a pulular por el planeta.\n",
    "\n",
    "b) Suponiendo, además, que dicha especie no tiene modo de saber a priori si un planeta albergará anfitriones y, por lo tanto, escoge uno al azar de entre los que tienen potencial, recalcula tu estimación sobre tiempo que tardaremos en recibir a alguien por casa.\n",
    "\n",
    "c) Reflexiona sobre los resultados y razona hasta qué punto nos encontramos ante una paradoja. ¿Respaldan los datos la idea de que deberíamos haber contactado con otras civilizaciones extraterrestres?\n"
   ]
  },
  {
   "cell_type": "code",
   "execution_count": 28,
   "id": "fc4c47aa",
   "metadata": {},
   "outputs": [
    {
     "name": "stdout",
     "output_type": "stream",
     "text": [
      "El tiempo promedio para recorrer la distancia media de la tierra a cualquier planeta de la galaxia es: 10302.932 años\n",
      "El tiempo en que demoraremos en contactar con una especie es: 189697.068 años\n"
     ]
    }
   ],
   "source": [
    "# Parte a. Tiempo medio que tardaremos en contactar con una especie extraterrestre \n",
    "\n",
    "homo_sapiens_y = 200000 \n",
    "\n",
    "# ly/pc\n",
    "one_parsec = 3.1  \n",
    "\n",
    "#lightspeed pc/y. Especie puede viajar al 20% de la velocidad de la luz\n",
    "light_speed_in_pc_per_year = 0.307 \n",
    "const_galaxy_speed = light_speed_in_pc_per_year * 0.20 \n",
    "\n",
    "#To calculate the time we can use the formula t=d/v. dist(pc)/(pc/y)\n",
    "mean_time = dist_media / const_galaxy_speed\n",
    "time_travelling = homo_sapiens_y - mean_time\n",
    "\n",
    "print(f\"El tiempo promedio para recorrer la distancia media de la tierra a cualquier planeta de la galaxia es: {np.round(mean_time, 3)} años\")\n",
    "print(f\"El tiempo en que demoraremos en contactar con una especie es: {np.round(time_travelling, 3)} años\")"
   ]
  },
  {
   "cell_type": "code",
   "execution_count": 33,
   "id": "cd059263",
   "metadata": {},
   "outputs": [
    {
     "name": "stdout",
     "output_type": "stream",
     "text": [
      "       Orbital_Period_d      Mass_J   Radious_J       Temp_K  Distance_pc  \\\n",
      "count        208.000000  208.000000  208.000000   208.000000   208.000000   \n",
      "mean          16.921505    1.177058    0.951231  5544.725962   502.084327   \n",
      "std           42.226677    2.357315    0.448379   500.698755   419.238711   \n",
      "min            0.737000    0.002000    0.029000  2559.000000    12.100000   \n",
      "25%            2.756250    0.246750    0.742250  5400.000000   203.000000   \n",
      "50%            4.045000    0.637000    1.080000  5631.500000   355.500000   \n",
      "75%            9.448250    1.275000    1.265500  5802.000000   691.750000   \n",
      "max          303.137000   28.000000    1.890000  6050.000000  2250.000000   \n",
      "\n",
      "           index_x  \n",
      "count   208.000000  \n",
      "mean   1825.451923  \n",
      "std    1404.436720  \n",
      "min      28.000000  \n",
      "25%     225.750000  \n",
      "50%    2171.500000  \n",
      "75%    3400.250000  \n",
      "max    3529.000000  \n",
      "El tiempo para recorrer la distancia media de un planeta con potencial es: 8177.269 años\n",
      "El tiempo en que demoraremos en contactar con una especie es: 191822.731 años\n"
     ]
    }
   ],
   "source": [
    "# Parte b \n",
    "\n",
    "from functools import reduce\n",
    "planets_mass = planets_df[cond_mass].Mass_J\n",
    "planets_orb = planets_df[cond_orb].Orbital_Period_d \n",
    "planets_radious = planets_df[cond_rad].Radious_J\n",
    "planets_temp = planets_df[cond_temp].Temp_K\n",
    "dfs = [planets_orb, planets_mass, planets_radious, planets_temp]\n",
    "\n",
    "#merge all DataFrames into one\n",
    "merged_dfs = reduce(lambda left,right: pd.merge(left,right,on=['rowid'], how='outer'), dfs)\n",
    "values = merged_dfs.index.values.tolist()\n",
    "\n",
    "potential_planets = planets_df.loc[planets_df.index_x[values]]\n",
    "potential_planets.dropna(inplace=True)\n",
    "print(potential_planets.describe())\n",
    "mean_time = mean_dist_pot_planets / const_galaxy_speed\n",
    "time_travelling = homo_sapiens_y - mean_time\n",
    "print(f\"El tiempo para recorrer la distancia media de un planeta con potencial es: {np.round(mean_time, 3)} años\")\n",
    "print(f\"El tiempo en que demoraremos en contactar con una especie es: {np.round(time_travelling, 3)} años\")"
   ]
  },
  {
   "cell_type": "code",
   "execution_count": null,
   "id": "cdf227f6",
   "metadata": {},
   "outputs": [],
   "source": [
    "IC = [631.61, 634.12]\n",
    "p_parecido_tierra = 8e-24"
   ]
  },
  {
   "cell_type": "code",
   "execution_count": null,
   "id": "b39c0717",
   "metadata": {},
   "outputs": [],
   "source": [
    "IC_azar = np.array(IC) / (0.2 / 3.1) / p_parecido_tierra\n",
    "print(np.array(IC))"
   ]
  },
  {
   "cell_type": "code",
   "execution_count": null,
   "id": "197b0c0a",
   "metadata": {},
   "outputs": [],
   "source": [
    "print(IC_azar)"
   ]
  }
 ],
 "metadata": {
  "kernelspec": {
   "display_name": "Python 3 (ipykernel)",
   "language": "python",
   "name": "python3"
  },
  "language_info": {
   "codemirror_mode": {
    "name": "ipython",
    "version": 3
   },
   "file_extension": ".py",
   "mimetype": "text/x-python",
   "name": "python",
   "nbconvert_exporter": "python",
   "pygments_lexer": "ipython3",
   "version": "3.9.13"
  },
  "toc": {
   "base_numbering": 1,
   "nav_menu": {},
   "number_sections": true,
   "sideBar": true,
   "skip_h1_title": false,
   "title_cell": "Table of Contents",
   "title_sidebar": "Contents",
   "toc_cell": false,
   "toc_position": {},
   "toc_section_display": true,
   "toc_window_display": false
  },
  "varInspector": {
   "cols": {
    "lenName": 16,
    "lenType": 16,
    "lenVar": 40
   },
   "kernels_config": {
    "python": {
     "delete_cmd_postfix": "",
     "delete_cmd_prefix": "del ",
     "library": "var_list.py",
     "varRefreshCmd": "print(var_dic_list())"
    },
    "r": {
     "delete_cmd_postfix": ") ",
     "delete_cmd_prefix": "rm(",
     "library": "var_list.r",
     "varRefreshCmd": "cat(var_dic_list()) "
    }
   },
   "types_to_exclude": [
    "module",
    "function",
    "builtin_function_or_method",
    "instance",
    "_Feature"
   ],
   "window_display": false
  }
 },
 "nbformat": 4,
 "nbformat_minor": 5
}
