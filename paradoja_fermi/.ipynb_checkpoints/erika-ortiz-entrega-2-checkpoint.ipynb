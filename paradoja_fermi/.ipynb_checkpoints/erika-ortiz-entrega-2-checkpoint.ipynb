{
 "cells": [
  {
   "cell_type": "markdown",
   "id": "926a8d28",
   "metadata": {
    "id": "926a8d28"
   },
   "source": [
    "# Problema: ¿Dónde está todo el mundo?\n",
    "\n",
    "\n",
    "## Background: La Paradoja de Fermi\n",
    "\n",
    "En 1950, mientras trabajaba en el Proyecto Manhattan, Enrico Fermi formuló la siguiente pregunta: Con la cantidad de estrellas que hay en la Vía Láctea, muchas de las cuales sin duda albergando planetas a su alrededor, seguro que hay una proporción significativa de los mismos con condiciones similares a las de la Tierra. De estos, habrá una proporción que, además, albergarán vida inteligente. Si es así, ¿cómo es que no hemos contactado con nadie? Este adagio es conocido como la Paradoja de Fermi y se considera una paradoja porque la observación empírica (cero extraterretres) contradice la intuición de que, a juzagar por los datos, la Vía Láctea debería rebosar de vida y, en particular, la Especie Humana debería encontrarse en medio de un enjambre de civilizaciones que van de aquí para allá.\n",
    "\n",
    "Se han propuesto diversas soluciones a la paradoja, desde la más conservadora de que, simplemente, nuestro juicio de los datos es incorrecto hasta las más extravagantes, que sugieren que hay muchas formas de vida pero que la gran mayoría no son computables por nuestros sentidos; pasando por algunas algo ominosas, como que toda civilización debe superar, llegado cierto punto, una suerte de filtro cósmico que suele dar como resultado la extinción en la mayoría de los casos.\n",
    "\n",
    "En esta actividad vamos a hacer uso de algunos datos para dar una posible respuesta a la Paradoja de Fermi."
   ]
  },
  {
   "cell_type": "markdown",
   "id": "52787f06",
   "metadata": {
    "id": "52787f06"
   },
   "source": [
    "## Parte 1: ¿Es la Tierra un planeta común en la Vía Láctea?\n",
    "\n",
    "Descárgate el fichero planets.csv. En él hallarás datos sobre planetas extrasolares. Establecer una métrica de similitud entre la Tierra y otro planeta es complicado, pero para no forzar demasiado la máquina vamos a trabajar con un modelo muy simplificado. Supondremos que un planeta es homologable a la Tierra si sus valores para los siguientes parámetros no son más de un 10% distintos a los de la Tierra:\n",
    "1. Periodo orbital (en días)\n",
    "2. Masa (en masas de Júpiter)\n",
    "3. Radio (en radios de Júpiter)\n",
    "4. Temperatura estelar efectiva (en grados Kelvin)\n",
    "\n",
    "La condición 4 resulta de relevancia evidente para nuestra supervivencia. La 1 puede o no ser relevante, pero cuanto más parecida a la de la Tierra menos probabilidad de fluctuaciones caóticas en el clima. La 3 y la 4 tienen que ver con la gravedad en la superfície del planeta, esta sí, de críticas consecuencias para una vida homologable a la humana.\n",
    "\n",
    "Los valores de la Tierra son los siguientes:\n",
    "1. 365.256 días\n",
    "2. 0.0031453 masas de Júpiter\n",
    "3. 0.08856 radios de Júpiter\n",
    "4. 5500 K\n",
    "\n"
   ]
  },
  {
   "cell_type": "code",
   "execution_count": 1,
   "id": "5ba88f2f",
   "metadata": {
    "colab": {
     "base_uri": "https://localhost:8080/",
     "height": 74
    },
    "executionInfo": {
     "elapsed": 14598,
     "status": "ok",
     "timestamp": 1671201169106,
     "user": {
      "displayName": "Erika Ortiz Macias",
      "userId": "15536422613164845843"
     },
     "user_tz": -60
    },
    "id": "5ba88f2f",
    "outputId": "6bc45a45-879f-40f0-c962-ad7959432713"
   },
   "outputs": [],
   "source": [
    "#from google.colab import files\n",
    "#uploaded = files.upload()"
   ]
  },
  {
   "cell_type": "code",
   "execution_count": 2,
   "id": "d0a46594",
   "metadata": {
    "colab": {
     "base_uri": "https://localhost:8080/",
     "height": 318
    },
    "executionInfo": {
     "elapsed": 1753,
     "status": "ok",
     "timestamp": 1671201170856,
     "user": {
      "displayName": "Erika Ortiz Macias",
      "userId": "15536422613164845843"
     },
     "user_tz": -60
    },
    "id": "d0a46594",
    "outputId": "ab52a95f-daa5-4326-a549-c86b4efbe2e4"
   },
   "outputs": [
    {
     "data": {
      "text/html": [
       "<div>\n",
       "<style scoped>\n",
       "    .dataframe tbody tr th:only-of-type {\n",
       "        vertical-align: middle;\n",
       "    }\n",
       "\n",
       "    .dataframe tbody tr th {\n",
       "        vertical-align: top;\n",
       "    }\n",
       "\n",
       "    .dataframe thead th {\n",
       "        text-align: right;\n",
       "    }\n",
       "</style>\n",
       "<table border=\"1\" class=\"dataframe\">\n",
       "  <thead>\n",
       "    <tr style=\"text-align: right;\">\n",
       "      <th></th>\n",
       "      <th>Orbital_Period_d</th>\n",
       "      <th>Mass_J</th>\n",
       "      <th>Radious_J</th>\n",
       "      <th>Temp_K</th>\n",
       "      <th>Distance_pc</th>\n",
       "    </tr>\n",
       "  </thead>\n",
       "  <tbody>\n",
       "    <tr>\n",
       "      <th>count</th>\n",
       "      <td>3.482000e+03</td>\n",
       "      <td>1327.000000</td>\n",
       "      <td>2805.000000</td>\n",
       "      <td>3375.000000</td>\n",
       "      <td>2418.000000</td>\n",
       "    </tr>\n",
       "    <tr>\n",
       "      <th>mean</th>\n",
       "      <td>2.549070e+03</td>\n",
       "      <td>2.572577</td>\n",
       "      <td>0.359421</td>\n",
       "      <td>5519.407852</td>\n",
       "      <td>632.868730</td>\n",
       "    </tr>\n",
       "    <tr>\n",
       "      <th>std</th>\n",
       "      <td>1.241042e+05</td>\n",
       "      <td>4.231024</td>\n",
       "      <td>0.411342</td>\n",
       "      <td>1741.719988</td>\n",
       "      <td>840.702593</td>\n",
       "    </tr>\n",
       "    <tr>\n",
       "      <th>min</th>\n",
       "      <td>9.070629e-02</td>\n",
       "      <td>0.000060</td>\n",
       "      <td>0.029000</td>\n",
       "      <td>575.000000</td>\n",
       "      <td>1.290000</td>\n",
       "    </tr>\n",
       "    <tr>\n",
       "      <th>25%</th>\n",
       "      <td>4.645043e+00</td>\n",
       "      <td>0.193500</td>\n",
       "      <td>0.138000</td>\n",
       "      <td>5079.000000</td>\n",
       "      <td>95.157500</td>\n",
       "    </tr>\n",
       "    <tr>\n",
       "      <th>50%</th>\n",
       "      <td>1.255604e+01</td>\n",
       "      <td>0.960000</td>\n",
       "      <td>0.205000</td>\n",
       "      <td>5616.000000</td>\n",
       "      <td>494.500000</td>\n",
       "    </tr>\n",
       "    <tr>\n",
       "      <th>75%</th>\n",
       "      <td>4.514708e+01</td>\n",
       "      <td>2.640000</td>\n",
       "      <td>0.304000</td>\n",
       "      <td>5935.500000</td>\n",
       "      <td>880.000000</td>\n",
       "    </tr>\n",
       "    <tr>\n",
       "      <th>max</th>\n",
       "      <td>7.300000e+06</td>\n",
       "      <td>30.000000</td>\n",
       "      <td>6.900000</td>\n",
       "      <td>57000.000000</td>\n",
       "      <td>8500.000000</td>\n",
       "    </tr>\n",
       "  </tbody>\n",
       "</table>\n",
       "</div>"
      ],
      "text/plain": [
       "       Orbital_Period_d       Mass_J    Radious_J        Temp_K  Distance_pc\n",
       "count      3.482000e+03  1327.000000  2805.000000   3375.000000  2418.000000\n",
       "mean       2.549070e+03     2.572577     0.359421   5519.407852   632.868730\n",
       "std        1.241042e+05     4.231024     0.411342   1741.719988   840.702593\n",
       "min        9.070629e-02     0.000060     0.029000    575.000000     1.290000\n",
       "25%        4.645043e+00     0.193500     0.138000   5079.000000    95.157500\n",
       "50%        1.255604e+01     0.960000     0.205000   5616.000000   494.500000\n",
       "75%        4.514708e+01     2.640000     0.304000   5935.500000   880.000000\n",
       "max        7.300000e+06    30.000000     6.900000  57000.000000  8500.000000"
      ]
     },
     "execution_count": 2,
     "metadata": {},
     "output_type": "execute_result"
    }
   ],
   "source": [
    "import io\n",
    "import pandas as pd\n",
    "import numpy as np\n",
    "from scipy.stats import norm\n",
    "\n",
    "path = 'data/planets.csv'\n",
    "#path = io.BytesIO(uploaded['planets.csv'])\n",
    "raw_df = pd.read_csv(path, index_col='rowid', skiprows=15)\n",
    "\n",
    "# Valores de la Tierra\n",
    "tolerance = 0.10\n",
    "earth_orbper_days = 365.256\n",
    "earth_massj = 0.0031453\n",
    "earth_radj = 0.08856\n",
    "earth_temp_k = 5500\n",
    "\n",
    "#- Periodo orbital (en días)  =  pl_orbper: Orbital Period [days]\n",
    "#- Masa (en masas de Júpiter) = pl_bmassj: Planet Mass or M*sin(i)[Jupiter mass]\n",
    "#- Radio (en radios de Júpiter) = pl_radj: Planet Radius [Jupiter radii]\n",
    "#- Temperatura estelar efectiva (en grados Kelvin) = st_teff: Effective Temperature [K]\n",
    "\n",
    "planets_df = raw_df[[\n",
    "    'pl_orbper', 'pl_bmassj', 'pl_radj', 'st_teff', 'st_dist'\n",
    "]]\n",
    "planets_df = planets_df.rename(\n",
    "    columns={\n",
    "        'pl_orbper': 'Orbital_Period_d',\n",
    "        'pl_bmassj': 'Mass_J',\n",
    "        'pl_radj': 'Radious_J',\n",
    "        'st_teff': 'Temp_K',\n",
    "        'st_dist': 'Distance_pc'\n",
    "    })\n",
    "planets_df[planets_df.duplicated(subset=[\n",
    "    'Orbital_Period_d', 'Mass_J', 'Radious_J', 'Temp_K', 'Distance_pc'\n",
    "])].sum()\n",
    "planets_df.shape\n",
    "planets_df.describe()"
   ]
  },
  {
   "cell_type": "markdown",
   "id": "2ff0f0f9",
   "metadata": {
    "id": "2ff0f0f9"
   },
   "source": [
    "A partir del fichero de datos, estima la media y la desviación de estas 4 métricas para todos los planetas de la Via Láctea. Suponiendo que todas ellas siguen una distribución normal con los parámetros obtenidos y que se trata de medidas independientes, calcula la probabilidad de que un planeta de la Vía Láctea escogido al azar sea similar a la Tierra."
   ]
  },
  {
   "cell_type": "code",
   "execution_count": 3,
   "id": "1bab84bf",
   "metadata": {
    "colab": {
     "base_uri": "https://localhost:8080/"
    },
    "executionInfo": {
     "elapsed": 28,
     "status": "ok",
     "timestamp": 1671201170857,
     "user": {
      "displayName": "Erika Ortiz Macias",
      "userId": "15536422613164845843"
     },
     "user_tz": -60
    },
    "id": "1bab84bf",
    "outputId": "34a4217f-77e6-4339-8b49-89566a1b90ab"
   },
   "outputs": [
    {
     "name": "stdout",
     "output_type": "stream",
     "text": [
      "La media de las 4 métricas de los planetas de la Via Láctea es: Orbital_Period_d    2549.070\n",
      "Mass_J                 2.573\n",
      "Radious_J              0.359\n",
      "Temp_K              5519.408\n",
      "dtype: float64\n",
      "La desviación estándar de las 4 métricas de los planetas de la Via Láctea es: Orbital_Period_d    124086.378\n",
      "Mass_J                   4.229\n",
      "Radious_J                0.411\n",
      "Temp_K                1741.462\n",
      "dtype: float64\n"
     ]
    }
   ],
   "source": [
    "# Calcular la media Y la desviacion\n",
    "empiric_mean = np.mean(\n",
    "    planets_df.loc[:, ['Orbital_Period_d', 'Mass_J', 'Radious_J', 'Temp_K']],\n",
    "    axis=0)\n",
    "empiric_std = np.std(\n",
    "    planets_df.loc[:, ['Orbital_Period_d', 'Mass_J', 'Radious_J', 'Temp_K']],\n",
    "    axis=0)\n",
    "\n",
    "print(\"La media de las 4 métricas de los planetas de la Via Láctea es: {}\".\n",
    "      format(np.round(empiric_mean, 3)))\n",
    "\n",
    "print(\n",
    "    \"La desviación estándar de las 4 métricas de los planetas de la Via Láctea es: {}\"\n",
    "    .format(np.round(empiric_std,3)))\n",
    "\n",
    "# Valores de tolerancia para que un planeta sea considerado similar a la tierra\n",
    "earth_orbper_max = earth_orbper_days + (earth_orbper_days * tolerance)\n",
    "earth_orbper_min = earth_orbper_days - (earth_orbper_days * tolerance)\n",
    "\n",
    "earth_mass_max = earth_massj + (earth_massj * tolerance)\n",
    "earth_mass_min = earth_massj - (earth_massj * tolerance)\n",
    "\n",
    "earth_rad_max = earth_radj + (earth_radj * tolerance)\n",
    "earth_rad_min = earth_radj - (earth_radj * tolerance)\n",
    "\n",
    "earth_temp_max = earth_temp_k + (earth_temp_k * tolerance)\n",
    "earth_temp_min = earth_temp_k - (earth_temp_k * tolerance)\n",
    "\n",
    "cond_mass = ((earth_mass_min <= planets_df['Mass_J']) &\n",
    "             (planets_df['Mass_J'] <= earth_mass_max))\n",
    "cond_orb = ((earth_orbper_min <= planets_df['Orbital_Period_d']) &\n",
    "            (planets_df['Orbital_Period_d'] <= earth_orbper_max))\n",
    "cond_rad = ((earth_rad_min <= planets_df['Radious_J']) &\n",
    "            (planets_df['Radious_J'] <= earth_rad_max))\n",
    "cond_temp = ((earth_temp_min <= planets_df['Temp_K']) &\n",
    "             (planets_df['Temp_K'] <= earth_temp_max))"
   ]
  },
  {
   "cell_type": "code",
   "execution_count": 4,
   "id": "A5piqdGEYsMR",
   "metadata": {
    "colab": {
     "base_uri": "https://localhost:8080/"
    },
    "executionInfo": {
     "elapsed": 25,
     "status": "ok",
     "timestamp": 1671201170857,
     "user": {
      "displayName": "Erika Ortiz Macias",
      "userId": "15536422613164845843"
     },
     "user_tz": -60
    },
    "id": "A5piqdGEYsMR",
    "outputId": "63382b32-2b0f-478b-fc58-70bfefd3d472"
   },
   "outputs": [
    {
     "data": {
      "text/plain": [
       "0.00023482592942880576"
      ]
     },
     "execution_count": 4,
     "metadata": {},
     "output_type": "execute_result"
    }
   ],
   "source": [
    "p_orbper = norm.cdf(x=earth_orbper_max,\n",
    "                    loc=empiric_mean[\"Orbital_Period_d\"],\n",
    "                    scale=empiric_std[\"Orbital_Period_d\"]) - norm.cdf(\n",
    "                        x=earth_orbper_min,\n",
    "                        loc=empiric_mean[\"Orbital_Period_d\"],\n",
    "                        scale=empiric_std[\"Orbital_Period_d\"])\n",
    "\n",
    "p_orbper"
   ]
  },
  {
   "cell_type": "code",
   "execution_count": 5,
   "id": "wW8eITWeZvzl",
   "metadata": {
    "colab": {
     "base_uri": "https://localhost:8080/"
    },
    "executionInfo": {
     "elapsed": 24,
     "status": "ok",
     "timestamp": 1671201170858,
     "user": {
      "displayName": "Erika Ortiz Macias",
      "userId": "15536422613164845843"
     },
     "user_tz": -60
    },
    "id": "wW8eITWeZvzl",
    "outputId": "b5eb03df-025f-444f-c216-09c962b2b713"
   },
   "outputs": [
    {
     "data": {
      "text/plain": [
       "4.9337538981175655e-05"
      ]
     },
     "execution_count": 5,
     "metadata": {},
     "output_type": "execute_result"
    }
   ],
   "source": [
    "p_mass = norm.cdf(\n",
    "    x=earth_mass_max, loc=empiric_mean[\"Mass_J\"],\n",
    "    scale=empiric_std[\"Mass_J\"]) - norm.cdf(x=earth_mass_min,\n",
    "                                            loc=empiric_mean[\"Mass_J\"],\n",
    "                                            scale=empiric_std[\"Mass_J\"])\n",
    "\n",
    "p_mass"
   ]
  },
  {
   "cell_type": "code",
   "execution_count": 6,
   "id": "DhdEABnQaPgu",
   "metadata": {
    "colab": {
     "base_uri": "https://localhost:8080/"
    },
    "executionInfo": {
     "elapsed": 23,
     "status": "ok",
     "timestamp": 1671201170859,
     "user": {
      "displayName": "Erika Ortiz Macias",
      "userId": "15536422613164845843"
     },
     "user_tz": -60
    },
    "id": "DhdEABnQaPgu",
    "outputId": "f0cc7b45-9df4-424b-d121-14f7e8acc350"
   },
   "outputs": [
    {
     "data": {
      "text/plain": [
       "0.24785098490604696"
      ]
     },
     "execution_count": 6,
     "metadata": {},
     "output_type": "execute_result"
    }
   ],
   "source": [
    "p_temp = norm.cdf(\n",
    "    x=earth_temp_max, loc=empiric_mean[\"Temp_K\"],\n",
    "    scale=empiric_std[\"Temp_K\"]) - norm.cdf(x=earth_temp_min,\n",
    "                                            loc=empiric_mean[\"Temp_K\"],\n",
    "                                            scale=empiric_std[\"Temp_K\"])\n",
    "\n",
    "p_temp"
   ]
  },
  {
   "cell_type": "code",
   "execution_count": 7,
   "id": "5ez5tmOXal3j",
   "metadata": {
    "colab": {
     "base_uri": "https://localhost:8080/"
    },
    "executionInfo": {
     "elapsed": 22,
     "status": "ok",
     "timestamp": 1671201170860,
     "user": {
      "displayName": "Erika Ortiz Macias",
      "userId": "15536422613164845843"
     },
     "user_tz": -60
    },
    "id": "5ez5tmOXal3j",
    "outputId": "0bcaaa84-40b2-4756-e706-44f9d53fcf4f"
   },
   "outputs": [
    {
     "data": {
      "text/plain": [
       "0.013830717167380768"
      ]
     },
     "execution_count": 7,
     "metadata": {},
     "output_type": "execute_result"
    }
   ],
   "source": [
    "p_rad = norm.cdf(x=earth_rad_max,\n",
    "                 loc=empiric_mean[\"Radious_J\"],\n",
    "                 scale=empiric_std[\"Radious_J\"]) - norm.cdf(\n",
    "                     x=earth_rad_min,\n",
    "                     loc=empiric_mean[\"Radious_J\"],\n",
    "                     scale=empiric_std[\"Radious_J\"])\n",
    "\n",
    "p_rad"
   ]
  },
  {
   "cell_type": "code",
   "execution_count": 8,
   "id": "2HgTv-bNY2li",
   "metadata": {
    "colab": {
     "base_uri": "https://localhost:8080/"
    },
    "executionInfo": {
     "elapsed": 20,
     "status": "ok",
     "timestamp": 1671201170860,
     "user": {
      "displayName": "Erika Ortiz Macias",
      "userId": "15536422613164845843"
     },
     "user_tz": -60
    },
    "id": "2HgTv-bNY2li",
    "outputId": "b74261d7-745a-4af2-c786-a8a235c429b2"
   },
   "outputs": [
    {
     "name": "stdout",
     "output_type": "stream",
     "text": [
      "Probabilidad de que un planeta de la via láctea sea similar a la tierra es: 3.971539458550295e-11\n"
     ]
    }
   ],
   "source": [
    "prob_sim_earth = p_orbper * p_mass * p_rad * p_temp\n",
    "print(\n",
    "    \"Probabilidad de que un planeta de la via láctea sea similar a la tierra es: {0}\"\n",
    "    .format(prob_sim_earth))"
   ]
  },
  {
   "cell_type": "markdown",
   "id": "9ecf7755",
   "metadata": {
    "id": "9ecf7755"
   },
   "source": [
    "## Parte 2: La Tierra, ¿dónde queda?\n",
    "\n",
    "Usa métodos de estimación para dilucidar, con una confianza del 99%, cuál es la distancia media entre la Tierra y un planeta cualquiera de la Vía Láctea. ¿Es la Tierra un lugar remoto de la galaxia?"
   ]
  },
  {
   "cell_type": "code",
   "execution_count": 26,
   "id": "aae656a7",
   "metadata": {
    "colab": {
     "base_uri": "https://localhost:8080/"
    },
    "executionInfo": {
     "elapsed": 352,
     "status": "ok",
     "timestamp": 1671201225241,
     "user": {
      "displayName": "Erika Ortiz Macias",
      "userId": "15536422613164845843"
     },
     "user_tz": -60
    },
    "id": "aae656a7",
    "outputId": "c4a0329a-8ca6-4a0f-9cd8-9b1414db56cd"
   },
   "outputs": [
    {
     "name": "stdout",
     "output_type": "stream",
     "text": [
      "IC para la Distancia media: [596.6026352827735, 669.1348254285583]\n",
      "La distancia media entre la Tierra y un planeta cualquiera de la Vía Láctea es: 633.4994696969696 pc\n"
     ]
    }
   ],
   "source": [
    "# Calcular la distancia media entre la Tierra y un planeta cualquiera\n",
    "empiric_mean_distance = np.mean(planets_df.Distance_pc)\n",
    "empiric_std_distance = np.std(planets_df.Distance_pc)\n",
    "dist_media = 0\n",
    "alpha = 0.01\n",
    "z = norm.ppf(1. - alpha / 2.)\n",
    "correction = z * empiric_std_distance / np.sqrt(len(planets_df))\n",
    "IC_dist_earth = [\n",
    "    empiric_mean_distance - correction, empiric_mean_distance + correction\n",
    "]\n",
    "\n",
    "print(f\"IC para la Distancia media: {IC_dist_earth}\", flush=True)\n",
    "\n",
    "dist_media = planets_df[\n",
    "    (planets_df.Distance_pc <= (empiric_mean_distance + correction))\n",
    "    & (planets_df.Distance_pc >=\n",
    "       (empiric_mean_distance - correction))].Distance_pc.mean()\n",
    "print(\n",
    "    f\"La distancia media entre la Tierra y un planeta cualquiera de la Vía Láctea es: {dist_media} pc\"\n",
    ")"
   ]
  },
  {
   "cell_type": "markdown",
   "id": "cd5ac0e8",
   "metadata": {
    "id": "cd5ac0e8"
   },
   "source": [
    "## Parte 3: Pues eso, que dónde está todo el mundo.\n",
    "\n",
    "Aquí la distancia se da en pársecs, que equivalen a 3.1 años luz. Un año luz es la distancia cubierta por un fotón durante un año viajando por el vacío. En km equivale a un número absurdamente grande en términos humanamente cotidianos. Las leyes de la física impiden moverse a velocidades cercanas a la luz sin sufrir efectos extravagantes y desgradables, así que vamos a suponer que, en el mejor de los casos, una especie lo suficientemente avanzada puede viajar al 20% de la velocidad de la luz. Vamos a suponer también que el Universo tiene una topología lo bastante regular como para que no se puedan hacer trampas como atravesar agujeros de gusano, teletransportarse u obrar cualquier otro tipo de magia.\n",
    "\n",
    "a) Suponiendo que el Homo Sapiens tiene una antigüedad de 200.000 años, estima el tiempo medio que tardaremos en contactar con una especie extraterrestre que emprendiera su viaje hacia la Tierra justo cuando nosotros comenzamos a pulular por el planeta.\n",
    "\n",
    "b) Suponiendo, además, que dicha especie no tiene modo de saber a priori si un planeta albergará anfitriones y, por lo tanto, escoge uno al azar de entre los que tienen potencial, recalcula tu estimación sobre tiempo que tardaremos en recibir a alguien por casa.\n",
    "\n",
    "c) Reflexiona sobre los resultados y razona hasta qué punto nos encontramos ante una paradoja. ¿Respaldan los datos la idea de que deberíamos haber contactado con otras civilizaciones extraterrestres?\n"
   ]
  },
  {
   "cell_type": "code",
   "execution_count": 12,
   "id": "fc4c47aa",
   "metadata": {
    "colab": {
     "base_uri": "https://localhost:8080/"
    },
    "executionInfo": {
     "elapsed": 16,
     "status": "ok",
     "timestamp": 1671201170861,
     "user": {
      "displayName": "Erika Ortiz Macias",
      "userId": "15536422613164845843"
     },
     "user_tz": -60
    },
    "id": "fc4c47aa",
    "outputId": "7fd56fff-bd1a-4c7e-85d9-cc39389b01c6"
   },
   "outputs": [
    {
     "name": "stdout",
     "output_type": "stream",
     "text": [
      "El tiempo promedio para recorrer la distancia media de la tierra es: 10317.581 años\n"
     ]
    }
   ],
   "source": [
    "# Parte a. Tiempo medio que tardaremos en contactar con una especie extraterrestre\n",
    "homo_sapiens_y = 200000\n",
    "\n",
    "# ly/pc\n",
    "one_parsec = 3.1\n",
    "\n",
    "#lightspeed pc/y. Especie puede viajar al 20% de la velocidad de la luz\n",
    "light_speed_in_pc_per_year = 0.307\n",
    "const_galaxy_speed = light_speed_in_pc_per_year * 0.20\n",
    "\n",
    "#To calculate the time we can use the formula t=d/v. dist(pc)/(pc/y)\n",
    "mean_time = dist_media / const_galaxy_speed\n",
    "\n",
    "print(\n",
    "    f\"El tiempo promedio para recorrer la distancia media de la tierra es: {np.round(mean_time, 3)} años\"\n",
    ")"
   ]
  },
  {
   "cell_type": "code",
   "execution_count": 13,
   "id": "cd059263",
   "metadata": {
    "colab": {
     "base_uri": "https://localhost:8080/"
    },
    "executionInfo": {
     "elapsed": 3,
     "status": "ok",
     "timestamp": 1671201745967,
     "user": {
      "displayName": "Erika Ortiz Macias",
      "userId": "15536422613164845843"
     },
     "user_tz": -60
    },
    "id": "cd059263",
    "outputId": "2337c167-667a-4161-8d89-1e5a4594b620"
   },
   "outputs": [
    {
     "name": "stdout",
     "output_type": "stream",
     "text": [
      "El tiempo para recorrer la distancia media de un planeta similar a la tierra escogido al azar es: [3.79218584e+15 4.25322227e+15] años\n"
     ]
    }
   ],
   "source": [
    "# Parte b\n",
    "\n",
    "#Get the distance using the IC de la distancia y la probabilidad de que un planeta sea similar a la tierra.\n",
    "distance_azar_sim_earth = np.array(IC_dist_earth) / (0.2 /\n",
    "                                                    3.1) / prob_sim_earth\n",
    "\n",
    "#Calculate the time \n",
    "mean_time = np.divide(distance_azar_sim_earth, const_galaxy_speed)\n",
    "\n",
    "print(\n",
    "    f\"El tiempo para recorrer la distancia media de un planeta similar a la tierra escogido al azar es: {mean_time} años\"\n",
    ")"
   ]
  },
  {
   "cell_type": "markdown",
   "id": "cfd4da5c",
   "metadata": {
    "executionInfo": {
     "elapsed": 15,
     "status": "ok",
     "timestamp": 1671201170863,
     "user": {
      "displayName": "Erika Ortiz Macias",
      "userId": "15536422613164845843"
     },
     "user_tz": -60
    },
    "id": "FpAQSkyCeeyR"
   },
   "source": [
    "### Conclusión a la pregunta ¿dónde están todos? \n",
    "\n",
    "De acuerdo con los datos que analizamos, podemos concluir lo siguiente: \n",
    "\n",
    "**1.** Consideramos cuatro métricas para poder establecer si un planeta es similar a la tierra.  Las 4 métricas son: \n",
    "\n",
    "|    **Metric**    | **Values** |\n",
    "|:---------------- |-----------:|\n",
    "| Orbital_Period_d |    365.256 |\n",
    "| Mass_J           |  0.0031453 |\n",
    "| Radious_J        |    0.08856 |\n",
    "| Temp_K           |       5500 |\n",
    "\n",
    "**2.** Al calcular la media y la desviación estándar de los planetas de la via Láctea los valores son los siguientes: \n",
    "\n",
    "| **Metric**       | **Media** |   **Std**  |\n",
    "|:-----------------|---------: |----------: |\n",
    "| Orbital_Period_d |  2549.070 | 124086.378 |\n",
    "| Mass_J           |     2.573 |      4.229 |\n",
    "| Radious_J        |     0.359 |      0.411 |\n",
    "| Temp_K           |  5519.408 |   1741.462 |\n",
    "\n",
    "**3.** La probabilidad de encontrar un planeta similar a la tierra, es decir que cumpla las 4 métricas del punto 1 en todos los planetas de la vía Láctea es: 3.971539458551234e-11. Esta probabilidad es muy baja por lo tanto de los planetas que observamos en el dataset la probabilidad de que alguno sea similar a la tierra es demasiado baja. \n",
    "\n",
    "**4.** La distancia media entre un planeta cualquiera y la tierra con una confianza del 99% es 632.6 pc. 1 pc equivale a 3.1 años luz.  \n",
    "\n",
    "**5.** El tiempo promedio para recorrer la distancia media de la tierra es: 10302.932 años\n",
    "\n",
    "**6.** El tiempo para recorrer la distancia media de un planeta similar a la tierra escogido al azar es: 4.01475292e+15 años\n",
    "\n",
    "**7.** A la pregunta dónde están todos? Podemos responder basados en los datos que la probabilidad de encontrar un planeta similar a la tierra es muy baja y que el tiempo promedio para recorrer la distancia media de una planeta de la via láctea a la tierra es de aproximadamente 10302 años, por lo cual si el homo sapiens tiene una antiguedad de más de 200.000 años, ya tendriamos que haber tenido algún contacto o conocimiento de vida extraterrestre. "
   ]
  }
 ],
 "metadata": {
  "colab": {
   "provenance": []
  },
  "kernelspec": {
   "display_name": "Python 3 (ipykernel)",
   "language": "python",
   "name": "python3"
  },
  "language_info": {
   "codemirror_mode": {
    "name": "ipython",
    "version": 3
   },
   "file_extension": ".py",
   "mimetype": "text/x-python",
   "name": "python",
   "nbconvert_exporter": "python",
   "pygments_lexer": "ipython3",
   "version": "3.10.8"
  },
  "toc": {
   "base_numbering": 1,
   "nav_menu": {},
   "number_sections": true,
   "sideBar": true,
   "skip_h1_title": false,
   "title_cell": "Table of Contents",
   "title_sidebar": "Contents",
   "toc_cell": false,
   "toc_position": {},
   "toc_section_display": true,
   "toc_window_display": false
  },
  "varInspector": {
   "cols": {
    "lenName": 16,
    "lenType": 16,
    "lenVar": 40
   },
   "kernels_config": {
    "python": {
     "delete_cmd_postfix": "",
     "delete_cmd_prefix": "del ",
     "library": "var_list.py",
     "varRefreshCmd": "print(var_dic_list())"
    },
    "r": {
     "delete_cmd_postfix": ") ",
     "delete_cmd_prefix": "rm(",
     "library": "var_list.r",
     "varRefreshCmd": "cat(var_dic_list()) "
    }
   },
   "types_to_exclude": [
    "module",
    "function",
    "builtin_function_or_method",
    "instance",
    "_Feature"
   ],
   "window_display": false
  }
 },
 "nbformat": 4,
 "nbformat_minor": 5
}
