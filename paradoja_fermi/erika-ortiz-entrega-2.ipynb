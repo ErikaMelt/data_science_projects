{
  "cells": [
    {
      "cell_type": "markdown",
      "id": "926a8d28",
      "metadata": {
        "id": "926a8d28"
      },
      "source": [
        "# Problema: ¿Dónde está todo el mundo?\n",
        "\n",
        "\n",
        "## Background: La Paradoja de Fermi\n",
        "\n",
        "En 1950, mientras trabajaba en el Proyecto Manhattan, Enrico Fermi formuló la siguiente pregunta: Con la cantidad de estrellas que hay en la Vía Láctea, muchas de las cuales sin duda albergando planetas a su alrededor, seguro que hay una proporción significativa de los mismos con condiciones similares a las de la Tierra. De estos, habrá una proporción que, además, albergarán vida inteligente. Si es así, ¿cómo es que no hemos contactado con nadie? Este adagio es conocido como la Paradoja de Fermi y se considera una paradoja porque la observación empírica (cero extraterretres) contradice la intuición de que, a juzagar por los datos, la Vía Láctea debería rebosar de vida y, en particular, la Especie Humana debería encontrarse en medio de un enjambre de civilizaciones que van de aquí para allá.\n",
        "\n",
        "Se han propuesto diversas soluciones a la paradoja, desde la más conservadora de que, simplemente, nuestro juicio de los datos es incorrecto hasta las más extravagantes, que sugieren que hay muchas formas de vida pero que la gran mayoría no son computables por nuestros sentidos; pasando por algunas algo ominosas, como que toda civilización debe superar, llegado cierto punto, una suerte de filtro cósmico que suele dar como resultado la extinción en la mayoría de los casos.\n",
        "\n",
        "En esta actividad vamos a hacer uso de algunos datos para dar una posible respuesta a la Paradoja de Fermi."
      ]
    },
    {
      "cell_type": "markdown",
      "source": [
        "# Limpiar y entender el dataset planetas.csv"
      ],
      "metadata": {
        "id": "WfOCB8RCCyVb"
      },
      "id": "WfOCB8RCCyVb"
    },
    {
      "cell_type": "code",
      "execution_count": 3,
      "id": "5ba88f2f",
      "metadata": {
        "colab": {
          "base_uri": "https://localhost:8080/",
          "height": 74
        },
        "id": "5ba88f2f",
        "outputId": "e1f8b13b-de6a-4c85-dc08-50bfefcc08a8"
      },
      "outputs": [
        {
          "output_type": "display_data",
          "data": {
            "text/plain": [
              "<IPython.core.display.HTML object>"
            ],
            "text/html": [
              "\n",
              "     <input type=\"file\" id=\"files-f48a8dc5-dfdb-4ec0-b45d-cba8db31d1b4\" name=\"files[]\" multiple disabled\n",
              "        style=\"border:none\" />\n",
              "     <output id=\"result-f48a8dc5-dfdb-4ec0-b45d-cba8db31d1b4\">\n",
              "      Upload widget is only available when the cell has been executed in the\n",
              "      current browser session. Please rerun this cell to enable.\n",
              "      </output>\n",
              "      <script>// Copyright 2017 Google LLC\n",
              "//\n",
              "// Licensed under the Apache License, Version 2.0 (the \"License\");\n",
              "// you may not use this file except in compliance with the License.\n",
              "// You may obtain a copy of the License at\n",
              "//\n",
              "//      http://www.apache.org/licenses/LICENSE-2.0\n",
              "//\n",
              "// Unless required by applicable law or agreed to in writing, software\n",
              "// distributed under the License is distributed on an \"AS IS\" BASIS,\n",
              "// WITHOUT WARRANTIES OR CONDITIONS OF ANY KIND, either express or implied.\n",
              "// See the License for the specific language governing permissions and\n",
              "// limitations under the License.\n",
              "\n",
              "/**\n",
              " * @fileoverview Helpers for google.colab Python module.\n",
              " */\n",
              "(function(scope) {\n",
              "function span(text, styleAttributes = {}) {\n",
              "  const element = document.createElement('span');\n",
              "  element.textContent = text;\n",
              "  for (const key of Object.keys(styleAttributes)) {\n",
              "    element.style[key] = styleAttributes[key];\n",
              "  }\n",
              "  return element;\n",
              "}\n",
              "\n",
              "// Max number of bytes which will be uploaded at a time.\n",
              "const MAX_PAYLOAD_SIZE = 100 * 1024;\n",
              "\n",
              "function _uploadFiles(inputId, outputId) {\n",
              "  const steps = uploadFilesStep(inputId, outputId);\n",
              "  const outputElement = document.getElementById(outputId);\n",
              "  // Cache steps on the outputElement to make it available for the next call\n",
              "  // to uploadFilesContinue from Python.\n",
              "  outputElement.steps = steps;\n",
              "\n",
              "  return _uploadFilesContinue(outputId);\n",
              "}\n",
              "\n",
              "// This is roughly an async generator (not supported in the browser yet),\n",
              "// where there are multiple asynchronous steps and the Python side is going\n",
              "// to poll for completion of each step.\n",
              "// This uses a Promise to block the python side on completion of each step,\n",
              "// then passes the result of the previous step as the input to the next step.\n",
              "function _uploadFilesContinue(outputId) {\n",
              "  const outputElement = document.getElementById(outputId);\n",
              "  const steps = outputElement.steps;\n",
              "\n",
              "  const next = steps.next(outputElement.lastPromiseValue);\n",
              "  return Promise.resolve(next.value.promise).then((value) => {\n",
              "    // Cache the last promise value to make it available to the next\n",
              "    // step of the generator.\n",
              "    outputElement.lastPromiseValue = value;\n",
              "    return next.value.response;\n",
              "  });\n",
              "}\n",
              "\n",
              "/**\n",
              " * Generator function which is called between each async step of the upload\n",
              " * process.\n",
              " * @param {string} inputId Element ID of the input file picker element.\n",
              " * @param {string} outputId Element ID of the output display.\n",
              " * @return {!Iterable<!Object>} Iterable of next steps.\n",
              " */\n",
              "function* uploadFilesStep(inputId, outputId) {\n",
              "  const inputElement = document.getElementById(inputId);\n",
              "  inputElement.disabled = false;\n",
              "\n",
              "  const outputElement = document.getElementById(outputId);\n",
              "  outputElement.innerHTML = '';\n",
              "\n",
              "  const pickedPromise = new Promise((resolve) => {\n",
              "    inputElement.addEventListener('change', (e) => {\n",
              "      resolve(e.target.files);\n",
              "    });\n",
              "  });\n",
              "\n",
              "  const cancel = document.createElement('button');\n",
              "  inputElement.parentElement.appendChild(cancel);\n",
              "  cancel.textContent = 'Cancel upload';\n",
              "  const cancelPromise = new Promise((resolve) => {\n",
              "    cancel.onclick = () => {\n",
              "      resolve(null);\n",
              "    };\n",
              "  });\n",
              "\n",
              "  // Wait for the user to pick the files.\n",
              "  const files = yield {\n",
              "    promise: Promise.race([pickedPromise, cancelPromise]),\n",
              "    response: {\n",
              "      action: 'starting',\n",
              "    }\n",
              "  };\n",
              "\n",
              "  cancel.remove();\n",
              "\n",
              "  // Disable the input element since further picks are not allowed.\n",
              "  inputElement.disabled = true;\n",
              "\n",
              "  if (!files) {\n",
              "    return {\n",
              "      response: {\n",
              "        action: 'complete',\n",
              "      }\n",
              "    };\n",
              "  }\n",
              "\n",
              "  for (const file of files) {\n",
              "    const li = document.createElement('li');\n",
              "    li.append(span(file.name, {fontWeight: 'bold'}));\n",
              "    li.append(span(\n",
              "        `(${file.type || 'n/a'}) - ${file.size} bytes, ` +\n",
              "        `last modified: ${\n",
              "            file.lastModifiedDate ? file.lastModifiedDate.toLocaleDateString() :\n",
              "                                    'n/a'} - `));\n",
              "    const percent = span('0% done');\n",
              "    li.appendChild(percent);\n",
              "\n",
              "    outputElement.appendChild(li);\n",
              "\n",
              "    const fileDataPromise = new Promise((resolve) => {\n",
              "      const reader = new FileReader();\n",
              "      reader.onload = (e) => {\n",
              "        resolve(e.target.result);\n",
              "      };\n",
              "      reader.readAsArrayBuffer(file);\n",
              "    });\n",
              "    // Wait for the data to be ready.\n",
              "    let fileData = yield {\n",
              "      promise: fileDataPromise,\n",
              "      response: {\n",
              "        action: 'continue',\n",
              "      }\n",
              "    };\n",
              "\n",
              "    // Use a chunked sending to avoid message size limits. See b/62115660.\n",
              "    let position = 0;\n",
              "    do {\n",
              "      const length = Math.min(fileData.byteLength - position, MAX_PAYLOAD_SIZE);\n",
              "      const chunk = new Uint8Array(fileData, position, length);\n",
              "      position += length;\n",
              "\n",
              "      const base64 = btoa(String.fromCharCode.apply(null, chunk));\n",
              "      yield {\n",
              "        response: {\n",
              "          action: 'append',\n",
              "          file: file.name,\n",
              "          data: base64,\n",
              "        },\n",
              "      };\n",
              "\n",
              "      let percentDone = fileData.byteLength === 0 ?\n",
              "          100 :\n",
              "          Math.round((position / fileData.byteLength) * 100);\n",
              "      percent.textContent = `${percentDone}% done`;\n",
              "\n",
              "    } while (position < fileData.byteLength);\n",
              "  }\n",
              "\n",
              "  // All done.\n",
              "  yield {\n",
              "    response: {\n",
              "      action: 'complete',\n",
              "    }\n",
              "  };\n",
              "}\n",
              "\n",
              "scope.google = scope.google || {};\n",
              "scope.google.colab = scope.google.colab || {};\n",
              "scope.google.colab._files = {\n",
              "  _uploadFiles,\n",
              "  _uploadFilesContinue,\n",
              "};\n",
              "})(self);\n",
              "</script> "
            ]
          },
          "metadata": {}
        },
        {
          "output_type": "stream",
          "name": "stdout",
          "text": [
            "Saving planets.csv to planets.csv\n"
          ]
        }
      ],
      "source": [
        "from google.colab import files\n",
        "uploaded = files.upload()"
      ]
    },
    {
      "cell_type": "code",
      "execution_count": 346,
      "id": "d0a46594",
      "metadata": {
        "colab": {
          "base_uri": "https://localhost:8080/"
        },
        "id": "d0a46594",
        "outputId": "13a6100e-6abc-40fe-e627-c8a3a9680e7f"
      },
      "outputs": [
        {
          "output_type": "stream",
          "name": "stdout",
          "text": [
            "(3564, 11)\n",
            "<class 'pandas.core.frame.DataFrame'>\n",
            "Int64Index: 3564 entries, 1 to 3564\n",
            "Data columns (total 11 columns):\n",
            " #   Column       Non-Null Count  Dtype  \n",
            "---  ------       --------------  -----  \n",
            " 0   pl_orbper    3482 non-null   float64\n",
            " 1   pl_orbsmax   2068 non-null   float64\n",
            " 2   pl_orbeccen  1133 non-null   float64\n",
            " 3   pl_orbincl   609 non-null    float64\n",
            " 4   pl_bmassj    1327 non-null   float64\n",
            " 5   pl_radj      2805 non-null   float64\n",
            " 6   pl_dens      460 non-null    float64\n",
            " 7   st_dist      2418 non-null   float64\n",
            " 8   st_teff      3375 non-null   float64\n",
            " 9   st_mass      3249 non-null   float64\n",
            " 10  st_rad       3184 non-null   float64\n",
            "dtypes: float64(11)\n",
            "memory usage: 334.1 KB\n"
          ]
        }
      ],
      "source": [
        "import io\n",
        "import pandas as pd\n",
        "import numpy as np\n",
        "from scipy.stats import norm\n",
        "import matplotlib.pyplot as plt\n",
        "import seaborn as sns\n",
        "\n",
        "path = io.BytesIO(uploaded['planets.csv'])\n",
        "raw_df = pd.read_csv(path, index_col='rowid', skiprows=15)\n",
        "print(raw_df.shape)\n",
        "raw_df.info()"
      ]
    },
    {
      "cell_type": "markdown",
      "source": [
        "**Observaciones**\n",
        "\n",
        "*   El dataset contiene 11 columnas y 3564 registros. \n",
        "*   Para el análisis que vamos a realizar vamos a utilizar 5 columnas relevantes, las cuales son:\n",
        "  - Periodo orbital (días) =  pl_orbper: Orbital Period [days]\n",
        "  - Masa (masas de Júpiter) = pl_bmassj: Planet Mass or M*sin(i)[Jupiter mass]\n",
        "  - Radio (radios de Júpiter) = pl_radj: Planet Radius [Jupiter radii]\n",
        "  - Temperatura estelar efectiva (grados Kelvin) = st_teff: Effective Temperature [K]\n",
        "  - Distancia (pársecs) =  st_dist\n",
        "\n",
        "*   Podemos observar que todas las columnas son numéricas y no hay valores nulos. \n",
        "*   El número de registros para cada columna son diferentes."
      ],
      "metadata": {
        "id": "RrgK_aO5EN-A"
      },
      "id": "RrgK_aO5EN-A"
    },
    {
      "cell_type": "code",
      "source": [
        "# Crear un nuevo dataframe con las columnas relevantes que vamos a utilizar. \n",
        "planets_df = raw_df[[\n",
        "    'pl_orbper', 'pl_bmassj', 'pl_radj', 'st_teff', 'st_dist'\n",
        "]]\n",
        "\n",
        "# Renombrar las columnas con un nombre más ilustrativo. \n",
        "planets_df = planets_df.rename(\n",
        "    columns={\n",
        "        'pl_orbper': 'Orbital_Period_d',\n",
        "        'pl_bmassj': 'Mass_J',\n",
        "        'pl_radj': 'Radius_J',\n",
        "        'st_teff': 'Temp_K',\n",
        "        'st_dist': 'Distance_pc'\n",
        "    })\n",
        "\n",
        "# Verificar que no existan valores duplicados en las columnas. \n",
        "print(planets_df[planets_df.duplicated(keep=False)])\n",
        "\n",
        "# Eliminar dos filas que tienen NaN values en todas las columnas \n",
        "print(f'Tamaño del set antes de eliminar las filas con NaN: {planets_df.shape}')\n",
        "planets_df.dropna(axis = 0, how = 'all', inplace = True)\n",
        "print(f'Tamaño del set después de eliminar las filas con NaN: {planets_df.shape}')"
      ],
      "metadata": {
        "colab": {
          "base_uri": "https://localhost:8080/"
        },
        "id": "F3SWpKpCEHnq",
        "outputId": "71b85da6-af4d-4b94-e477-522efc8d2402"
      },
      "id": "F3SWpKpCEHnq",
      "execution_count": 347,
      "outputs": [
        {
          "output_type": "stream",
          "name": "stdout",
          "text": [
            "       Orbital_Period_d  Mass_J  Radius_J  Temp_K  Distance_pc\n",
            "rowid                                                         \n",
            "3257                NaN     NaN       NaN     NaN          NaN\n",
            "3258                NaN     NaN       NaN     NaN          NaN\n",
            "Tamaño del set antes de eliminar las filas con NaN: (3564, 5)\n",
            "Tamaño del set después de eliminar las filas con NaN: (3562, 5)\n"
          ]
        }
      ]
    },
    {
      "cell_type": "code",
      "source": [
        "planets_df.describe()"
      ],
      "metadata": {
        "colab": {
          "base_uri": "https://localhost:8080/",
          "height": 300
        },
        "id": "RQrZHZFgUO93",
        "outputId": "c5d7eed6-024f-48c1-d039-0735fcac03b4"
      },
      "id": "RQrZHZFgUO93",
      "execution_count": 348,
      "outputs": [
        {
          "output_type": "execute_result",
          "data": {
            "text/plain": [
              "       Orbital_Period_d       Mass_J     Radius_J        Temp_K  Distance_pc\n",
              "count      3.482000e+03  1327.000000  2805.000000   3375.000000  2418.000000\n",
              "mean       2.549070e+03     2.572577     0.359421   5519.407852   632.868730\n",
              "std        1.241042e+05     4.231024     0.411342   1741.719988   840.702593\n",
              "min        9.070629e-02     0.000060     0.029000    575.000000     1.290000\n",
              "25%        4.645043e+00     0.193500     0.138000   5079.000000    95.157500\n",
              "50%        1.255604e+01     0.960000     0.205000   5616.000000   494.500000\n",
              "75%        4.514708e+01     2.640000     0.304000   5935.500000   880.000000\n",
              "max        7.300000e+06    30.000000     6.900000  57000.000000  8500.000000"
            ],
            "text/html": [
              "\n",
              "  <div id=\"df-27f9b6e2-e76d-4646-878b-41c3cf24ba7d\">\n",
              "    <div class=\"colab-df-container\">\n",
              "      <div>\n",
              "<style scoped>\n",
              "    .dataframe tbody tr th:only-of-type {\n",
              "        vertical-align: middle;\n",
              "    }\n",
              "\n",
              "    .dataframe tbody tr th {\n",
              "        vertical-align: top;\n",
              "    }\n",
              "\n",
              "    .dataframe thead th {\n",
              "        text-align: right;\n",
              "    }\n",
              "</style>\n",
              "<table border=\"1\" class=\"dataframe\">\n",
              "  <thead>\n",
              "    <tr style=\"text-align: right;\">\n",
              "      <th></th>\n",
              "      <th>Orbital_Period_d</th>\n",
              "      <th>Mass_J</th>\n",
              "      <th>Radius_J</th>\n",
              "      <th>Temp_K</th>\n",
              "      <th>Distance_pc</th>\n",
              "    </tr>\n",
              "  </thead>\n",
              "  <tbody>\n",
              "    <tr>\n",
              "      <th>count</th>\n",
              "      <td>3.482000e+03</td>\n",
              "      <td>1327.000000</td>\n",
              "      <td>2805.000000</td>\n",
              "      <td>3375.000000</td>\n",
              "      <td>2418.000000</td>\n",
              "    </tr>\n",
              "    <tr>\n",
              "      <th>mean</th>\n",
              "      <td>2.549070e+03</td>\n",
              "      <td>2.572577</td>\n",
              "      <td>0.359421</td>\n",
              "      <td>5519.407852</td>\n",
              "      <td>632.868730</td>\n",
              "    </tr>\n",
              "    <tr>\n",
              "      <th>std</th>\n",
              "      <td>1.241042e+05</td>\n",
              "      <td>4.231024</td>\n",
              "      <td>0.411342</td>\n",
              "      <td>1741.719988</td>\n",
              "      <td>840.702593</td>\n",
              "    </tr>\n",
              "    <tr>\n",
              "      <th>min</th>\n",
              "      <td>9.070629e-02</td>\n",
              "      <td>0.000060</td>\n",
              "      <td>0.029000</td>\n",
              "      <td>575.000000</td>\n",
              "      <td>1.290000</td>\n",
              "    </tr>\n",
              "    <tr>\n",
              "      <th>25%</th>\n",
              "      <td>4.645043e+00</td>\n",
              "      <td>0.193500</td>\n",
              "      <td>0.138000</td>\n",
              "      <td>5079.000000</td>\n",
              "      <td>95.157500</td>\n",
              "    </tr>\n",
              "    <tr>\n",
              "      <th>50%</th>\n",
              "      <td>1.255604e+01</td>\n",
              "      <td>0.960000</td>\n",
              "      <td>0.205000</td>\n",
              "      <td>5616.000000</td>\n",
              "      <td>494.500000</td>\n",
              "    </tr>\n",
              "    <tr>\n",
              "      <th>75%</th>\n",
              "      <td>4.514708e+01</td>\n",
              "      <td>2.640000</td>\n",
              "      <td>0.304000</td>\n",
              "      <td>5935.500000</td>\n",
              "      <td>880.000000</td>\n",
              "    </tr>\n",
              "    <tr>\n",
              "      <th>max</th>\n",
              "      <td>7.300000e+06</td>\n",
              "      <td>30.000000</td>\n",
              "      <td>6.900000</td>\n",
              "      <td>57000.000000</td>\n",
              "      <td>8500.000000</td>\n",
              "    </tr>\n",
              "  </tbody>\n",
              "</table>\n",
              "</div>\n",
              "      <button class=\"colab-df-convert\" onclick=\"convertToInteractive('df-27f9b6e2-e76d-4646-878b-41c3cf24ba7d')\"\n",
              "              title=\"Convert this dataframe to an interactive table.\"\n",
              "              style=\"display:none;\">\n",
              "        \n",
              "  <svg xmlns=\"http://www.w3.org/2000/svg\" height=\"24px\"viewBox=\"0 0 24 24\"\n",
              "       width=\"24px\">\n",
              "    <path d=\"M0 0h24v24H0V0z\" fill=\"none\"/>\n",
              "    <path d=\"M18.56 5.44l.94 2.06.94-2.06 2.06-.94-2.06-.94-.94-2.06-.94 2.06-2.06.94zm-11 1L8.5 8.5l.94-2.06 2.06-.94-2.06-.94L8.5 2.5l-.94 2.06-2.06.94zm10 10l.94 2.06.94-2.06 2.06-.94-2.06-.94-.94-2.06-.94 2.06-2.06.94z\"/><path d=\"M17.41 7.96l-1.37-1.37c-.4-.4-.92-.59-1.43-.59-.52 0-1.04.2-1.43.59L10.3 9.45l-7.72 7.72c-.78.78-.78 2.05 0 2.83L4 21.41c.39.39.9.59 1.41.59.51 0 1.02-.2 1.41-.59l7.78-7.78 2.81-2.81c.8-.78.8-2.07 0-2.86zM5.41 20L4 18.59l7.72-7.72 1.47 1.35L5.41 20z\"/>\n",
              "  </svg>\n",
              "      </button>\n",
              "      \n",
              "  <style>\n",
              "    .colab-df-container {\n",
              "      display:flex;\n",
              "      flex-wrap:wrap;\n",
              "      gap: 12px;\n",
              "    }\n",
              "\n",
              "    .colab-df-convert {\n",
              "      background-color: #E8F0FE;\n",
              "      border: none;\n",
              "      border-radius: 50%;\n",
              "      cursor: pointer;\n",
              "      display: none;\n",
              "      fill: #1967D2;\n",
              "      height: 32px;\n",
              "      padding: 0 0 0 0;\n",
              "      width: 32px;\n",
              "    }\n",
              "\n",
              "    .colab-df-convert:hover {\n",
              "      background-color: #E2EBFA;\n",
              "      box-shadow: 0px 1px 2px rgba(60, 64, 67, 0.3), 0px 1px 3px 1px rgba(60, 64, 67, 0.15);\n",
              "      fill: #174EA6;\n",
              "    }\n",
              "\n",
              "    [theme=dark] .colab-df-convert {\n",
              "      background-color: #3B4455;\n",
              "      fill: #D2E3FC;\n",
              "    }\n",
              "\n",
              "    [theme=dark] .colab-df-convert:hover {\n",
              "      background-color: #434B5C;\n",
              "      box-shadow: 0px 1px 3px 1px rgba(0, 0, 0, 0.15);\n",
              "      filter: drop-shadow(0px 1px 2px rgba(0, 0, 0, 0.3));\n",
              "      fill: #FFFFFF;\n",
              "    }\n",
              "  </style>\n",
              "\n",
              "      <script>\n",
              "        const buttonEl =\n",
              "          document.querySelector('#df-27f9b6e2-e76d-4646-878b-41c3cf24ba7d button.colab-df-convert');\n",
              "        buttonEl.style.display =\n",
              "          google.colab.kernel.accessAllowed ? 'block' : 'none';\n",
              "\n",
              "        async function convertToInteractive(key) {\n",
              "          const element = document.querySelector('#df-27f9b6e2-e76d-4646-878b-41c3cf24ba7d');\n",
              "          const dataTable =\n",
              "            await google.colab.kernel.invokeFunction('convertToInteractive',\n",
              "                                                     [key], {});\n",
              "          if (!dataTable) return;\n",
              "\n",
              "          const docLinkHtml = 'Like what you see? Visit the ' +\n",
              "            '<a target=\"_blank\" href=https://colab.research.google.com/notebooks/data_table.ipynb>data table notebook</a>'\n",
              "            + ' to learn more about interactive tables.';\n",
              "          element.innerHTML = '';\n",
              "          dataTable['output_type'] = 'display_data';\n",
              "          await google.colab.output.renderOutput(dataTable, element);\n",
              "          const docLink = document.createElement('div');\n",
              "          docLink.innerHTML = docLinkHtml;\n",
              "          element.appendChild(docLink);\n",
              "        }\n",
              "      </script>\n",
              "    </div>\n",
              "  </div>\n",
              "  "
            ]
          },
          "metadata": {},
          "execution_count": 348
        }
      ]
    },
    {
      "cell_type": "markdown",
      "source": [
        "# **Observaciones Estadística Descriptiva**\n",
        "\n",
        "\n",
        "*   La columna **Orbital_Period_d** tiene un valor max de 7.300000e+06 lo cual parece un valor extremo. \n",
        "*   La columna **Temp_K** tiene un valor max de 57000. \n",
        "*   La distancia media es de 632.87 pc. \n",
        "\n",
        "Vamos a verificar los outliers con gráficas tipo \"boxplot\"."
      ],
      "metadata": {
        "id": "fmI824u0Pj-v"
      },
      "id": "fmI824u0Pj-v"
    },
    {
      "cell_type": "code",
      "source": [
        "cols_num = ['Orbital_Period_d', 'Temp_K', 'Radius_J','Distance_pc', 'Mass_J' ]\n",
        "\n",
        "fig, ax = plt.subplots(nrows=5, ncols=1, figsize=(8,30))\n",
        "fig.subplots_adjust(hspace=0.5)\n",
        "\n",
        "for i, col in enumerate(cols_num):\n",
        "    sns.boxplot(x=col, data=planets_df, ax=ax[i])\n",
        "    ax[i].set_title(col)"
      ],
      "metadata": {
        "colab": {
          "base_uri": "https://localhost:8080/",
          "height": 1000
        },
        "id": "e-Y6eWh2TaUg",
        "outputId": "40795f6f-dcfb-42e6-e8d1-a66d756c180c"
      },
      "id": "e-Y6eWh2TaUg",
      "execution_count": 288,
      "outputs": [
        {
          "output_type": "display_data",
          "data": {
            "text/plain": [
              "<Figure size 576x2160 with 5 Axes>"
            ],
            "image/png": "[encoded data removed]"
          },
          "metadata": {
            "needs_background": "light"
          }
        }
      ]
    },
    {
      "cell_type": "code",
      "source": [
        "print(np.where(planets_df['Orbital_Period_d']>=7300000.0))\n",
        "print(np.where(planets_df['Temp_K']>=57000))\n",
        "print(np.where(planets_df['Radius_J']>3))"
      ],
      "metadata": {
        "colab": {
          "base_uri": "https://localhost:8080/"
        },
        "id": "ezc3DS81ZB4-",
        "outputId": "1921a91b-8ee0-41a6-cf28-bf5adf55ca62"
      },
      "id": "ezc3DS81ZB4-",
      "execution_count": 334,
      "outputs": [
        {
          "output_type": "stream",
          "name": "stdout",
          "text": [
            "(array([3330]),)\n",
            "(array([3286, 3287]),)\n",
            "(array([250]),)\n"
          ]
        }
      ]
    },
    {
      "cell_type": "markdown",
      "source": [
        "**Observaciones**\n",
        "\n",
        "*   Según los boxplots podemos ver que existen outliers, vamos a identificar la cantidad de outliers que tenemos, tener estos outliers no significa que sean datos incorrectos, depende del contexto del problema y al dominio experto del tema se puede decir si se eliminan ó no. \n",
        "*   La columna **Orbital_Period** tiene un valor extremo mayor o igual 7300000. \n",
        "*   La columna **Temp_K**  tiene dos valores extremos mayores a 57000. \n",
        "*   La columna **Radius_J** tiene un valor extremo mayor a 3. \n",
        "*   Ya que no tenemos suficiente contexto para afirmar si estos valores realmente corresponden a valores improbables, continuaremos el análisis sin eliminar los outliers. "
      ],
      "metadata": {
        "id": "6KzdqMDWYqyC"
      },
      "id": "6KzdqMDWYqyC"
    },
    {
      "cell_type": "markdown",
      "id": "52787f06",
      "metadata": {
        "id": "52787f06"
      },
      "source": [
        "## Parte 1: ¿Es la Tierra un planeta común en la Vía Láctea?\n",
        "\n",
        "Descárgate el fichero planets.csv. En él hallarás datos sobre planetas extrasolares. Establecer una métrica de similitud entre la Tierra y otro planeta es complicado, pero para no forzar demasiado la máquina vamos a trabajar con un modelo muy simplificado. Supondremos que un planeta es homologable a la Tierra si sus valores para los siguientes parámetros no son más de un 10% distintos a los de la Tierra:\n",
        "1. Periodo orbital (en días)\n",
        "2. Masa (en masas de Júpiter)\n",
        "3. Radio (en radios de Júpiter)\n",
        "4. Temperatura estelar efectiva (en grados Kelvin)\n",
        "\n",
        "La condición 4 resulta de relevancia evidente para nuestra supervivencia. La 1 puede o no ser relevante, pero cuanto más parecida a la de la Tierra menos probabilidad de fluctuaciones caóticas en el clima. La 3 y la 4 tienen que ver con la gravedad en la superfície del planeta, esta sí, de críticas consecuencias para una vida homologable a la humana.\n",
        "\n",
        "Los valores de la Tierra son los siguientes:\n",
        "1. 365.256 días\n",
        "2. 0.0031453 masas de Júpiter\n",
        "3. 0.08856 radios de Júpiter\n",
        "4. 5500 K\n",
        "\n"
      ]
    },
    {
      "cell_type": "markdown",
      "id": "2ff0f0f9",
      "metadata": {
        "id": "2ff0f0f9"
      },
      "source": [
        "A partir del fichero de datos, estima la media y la desviación de estas 4 métricas para todos los planetas de la Via Láctea. Suponiendo que todas ellas siguen una distribución normal con los parámetros obtenidos y que se trata de medidas independientes, calcula la probabilidad de que un planeta de la Vía Láctea escogido al azar sea similar a la Tierra."
      ]
    },
    {
      "cell_type": "code",
      "execution_count": 349,
      "id": "1bab84bf",
      "metadata": {
        "colab": {
          "base_uri": "https://localhost:8080/"
        },
        "id": "1bab84bf",
        "outputId": "ca99a512-7f38-4440-ec94-bec9d507522d"
      },
      "outputs": [
        {
          "output_type": "stream",
          "name": "stdout",
          "text": [
            "La media de las 4 métricas de los planetas de la Via Láctea es: Orbital_Period_d    2549.070\n",
            "Mass_J                 2.573\n",
            "Radius_J               0.359\n",
            "Temp_K              5519.408\n",
            "dtype: float64\n",
            "La desviación estándar de las 4 métricas de los planetas de la Via Láctea es: Orbital_Period_d    124086.378\n",
            "Mass_J                   4.229\n",
            "Radius_J                 0.411\n",
            "Temp_K                1741.462\n",
            "dtype: float64\n"
          ]
        }
      ],
      "source": [
        "# Valores de la Tierra\n",
        "tolerance = 0.10\n",
        "earth_orbper_days = 365.256\n",
        "earth_massj = 0.0031453\n",
        "earth_radj = 0.08856\n",
        "earth_temp_k = 5500\n",
        "\n",
        "# Calcular la media Y la desviación estándar \n",
        "empiric_mean = np.mean(\n",
        "    planets_df.loc[:, ['Orbital_Period_d', 'Mass_J', 'Radius_J', 'Temp_K']],\n",
        "    axis=0)\n",
        "empiric_std = np.std(\n",
        "    planets_df.loc[:, ['Orbital_Period_d', 'Mass_J', 'Radius_J', 'Temp_K']],\n",
        "    axis=0)\n",
        "\n",
        "print(\"La media de las 4 métricas de los planetas de la Via Láctea es: {}\".\n",
        "      format(np.round(empiric_mean, 3)))\n",
        "\n",
        "print(\n",
        "    \"La desviación estándar de las 4 métricas de los planetas de la Via Láctea es: {}\"\n",
        "    .format(np.round(empiric_std,3)))\n",
        "\n",
        "# Valores de tolerancia para que un planeta sea considerado similar a la tierra\n",
        "earth_orbper_max = earth_orbper_days + (earth_orbper_days * tolerance)\n",
        "earth_orbper_min = earth_orbper_days - (earth_orbper_days * tolerance)\n",
        "\n",
        "earth_mass_max = earth_massj + (earth_massj * tolerance)\n",
        "earth_mass_min = earth_massj - (earth_massj * tolerance)\n",
        "\n",
        "earth_rad_max = earth_radj + (earth_radj * tolerance)\n",
        "earth_rad_min = earth_radj - (earth_radj * tolerance)\n",
        "\n",
        "earth_temp_max = earth_temp_k + (earth_temp_k * tolerance)\n",
        "earth_temp_min = earth_temp_k - (earth_temp_k * tolerance)\n",
        "\n",
        "cond_mass = ((earth_mass_min <= planets_df['Mass_J']) &\n",
        "             (planets_df['Mass_J'] <= earth_mass_max))\n",
        "cond_orb = ((earth_orbper_min <= planets_df['Orbital_Period_d']) &\n",
        "            (planets_df['Orbital_Period_d'] <= earth_orbper_max))\n",
        "cond_rad = ((earth_rad_min <= planets_df['Radius_J']) &\n",
        "            (planets_df['Radius_J'] <= earth_rad_max))\n",
        "cond_temp = ((earth_temp_min <= planets_df['Temp_K']) &\n",
        "             (planets_df['Temp_K'] <= earth_temp_max))"
      ]
    },
    {
      "cell_type": "code",
      "execution_count": 350,
      "id": "A5piqdGEYsMR",
      "metadata": {
        "colab": {
          "base_uri": "https://localhost:8080/"
        },
        "id": "A5piqdGEYsMR",
        "outputId": "5975d352-93e4-4faf-c280-9a16f4b7f69c"
      },
      "outputs": [
        {
          "output_type": "execute_result",
          "data": {
            "text/plain": [
              "0.00023482592942880576"
            ]
          },
          "metadata": {},
          "execution_count": 350
        }
      ],
      "source": [
        "p_orbper = norm.cdf(x=earth_orbper_max,\n",
        "                    loc=empiric_mean[\"Orbital_Period_d\"],\n",
        "                    scale=empiric_std[\"Orbital_Period_d\"]) - norm.cdf(\n",
        "                        x=earth_orbper_min,\n",
        "                        loc=empiric_mean[\"Orbital_Period_d\"],\n",
        "                        scale=empiric_std[\"Orbital_Period_d\"])\n",
        "\n",
        "p_orbper"
      ]
    },
    {
      "cell_type": "code",
      "execution_count": 351,
      "id": "wW8eITWeZvzl",
      "metadata": {
        "colab": {
          "base_uri": "https://localhost:8080/"
        },
        "id": "wW8eITWeZvzl",
        "outputId": "ab57cd66-b0ce-4539-ce79-9fc8aeabb0ca"
      },
      "outputs": [
        {
          "output_type": "execute_result",
          "data": {
            "text/plain": [
              "4.9337538981175655e-05"
            ]
          },
          "metadata": {},
          "execution_count": 351
        }
      ],
      "source": [
        "p_mass = norm.cdf(\n",
        "    x=earth_mass_max, loc=empiric_mean[\"Mass_J\"],\n",
        "    scale=empiric_std[\"Mass_J\"]) - norm.cdf(x=earth_mass_min,\n",
        "                                            loc=empiric_mean[\"Mass_J\"],\n",
        "                                            scale=empiric_std[\"Mass_J\"])\n",
        "\n",
        "p_mass"
      ]
    },
    {
      "cell_type": "code",
      "execution_count": 352,
      "id": "DhdEABnQaPgu",
      "metadata": {
        "colab": {
          "base_uri": "https://localhost:8080/"
        },
        "id": "DhdEABnQaPgu",
        "outputId": "838688dd-33ff-428d-93a7-cfbc1f732fbb"
      },
      "outputs": [
        {
          "output_type": "execute_result",
          "data": {
            "text/plain": [
              "0.24785098490604696"
            ]
          },
          "metadata": {},
          "execution_count": 352
        }
      ],
      "source": [
        "p_temp = norm.cdf(\n",
        "    x=earth_temp_max, loc=empiric_mean[\"Temp_K\"],\n",
        "    scale=empiric_std[\"Temp_K\"]) - norm.cdf(x=earth_temp_min,\n",
        "                                            loc=empiric_mean[\"Temp_K\"],\n",
        "                                            scale=empiric_std[\"Temp_K\"])\n",
        "\n",
        "p_temp"
      ]
    },
    {
      "cell_type": "code",
      "execution_count": 353,
      "id": "5ez5tmOXal3j",
      "metadata": {
        "colab": {
          "base_uri": "https://localhost:8080/"
        },
        "id": "5ez5tmOXal3j",
        "outputId": "7726ca72-5175-4774-9039-4f1cb689ced3"
      },
      "outputs": [
        {
          "output_type": "execute_result",
          "data": {
            "text/plain": [
              "0.013830717167380768"
            ]
          },
          "metadata": {},
          "execution_count": 353
        }
      ],
      "source": [
        "p_rad = norm.cdf(x=earth_rad_max,\n",
        "                 loc=empiric_mean[\"Radius_J\"],\n",
        "                 scale=empiric_std[\"Radius_J\"]) - norm.cdf(\n",
        "                     x=earth_rad_min,\n",
        "                     loc=empiric_mean[\"Radius_J\"],\n",
        "                     scale=empiric_std[\"Radius_J\"])\n",
        "\n",
        "p_rad"
      ]
    },
    {
      "cell_type": "code",
      "execution_count": 354,
      "id": "2HgTv-bNY2li",
      "metadata": {
        "colab": {
          "base_uri": "https://localhost:8080/"
        },
        "id": "2HgTv-bNY2li",
        "outputId": "5c51ffdb-bb64-44bd-b6c3-268591280f72"
      },
      "outputs": [
        {
          "output_type": "stream",
          "name": "stdout",
          "text": [
            "Probabilidad de que un planeta de la via láctea sea similar a la tierra es: 3.971539458550295e-11\n"
          ]
        }
      ],
      "source": [
        "prob_sim_earth = p_orbper * p_mass * p_rad * p_temp\n",
        "print(\n",
        "    \"Probabilidad de que un planeta de la via láctea sea similar a la tierra es: {0}\"\n",
        "    .format(prob_sim_earth))"
      ]
    },
    {
      "cell_type": "markdown",
      "id": "9ecf7755",
      "metadata": {
        "id": "9ecf7755"
      },
      "source": [
        "## Parte 2: La Tierra, ¿dónde queda?\n",
        "\n",
        "Usa métodos de estimación para dilucidar, con una confianza del 99%, cuál es la distancia media entre la Tierra y un planeta cualquiera de la Vía Láctea. ¿Es la Tierra un lugar remoto de la galaxia?"
      ]
    },
    {
      "cell_type": "code",
      "execution_count": 355,
      "id": "aae656a7",
      "metadata": {
        "colab": {
          "base_uri": "https://localhost:8080/"
        },
        "id": "aae656a7",
        "outputId": "fa72e7b2-39ba-42b7-8a16-0c52d1e4443e"
      },
      "outputs": [
        {
          "output_type": "stream",
          "name": "stdout",
          "text": [
            "IC para la Distancia media: [596.5924553260612, 669.1450053852706]\n",
            "La distancia media entre la Tierra y un planeta cualquiera de la Vía Láctea es: 633.4994696969696 pc\n"
          ]
        }
      ],
      "source": [
        "# Calcular la distancia media entre la Tierra y un planeta cualquiera\n",
        "empiric_mean_distance = np.mean(planets_df.Distance_pc)\n",
        "empiric_std_distance = np.std(planets_df.Distance_pc)\n",
        "dist_media = 0\n",
        "alpha = 0.01\n",
        "z = norm.ppf(1. - alpha / 2.)\n",
        "correction = z * empiric_std_distance / np.sqrt(len(planets_df))\n",
        "IC_dist_earth = [\n",
        "    empiric_mean_distance - correction, empiric_mean_distance + correction\n",
        "]\n",
        "\n",
        "print(f\"IC para la Distancia media: {IC_dist_earth}\", flush=True)\n",
        "\n",
        "dist_media = planets_df[\n",
        "    (planets_df.Distance_pc <= (empiric_mean_distance + correction))\n",
        "    & (planets_df.Distance_pc >=\n",
        "       (empiric_mean_distance - correction))].Distance_pc.mean()\n",
        "print(\n",
        "    f\"La distancia media entre la Tierra y un planeta cualquiera de la Vía Láctea es: {dist_media} pc\"\n",
        ")"
      ]
    },
    {
      "cell_type": "markdown",
      "id": "cd5ac0e8",
      "metadata": {
        "id": "cd5ac0e8"
      },
      "source": [
        "## Parte 3: Pues eso, que dónde está todo el mundo.\n",
        "\n",
        "Aquí la distancia se da en pársecs, que equivalen a 3.1 años luz. Un año luz es la distancia cubierta por un fotón durante un año viajando por el vacío. En km equivale a un número absurdamente grande en términos humanamente cotidianos. Las leyes de la física impiden moverse a velocidades cercanas a la luz sin sufrir efectos extravagantes y desgradables, así que vamos a suponer que, en el mejor de los casos, una especie lo suficientemente avanzada puede viajar al 20% de la velocidad de la luz. Vamos a suponer también que el Universo tiene una topología lo bastante regular como para que no se puedan hacer trampas como atravesar agujeros de gusano, teletransportarse u obrar cualquier otro tipo de magia.\n",
        "\n",
        "a) Suponiendo que el Homo Sapiens tiene una antigüedad de 200.000 años, estima el tiempo medio que tardaremos en contactar con una especie extraterrestre que emprendiera su viaje hacia la Tierra justo cuando nosotros comenzamos a pulular por el planeta.\n",
        "\n",
        "b) Suponiendo, además, que dicha especie no tiene modo de saber a priori si un planeta albergará anfitriones y, por lo tanto, escoge uno al azar de entre los que tienen potencial, recalcula tu estimación sobre tiempo que tardaremos en recibir a alguien por casa.\n",
        "\n",
        "c) Reflexiona sobre los resultados y razona hasta qué punto nos encontramos ante una paradoja. ¿Respaldan los datos la idea de que deberíamos haber contactado con otras civilizaciones extraterrestres?\n"
      ]
    },
    {
      "cell_type": "code",
      "execution_count": 356,
      "id": "fc4c47aa",
      "metadata": {
        "colab": {
          "base_uri": "https://localhost:8080/"
        },
        "id": "fc4c47aa",
        "outputId": "9e8345d6-d7e4-445c-fa4e-9c9da74f5e29"
      },
      "outputs": [
        {
          "output_type": "stream",
          "name": "stdout",
          "text": [
            "El tiempo promedio para recorrer la distancia media de la tierra es: 10317.581 años\n"
          ]
        }
      ],
      "source": [
        "# Parte a. Tiempo medio que tardaremos en contactar con una especie extraterrestre\n",
        "homo_sapiens_y = 200000\n",
        "\n",
        "# ly/pc\n",
        "one_parsec = 3.1\n",
        "\n",
        "#lightspeed pc/y. Especie puede viajar al 20% de la velocidad de la luz\n",
        "light_speed_in_pc_per_year = 0.307\n",
        "const_galaxy_speed = light_speed_in_pc_per_year * 0.20\n",
        "\n",
        "#To calculate the time we can use the formula t=d/v. dist(pc)/(pc/y)\n",
        "mean_time = dist_media / const_galaxy_speed\n",
        "\n",
        "print(\n",
        "    f\"El tiempo promedio para recorrer la distancia media de la tierra es: {np.round(mean_time, 3)} años\"\n",
        ")"
      ]
    },
    {
      "cell_type": "code",
      "execution_count": 357,
      "id": "cd059263",
      "metadata": {
        "colab": {
          "base_uri": "https://localhost:8080/"
        },
        "id": "cd059263",
        "outputId": "d89823ef-13f3-47dc-997e-74409a4623a5"
      },
      "outputs": [
        {
          "output_type": "stream",
          "name": "stdout",
          "text": [
            "El tiempo para recorrer la distancia media de un planeta similar a la tierra escogido al azar es: [3.79212114e+15 4.25328697e+15] años\n"
          ]
        }
      ],
      "source": [
        "# Parte b\n",
        "\n",
        "#Get the distance using the IC de la distancia y la probabilidad de que un planeta sea similar a la tierra.\n",
        "distance_azar_sim_earth = np.array(IC_dist_earth) / (0.2 /\n",
        "                                                    3.1) / prob_sim_earth\n",
        "\n",
        "#Calculate the time \n",
        "mean_time = np.divide(distance_azar_sim_earth, const_galaxy_speed)\n",
        "\n",
        "print(\n",
        "    f\"El tiempo para recorrer la distancia media de un planeta similar a la tierra escogido al azar es: {mean_time} años\"\n",
        ")"
      ]
    },
    {
      "cell_type": "markdown",
      "id": "cfd4da5c",
      "metadata": {
        "id": "cfd4da5c"
      },
      "source": [
        "### Conclusión a la pregunta ¿dónde están todos? \n",
        "\n",
        "De acuerdo con los datos que analizamos, podemos concluir lo siguiente: \n",
        "\n",
        "**1.** Consideramos cuatro métricas para poder establecer si un planeta es similar a la tierra.  Las 4 métricas son: \n",
        "\n",
        "|    **Metric**    | **Values** |\n",
        "|:---------------- |-----------:|\n",
        "| Orbital_Period_d |    365.256 |\n",
        "| Mass_J           |  0.0031453 |\n",
        "| Radius_J        |    0.08856 |\n",
        "| Temp_K           |       5500 |\n",
        "\n",
        "La probabilidad de encontrar un planeta similar a la tierra, es decir que cumpla las 4 métricas que permiten que exista la vida en la tierra como la conocemos, es de 3.97e-11. Es una probabilidad muy baja por lo tanto podriamos concluir que para el set de datos analizados no existe un planeta que sea similar a la tierra. \n",
        "\n",
        "**2.** La distancia media entre un planeta cualquiera y la tierra con una confianza del 99% es 633.50 pc.   \n",
        "\n",
        "**3.** El tiempo promedio para recorrer la distancia media de la tierra es: 10317.581 años\n",
        "\n",
        "**4.** El tiempo para recorrer la distancia media de un planeta similar a la tierra escogido al azar es: 4.25e+15 años\n",
        "\n",
        "**5.** A la pregunta **dónde están todos?** Podemos responder basados en los datos lo siguiente: \n",
        "\n",
        "  *   Según la probabilidad calculada es muy poco probable que encontremos un planeta similar a las condiciones de la tierra para albergar vida como la conocemos. \n",
        "  *   El tiempo promedio para recorrer la distancia media de la tierra es muy grande, por lo cual estamos muy lejos los unos de los otros, lo que nos impide detectar vida fuera de la tierra o simplemente no tenemos la suficiente tecnología para hacerlo. \n",
        "  *   Puede que existan otras formas de vida que no podemos detectar con las condiciones que conocemos, la NASA es su programa de investigación para la búsqueda de planetas habitables exoplanets, lanzó en el año 2009 la misión espacial Kepler, el cual es un telescopio espacial con el objetivo de descrubir planetas similares a las condiciones de la tierra orbitando otras estrellas, hasta la fecha no han logrado descrubir ningún planeta similar. Fuente: [NASA Search for habitable planets](https://www.jpl.nasa.gov/news/in-the-zone-how-scientists-search-for-habitable-planets). \n",
        "\n",
        "  *   Investigadores del instituto del futuro de la humanidad de la universidad de Oxford, publicaron en el año 2018 un estudio llamado \"Dissolving the Fermi Paradox\" y una de las conclusiones fue: \"we find a substantial probability that we are alone in our galaxy, and perhaps even in our observable universe (53%–99.6% and 39%–85% respectively). ’Where are they?’ — probably extremely far away, and quite possibly beyond the cosmological horizon and forever unreachable\". Fuente: [Dissolving the Fermi Paradox](https://arxiv.org/pdf/1806.02404.pdf)"
      ]
    }
  ],
  "metadata": {
    "colab": {
      "provenance": []
    },
    "kernelspec": {
      "display_name": "Python 3 (ipykernel)",
      "language": "python",
      "name": "python3"
    },
    "language_info": {
      "codemirror_mode": {
        "name": "ipython",
        "version": 3
      },
      "file_extension": ".py",
      "mimetype": "text/x-python",
      "name": "python",
      "nbconvert_exporter": "python",
      "pygments_lexer": "ipython3",
      "version": "3.10.8"
    },
    "toc": {
      "base_numbering": 1,
      "nav_menu": {},
      "number_sections": true,
      "sideBar": true,
      "skip_h1_title": false,
      "title_cell": "Table of Contents",
      "title_sidebar": "Contents",
      "toc_cell": false,
      "toc_position": {},
      "toc_section_display": true,
      "toc_window_display": false
    },
    "varInspector": {
      "cols": {
        "lenName": 16,
        "lenType": 16,
        "lenVar": 40
      },
      "kernels_config": {
        "python": {
          "delete_cmd_postfix": "",
          "delete_cmd_prefix": "del ",
          "library": "var_list.py",
          "varRefreshCmd": "print(var_dic_list())"
        },
        "r": {
          "delete_cmd_postfix": ") ",
          "delete_cmd_prefix": "rm(",
          "library": "var_list.r",
          "varRefreshCmd": "cat(var_dic_list()) "
        }
      },
      "types_to_exclude": [
        "module",
        "function",
        "builtin_function_or_method",
        "instance",
        "_Feature"
      ],
      "window_display": false
    }
  },
  "nbformat": 4,
  "nbformat_minor": 5
}