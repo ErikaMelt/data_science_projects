{
 "cells": [
  {
   "cell_type": "code",
   "execution_count": 1,
   "id": "dc6be723",
   "metadata": {
    "colab": {
     "base_uri": "https://localhost:8080/",
     "height": 74
    },
    "id": "dc6be723",
    "outputId": "6d663595-407b-452a-c67d-d70c254e015d"
   },
   "outputs": [
    {
     "data": {
      "text/html": [
       "\n",
       "     <input type=\"file\" id=\"files-a76d5f86-a422-4cb6-a297-4e14916483fb\" name=\"files[]\" multiple disabled\n",
       "        style=\"border:none\" />\n",
       "     <output id=\"result-a76d5f86-a422-4cb6-a297-4e14916483fb\">\n",
       "      Upload widget is only available when the cell has been executed in the\n",
       "      current browser session. Please rerun this cell to enable.\n",
       "      </output>\n",
       "      <script>// Copyright 2017 Google LLC\n",
       "//\n",
       "// Licensed under the Apache License, Version 2.0 (the \"License\");\n",
       "// you may not use this file except in compliance with the License.\n",
       "// You may obtain a copy of the License at\n",
       "//\n",
       "//      http://www.apache.org/licenses/LICENSE-2.0\n",
       "//\n",
       "// Unless required by applicable law or agreed to in writing, software\n",
       "// distributed under the License is distributed on an \"AS IS\" BASIS,\n",
       "// WITHOUT WARRANTIES OR CONDITIONS OF ANY KIND, either express or implied.\n",
       "// See the License for the specific language governing permissions and\n",
       "// limitations under the License.\n",
       "\n",
       "/**\n",
       " * @fileoverview Helpers for google.colab Python module.\n",
       " */\n",
       "(function(scope) {\n",
       "function span(text, styleAttributes = {}) {\n",
       "  const element = document.createElement('span');\n",
       "  element.textContent = text;\n",
       "  for (const key of Object.keys(styleAttributes)) {\n",
       "    element.style[key] = styleAttributes[key];\n",
       "  }\n",
       "  return element;\n",
       "}\n",
       "\n",
       "// Max number of bytes which will be uploaded at a time.\n",
       "const MAX_PAYLOAD_SIZE = 100 * 1024;\n",
       "\n",
       "function _uploadFiles(inputId, outputId) {\n",
       "  const steps = uploadFilesStep(inputId, outputId);\n",
       "  const outputElement = document.getElementById(outputId);\n",
       "  // Cache steps on the outputElement to make it available for the next call\n",
       "  // to uploadFilesContinue from Python.\n",
       "  outputElement.steps = steps;\n",
       "\n",
       "  return _uploadFilesContinue(outputId);\n",
       "}\n",
       "\n",
       "// This is roughly an async generator (not supported in the browser yet),\n",
       "// where there are multiple asynchronous steps and the Python side is going\n",
       "// to poll for completion of each step.\n",
       "// This uses a Promise to block the python side on completion of each step,\n",
       "// then passes the result of the previous step as the input to the next step.\n",
       "function _uploadFilesContinue(outputId) {\n",
       "  const outputElement = document.getElementById(outputId);\n",
       "  const steps = outputElement.steps;\n",
       "\n",
       "  const next = steps.next(outputElement.lastPromiseValue);\n",
       "  return Promise.resolve(next.value.promise).then((value) => {\n",
       "    // Cache the last promise value to make it available to the next\n",
       "    // step of the generator.\n",
       "    outputElement.lastPromiseValue = value;\n",
       "    return next.value.response;\n",
       "  });\n",
       "}\n",
       "\n",
       "/**\n",
       " * Generator function which is called between each async step of the upload\n",
       " * process.\n",
       " * @param {string} inputId Element ID of the input file picker element.\n",
       " * @param {string} outputId Element ID of the output display.\n",
       " * @return {!Iterable<!Object>} Iterable of next steps.\n",
       " */\n",
       "function* uploadFilesStep(inputId, outputId) {\n",
       "  const inputElement = document.getElementById(inputId);\n",
       "  inputElement.disabled = false;\n",
       "\n",
       "  const outputElement = document.getElementById(outputId);\n",
       "  outputElement.innerHTML = '';\n",
       "\n",
       "  const pickedPromise = new Promise((resolve) => {\n",
       "    inputElement.addEventListener('change', (e) => {\n",
       "      resolve(e.target.files);\n",
       "    });\n",
       "  });\n",
       "\n",
       "  const cancel = document.createElement('button');\n",
       "  inputElement.parentElement.appendChild(cancel);\n",
       "  cancel.textContent = 'Cancel upload';\n",
       "  const cancelPromise = new Promise((resolve) => {\n",
       "    cancel.onclick = () => {\n",
       "      resolve(null);\n",
       "    };\n",
       "  });\n",
       "\n",
       "  // Wait for the user to pick the files.\n",
       "  const files = yield {\n",
       "    promise: Promise.race([pickedPromise, cancelPromise]),\n",
       "    response: {\n",
       "      action: 'starting',\n",
       "    }\n",
       "  };\n",
       "\n",
       "  cancel.remove();\n",
       "\n",
       "  // Disable the input element since further picks are not allowed.\n",
       "  inputElement.disabled = true;\n",
       "\n",
       "  if (!files) {\n",
       "    return {\n",
       "      response: {\n",
       "        action: 'complete',\n",
       "      }\n",
       "    };\n",
       "  }\n",
       "\n",
       "  for (const file of files) {\n",
       "    const li = document.createElement('li');\n",
       "    li.append(span(file.name, {fontWeight: 'bold'}));\n",
       "    li.append(span(\n",
       "        `(${file.type || 'n/a'}) - ${file.size} bytes, ` +\n",
       "        `last modified: ${\n",
       "            file.lastModifiedDate ? file.lastModifiedDate.toLocaleDateString() :\n",
       "                                    'n/a'} - `));\n",
       "    const percent = span('0% done');\n",
       "    li.appendChild(percent);\n",
       "\n",
       "    outputElement.appendChild(li);\n",
       "\n",
       "    const fileDataPromise = new Promise((resolve) => {\n",
       "      const reader = new FileReader();\n",
       "      reader.onload = (e) => {\n",
       "        resolve(e.target.result);\n",
       "      };\n",
       "      reader.readAsArrayBuffer(file);\n",
       "    });\n",
       "    // Wait for the data to be ready.\n",
       "    let fileData = yield {\n",
       "      promise: fileDataPromise,\n",
       "      response: {\n",
       "        action: 'continue',\n",
       "      }\n",
       "    };\n",
       "\n",
       "    // Use a chunked sending to avoid message size limits. See b/62115660.\n",
       "    let position = 0;\n",
       "    do {\n",
       "      const length = Math.min(fileData.byteLength - position, MAX_PAYLOAD_SIZE);\n",
       "      const chunk = new Uint8Array(fileData, position, length);\n",
       "      position += length;\n",
       "\n",
       "      const base64 = btoa(String.fromCharCode.apply(null, chunk));\n",
       "      yield {\n",
       "        response: {\n",
       "          action: 'append',\n",
       "          file: file.name,\n",
       "          data: base64,\n",
       "        },\n",
       "      };\n",
       "\n",
       "      let percentDone = fileData.byteLength === 0 ?\n",
       "          100 :\n",
       "          Math.round((position / fileData.byteLength) * 100);\n",
       "      percent.textContent = `${percentDone}% done`;\n",
       "\n",
       "    } while (position < fileData.byteLength);\n",
       "  }\n",
       "\n",
       "  // All done.\n",
       "  yield {\n",
       "    response: {\n",
       "      action: 'complete',\n",
       "    }\n",
       "  };\n",
       "}\n",
       "\n",
       "scope.google = scope.google || {};\n",
       "scope.google.colab = scope.google.colab || {};\n",
       "scope.google.colab._files = {\n",
       "  _uploadFiles,\n",
       "  _uploadFilesContinue,\n",
       "};\n",
       "})(self);\n",
       "</script> "
      ],
      "text/plain": [
       "<IPython.core.display.HTML object>"
      ]
     },
     "metadata": {},
     "output_type": "display_data"
    },
    {
     "name": "stdout",
     "output_type": "stream",
     "text": [
      "Saving carmichael.csv to carmichael.csv\n"
     ]
    }
   ],
   "source": [
    "from google.colab import files\n",
    "uploaded = files.upload()"
   ]
  },
  {
   "cell_type": "markdown",
   "id": "bfc2f7e9",
   "metadata": {
    "id": "bfc2f7e9"
   },
   "source": [
    "# Problema: Hagámosle competencia a Amason Prime ###\n",
    "\n",
    "En este ejercicio vamos a tratar de introducirnos en el lucrativo mercado de los números primos. Como dominamos las mates, hemos decidido que reduciremos costes vendiendo una proporción de números que no son primos pero que lo parecen, los llamados números de Carmichael, entre cuyas hazañas destaca la de engañar al mismísimo Pierre de Fermat. El fichero `carmichael.csv` refleja los resultados de una encuesta de satisfacción realizada a los consumidores en función de si el número mandado es un verdadero primo, un número claramente compuesto o un número de Carmichael.\n",
    "\n",
    "Propón un plan para determinar si los números de Carmichael están resultando aceptables para los consumidores y lleva a cabo el análisis correspondiente. Defiende los resultados y la conveniencia o no de vender números de Carmichael."
   ]
  },
  {
   "cell_type": "markdown",
   "id": "a3762a23",
   "metadata": {
    "id": "a3762a23"
   },
   "source": [
    "## Objetivos \n",
    "\n",
    "* Determinar si los números de Carmichael están resultando aceptables para los consumidores. \n",
    "* Establecer la conveniencia de vender números de Carmichael. \n",
    "\n",
    "### Preguntas\n",
    "\n",
    "1. Son los números de Carmichael aceptables para los consumidores?\n",
    "2. Cuál número tiene el mejor nivel de satifacción entre los consumidores? \n",
    "3. Deberiamos vender números de Charmichael?"
   ]
  },
  {
   "cell_type": "markdown",
   "id": "2711d9b6",
   "metadata": {
    "id": "2711d9b6"
   },
   "source": [
    "## Importar y analizar el dataset "
   ]
  },
  {
   "cell_type": "code",
   "execution_count": 29,
   "id": "69d0f82a",
   "metadata": {
    "colab": {
     "base_uri": "https://localhost:8080/"
    },
    "id": "69d0f82a",
    "outputId": "bc9e02e1-7e4d-4308-e6ae-7141bb856837"
   },
   "outputs": [
    {
     "name": "stdout",
     "output_type": "stream",
     "text": [
      "<class 'pandas.core.frame.DataFrame'>\n",
      "RangeIndex: 3000 entries, 0 to 2999\n",
      "Data columns (total 3 columns):\n",
      " #   Column       Non-Null Count  Dtype \n",
      "---  ------       --------------  ----- \n",
      " 0   ID           3000 non-null   int64 \n",
      " 1   number_type  3000 non-null   object\n",
      " 2   score        3000 non-null   int64 \n",
      "dtypes: int64(2), object(1)\n",
      "memory usage: 70.4+ KB\n"
     ]
    }
   ],
   "source": [
    "import io\n",
    "import numpy as np\n",
    "import pandas as pd\n",
    "import seaborn as sns\n",
    "\n",
    "path = io.BytesIO(uploaded['carmichael.csv'])\n",
    "df = pd.read_csv(path, sep=\",\")\n",
    "\n",
    "df.info()"
   ]
  },
  {
   "cell_type": "code",
   "execution_count": 30,
   "id": "3YPQkIq4zH-b",
   "metadata": {
    "colab": {
     "base_uri": "https://localhost:8080/",
     "height": 298
    },
    "id": "3YPQkIq4zH-b",
    "outputId": "0973fbb0-65dc-4d3a-efb7-3a4fbecb1d91"
   },
   "outputs": [
    {
     "data": {
      "text/plain": [
       "<matplotlib.axes._subplots.AxesSubplot at 0x7f3350446670>"
      ]
     },
     "execution_count": 30,
     "metadata": {},
     "output_type": "execute_result"
    },
    {
     "data": {
      "image/png": "[encoded data removed]",
      "text/plain": [
       "<Figure size 432x288 with 1 Axes>"
      ]
     },
     "metadata": {
      "needs_background": "light"
     },
     "output_type": "display_data"
    }
   ],
   "source": [
    "# Graficar los niveles de la variable catégorica. \n",
    "sns.countplot(x=df[\"number_type\"])"
   ]
  },
  {
   "cell_type": "code",
   "execution_count": 31,
   "id": "gU26GvG0vSUI",
   "metadata": {
    "colab": {
     "base_uri": "https://localhost:8080/",
     "height": 318
    },
    "id": "gU26GvG0vSUI",
    "outputId": "0732282c-f790-45bf-ee61-447e04d29c36"
   },
   "outputs": [
    {
     "name": "stdout",
     "output_type": "stream",
     "text": [
      "[ 7 10  1  0  9  8  4  6  2  5  3 -1 -3 -2 -4 -5 -6]\n"
     ]
    },
    {
     "data": {
      "text/html": [
       "\n",
       "  <div id=\"df-d3b2e6a1-e5bd-4ced-9775-51937c0fa517\">\n",
       "    <div class=\"colab-df-container\">\n",
       "      <div>\n",
       "<style scoped>\n",
       "    .dataframe tbody tr th:only-of-type {\n",
       "        vertical-align: middle;\n",
       "    }\n",
       "\n",
       "    .dataframe tbody tr th {\n",
       "        vertical-align: top;\n",
       "    }\n",
       "\n",
       "    .dataframe thead th {\n",
       "        text-align: right;\n",
       "    }\n",
       "</style>\n",
       "<table border=\"1\" class=\"dataframe\">\n",
       "  <thead>\n",
       "    <tr style=\"text-align: right;\">\n",
       "      <th></th>\n",
       "      <th>ID</th>\n",
       "      <th>score</th>\n",
       "    </tr>\n",
       "  </thead>\n",
       "  <tbody>\n",
       "    <tr>\n",
       "      <th>count</th>\n",
       "      <td>3000.000000</td>\n",
       "      <td>3000.000000</td>\n",
       "    </tr>\n",
       "    <tr>\n",
       "      <th>mean</th>\n",
       "      <td>1500.500000</td>\n",
       "      <td>6.729667</td>\n",
       "    </tr>\n",
       "    <tr>\n",
       "      <th>std</th>\n",
       "      <td>866.169729</td>\n",
       "      <td>3.256397</td>\n",
       "    </tr>\n",
       "    <tr>\n",
       "      <th>min</th>\n",
       "      <td>1.000000</td>\n",
       "      <td>-6.000000</td>\n",
       "    </tr>\n",
       "    <tr>\n",
       "      <th>25%</th>\n",
       "      <td>750.750000</td>\n",
       "      <td>5.000000</td>\n",
       "    </tr>\n",
       "    <tr>\n",
       "      <th>50%</th>\n",
       "      <td>1500.500000</td>\n",
       "      <td>8.000000</td>\n",
       "    </tr>\n",
       "    <tr>\n",
       "      <th>75%</th>\n",
       "      <td>2250.250000</td>\n",
       "      <td>10.000000</td>\n",
       "    </tr>\n",
       "    <tr>\n",
       "      <th>max</th>\n",
       "      <td>3000.000000</td>\n",
       "      <td>10.000000</td>\n",
       "    </tr>\n",
       "  </tbody>\n",
       "</table>\n",
       "</div>\n",
       "      <button class=\"colab-df-convert\" onclick=\"convertToInteractive('df-d3b2e6a1-e5bd-4ced-9775-51937c0fa517')\"\n",
       "              title=\"Convert this dataframe to an interactive table.\"\n",
       "              style=\"display:none;\">\n",
       "        \n",
       "  <svg xmlns=\"http://www.w3.org/2000/svg\" height=\"24px\"viewBox=\"0 0 24 24\"\n",
       "       width=\"24px\">\n",
       "    <path d=\"M0 0h24v24H0V0z\" fill=\"none\"/>\n",
       "    <path d=\"M18.56 5.44l.94 2.06.94-2.06 2.06-.94-2.06-.94-.94-2.06-.94 2.06-2.06.94zm-11 1L8.5 8.5l.94-2.06 2.06-.94-2.06-.94L8.5 2.5l-.94 2.06-2.06.94zm10 10l.94 2.06.94-2.06 2.06-.94-2.06-.94-.94-2.06-.94 2.06-2.06.94z\"/><path d=\"M17.41 7.96l-1.37-1.37c-.4-.4-.92-.59-1.43-.59-.52 0-1.04.2-1.43.59L10.3 9.45l-7.72 7.72c-.78.78-.78 2.05 0 2.83L4 21.41c.39.39.9.59 1.41.59.51 0 1.02-.2 1.41-.59l7.78-7.78 2.81-2.81c.8-.78.8-2.07 0-2.86zM5.41 20L4 18.59l7.72-7.72 1.47 1.35L5.41 20z\"/>\n",
       "  </svg>\n",
       "      </button>\n",
       "      \n",
       "  <style>\n",
       "    .colab-df-container {\n",
       "      display:flex;\n",
       "      flex-wrap:wrap;\n",
       "      gap: 12px;\n",
       "    }\n",
       "\n",
       "    .colab-df-convert {\n",
       "      background-color: #E8F0FE;\n",
       "      border: none;\n",
       "      border-radius: 50%;\n",
       "      cursor: pointer;\n",
       "      display: none;\n",
       "      fill: #1967D2;\n",
       "      height: 32px;\n",
       "      padding: 0 0 0 0;\n",
       "      width: 32px;\n",
       "    }\n",
       "\n",
       "    .colab-df-convert:hover {\n",
       "      background-color: #E2EBFA;\n",
       "      box-shadow: 0px 1px 2px rgba(60, 64, 67, 0.3), 0px 1px 3px 1px rgba(60, 64, 67, 0.15);\n",
       "      fill: #174EA6;\n",
       "    }\n",
       "\n",
       "    [theme=dark] .colab-df-convert {\n",
       "      background-color: #3B4455;\n",
       "      fill: #D2E3FC;\n",
       "    }\n",
       "\n",
       "    [theme=dark] .colab-df-convert:hover {\n",
       "      background-color: #434B5C;\n",
       "      box-shadow: 0px 1px 3px 1px rgba(0, 0, 0, 0.15);\n",
       "      filter: drop-shadow(0px 1px 2px rgba(0, 0, 0, 0.3));\n",
       "      fill: #FFFFFF;\n",
       "    }\n",
       "  </style>\n",
       "\n",
       "      <script>\n",
       "        const buttonEl =\n",
       "          document.querySelector('#df-d3b2e6a1-e5bd-4ced-9775-51937c0fa517 button.colab-df-convert');\n",
       "        buttonEl.style.display =\n",
       "          google.colab.kernel.accessAllowed ? 'block' : 'none';\n",
       "\n",
       "        async function convertToInteractive(key) {\n",
       "          const element = document.querySelector('#df-d3b2e6a1-e5bd-4ced-9775-51937c0fa517');\n",
       "          const dataTable =\n",
       "            await google.colab.kernel.invokeFunction('convertToInteractive',\n",
       "                                                     [key], {});\n",
       "          if (!dataTable) return;\n",
       "\n",
       "          const docLinkHtml = 'Like what you see? Visit the ' +\n",
       "            '<a target=\"_blank\" href=https://colab.research.google.com/notebooks/data_table.ipynb>data table notebook</a>'\n",
       "            + ' to learn more about interactive tables.';\n",
       "          element.innerHTML = '';\n",
       "          dataTable['output_type'] = 'display_data';\n",
       "          await google.colab.output.renderOutput(dataTable, element);\n",
       "          const docLink = document.createElement('div');\n",
       "          docLink.innerHTML = docLinkHtml;\n",
       "          element.appendChild(docLink);\n",
       "        }\n",
       "      </script>\n",
       "    </div>\n",
       "  </div>\n",
       "  "
      ],
      "text/plain": [
       "                ID        score\n",
       "count  3000.000000  3000.000000\n",
       "mean   1500.500000     6.729667\n",
       "std     866.169729     3.256397\n",
       "min       1.000000    -6.000000\n",
       "25%     750.750000     5.000000\n",
       "50%    1500.500000     8.000000\n",
       "75%    2250.250000    10.000000\n",
       "max    3000.000000    10.000000"
      ]
     },
     "execution_count": 31,
     "metadata": {},
     "output_type": "execute_result"
    }
   ],
   "source": [
    "#Check for unique numbers\n",
    "print(df['score'].unique())\n",
    "\n",
    "#Descriptive analysis\n",
    "df.describe()"
   ]
  },
  {
   "cell_type": "markdown",
   "id": "83DRVunNvXmG",
   "metadata": {
    "id": "83DRVunNvXmG"
   },
   "source": [
    "**Observaciones**\n",
    "\n",
    "*   El dataset carmichael.csv tiene 3 columnas y 3000 registros. \n",
    "*   Las columnas del dataset contienen la misma cantidad de datos. \n",
    "*   el dataset contiene dos columnas numericas y una columna number_type tipo catégorica. \n",
    "*   La columna number_type tiene tres clases Prime, Carmichael and Composite. \n",
    "*   El valor medio de satisfacción es de 6.73 puntos.\n",
    "*   El valor mínimo de satisfacción es -6.0, lo cual indica que existen valores con datos incorrectos, ya que la escala de calificación deberia estar entre 0 y 10. Donde 0 significa que el cliente estaba extremadamente insatisfecho y 10 que estaba muy satisfecho.\n",
    "\n",
    "Vamos a proceder a identificar la cantidad de scores negativos en el set de datos y tomar la decisión de filtrarlos del dataset para proceder con el análisis. "
   ]
  },
  {
   "cell_type": "code",
   "execution_count": 32,
   "id": "psWkVj7Z1Xtb",
   "metadata": {
    "colab": {
     "base_uri": "https://localhost:8080/"
    },
    "id": "psWkVj7Z1Xtb",
    "outputId": "acb7d9e4-c772-4f07-d500-34c28ba0de1d"
   },
   "outputs": [
    {
     "name": "stdout",
     "output_type": "stream",
     "text": [
      "82\n"
     ]
    }
   ],
   "source": [
    "#Get the total of negative scores.\n",
    "print((df['score'] < 0).sum())"
   ]
  },
  {
   "cell_type": "code",
   "execution_count": 34,
   "id": "YXgPZFhC4rZn",
   "metadata": {
    "colab": {
     "base_uri": "https://localhost:8080/"
    },
    "id": "YXgPZFhC4rZn",
    "outputId": "571fcd2a-30a4-4bab-aad4-4fb8705e09ea"
   },
   "outputs": [
    {
     "name": "stdout",
     "output_type": "stream",
     "text": [
      "<class 'pandas.core.frame.DataFrame'>\n",
      "Int64Index: 2918 entries, 0 to 2999\n",
      "Data columns (total 3 columns):\n",
      " #   Column       Non-Null Count  Dtype \n",
      "---  ------       --------------  ----- \n",
      " 0   ID           2918 non-null   int64 \n",
      " 1   number_type  2918 non-null   object\n",
      " 2   score        2918 non-null   int64 \n",
      "dtypes: int64(2), object(1)\n",
      "memory usage: 91.2+ KB\n"
     ]
    }
   ],
   "source": [
    "#Get the total of negative scores.\n",
    "df_final = df[df['score'] >= 0]\n",
    "df_final.info()"
   ]
  },
  {
   "cell_type": "markdown",
   "id": "2fd876ec",
   "metadata": {
    "id": "2fd876ec"
   },
   "source": [
    "***Observaciones***\n",
    "\n",
    "- Al analizar la columna \"score\" encontramos que existen 82 registros con puntuaciones negativas. \n",
    "- Dado que la escala de valoración va de 0 a 10, vamos a filtrar la columna score para excluir los 82 registros con valores negativos, esta operacion nos da un total de 2918 registros con los cuales vamos a realizar el análisis."
   ]
  },
  {
   "cell_type": "markdown",
   "id": "0b7c24e3",
   "metadata": {
    "id": "0b7c24e3"
   },
   "source": [
    " ## Análisis Exploratorio del nivel de satisfacción "
   ]
  },
  {
   "cell_type": "code",
   "execution_count": 37,
   "id": "6aaddcef",
   "metadata": {
    "colab": {
     "base_uri": "https://localhost:8080/",
     "height": 175
    },
    "id": "6aaddcef",
    "outputId": "94329cbc-8698-4402-8287-a3e93144fc63"
   },
   "outputs": [
    {
     "data": {
      "text/html": [
       "\n",
       "  <div id=\"df-619a9054-b38c-4d10-b275-c1741dd60eb1\">\n",
       "    <div class=\"colab-df-container\">\n",
       "      <div>\n",
       "<style scoped>\n",
       "    .dataframe tbody tr th:only-of-type {\n",
       "        vertical-align: middle;\n",
       "    }\n",
       "\n",
       "    .dataframe tbody tr th {\n",
       "        vertical-align: top;\n",
       "    }\n",
       "\n",
       "    .dataframe thead tr th {\n",
       "        text-align: left;\n",
       "    }\n",
       "</style>\n",
       "<table border=\"1\" class=\"dataframe\">\n",
       "  <thead>\n",
       "    <tr>\n",
       "      <th></th>\n",
       "      <th>number_type</th>\n",
       "      <th colspan=\"4\" halign=\"left\">score</th>\n",
       "    </tr>\n",
       "    <tr>\n",
       "      <th></th>\n",
       "      <th></th>\n",
       "      <th>mean</th>\n",
       "      <th>count</th>\n",
       "      <th>std</th>\n",
       "      <th>median</th>\n",
       "    </tr>\n",
       "  </thead>\n",
       "  <tbody>\n",
       "    <tr>\n",
       "      <th>2</th>\n",
       "      <td>Prime</td>\n",
       "      <td>8.573947</td>\n",
       "      <td>1021</td>\n",
       "      <td>1.451729</td>\n",
       "      <td>9.0</td>\n",
       "    </tr>\n",
       "    <tr>\n",
       "      <th>0</th>\n",
       "      <td>Carmichael</td>\n",
       "      <td>7.558522</td>\n",
       "      <td>974</td>\n",
       "      <td>2.880306</td>\n",
       "      <td>9.0</td>\n",
       "    </tr>\n",
       "    <tr>\n",
       "      <th>1</th>\n",
       "      <td>Composite</td>\n",
       "      <td>4.604550</td>\n",
       "      <td>923</td>\n",
       "      <td>2.689390</td>\n",
       "      <td>5.0</td>\n",
       "    </tr>\n",
       "  </tbody>\n",
       "</table>\n",
       "</div>\n",
       "      <button class=\"colab-df-convert\" onclick=\"convertToInteractive('df-619a9054-b38c-4d10-b275-c1741dd60eb1')\"\n",
       "              title=\"Convert this dataframe to an interactive table.\"\n",
       "              style=\"display:none;\">\n",
       "        \n",
       "  <svg xmlns=\"http://www.w3.org/2000/svg\" height=\"24px\"viewBox=\"0 0 24 24\"\n",
       "       width=\"24px\">\n",
       "    <path d=\"M0 0h24v24H0V0z\" fill=\"none\"/>\n",
       "    <path d=\"M18.56 5.44l.94 2.06.94-2.06 2.06-.94-2.06-.94-.94-2.06-.94 2.06-2.06.94zm-11 1L8.5 8.5l.94-2.06 2.06-.94-2.06-.94L8.5 2.5l-.94 2.06-2.06.94zm10 10l.94 2.06.94-2.06 2.06-.94-2.06-.94-.94-2.06-.94 2.06-2.06.94z\"/><path d=\"M17.41 7.96l-1.37-1.37c-.4-.4-.92-.59-1.43-.59-.52 0-1.04.2-1.43.59L10.3 9.45l-7.72 7.72c-.78.78-.78 2.05 0 2.83L4 21.41c.39.39.9.59 1.41.59.51 0 1.02-.2 1.41-.59l7.78-7.78 2.81-2.81c.8-.78.8-2.07 0-2.86zM5.41 20L4 18.59l7.72-7.72 1.47 1.35L5.41 20z\"/>\n",
       "  </svg>\n",
       "      </button>\n",
       "      \n",
       "  <style>\n",
       "    .colab-df-container {\n",
       "      display:flex;\n",
       "      flex-wrap:wrap;\n",
       "      gap: 12px;\n",
       "    }\n",
       "\n",
       "    .colab-df-convert {\n",
       "      background-color: #E8F0FE;\n",
       "      border: none;\n",
       "      border-radius: 50%;\n",
       "      cursor: pointer;\n",
       "      display: none;\n",
       "      fill: #1967D2;\n",
       "      height: 32px;\n",
       "      padding: 0 0 0 0;\n",
       "      width: 32px;\n",
       "    }\n",
       "\n",
       "    .colab-df-convert:hover {\n",
       "      background-color: #E2EBFA;\n",
       "      box-shadow: 0px 1px 2px rgba(60, 64, 67, 0.3), 0px 1px 3px 1px rgba(60, 64, 67, 0.15);\n",
       "      fill: #174EA6;\n",
       "    }\n",
       "\n",
       "    [theme=dark] .colab-df-convert {\n",
       "      background-color: #3B4455;\n",
       "      fill: #D2E3FC;\n",
       "    }\n",
       "\n",
       "    [theme=dark] .colab-df-convert:hover {\n",
       "      background-color: #434B5C;\n",
       "      box-shadow: 0px 1px 3px 1px rgba(0, 0, 0, 0.15);\n",
       "      filter: drop-shadow(0px 1px 2px rgba(0, 0, 0, 0.3));\n",
       "      fill: #FFFFFF;\n",
       "    }\n",
       "  </style>\n",
       "\n",
       "      <script>\n",
       "        const buttonEl =\n",
       "          document.querySelector('#df-619a9054-b38c-4d10-b275-c1741dd60eb1 button.colab-df-convert');\n",
       "        buttonEl.style.display =\n",
       "          google.colab.kernel.accessAllowed ? 'block' : 'none';\n",
       "\n",
       "        async function convertToInteractive(key) {\n",
       "          const element = document.querySelector('#df-619a9054-b38c-4d10-b275-c1741dd60eb1');\n",
       "          const dataTable =\n",
       "            await google.colab.kernel.invokeFunction('convertToInteractive',\n",
       "                                                     [key], {});\n",
       "          if (!dataTable) return;\n",
       "\n",
       "          const docLinkHtml = 'Like what you see? Visit the ' +\n",
       "            '<a target=\"_blank\" href=https://colab.research.google.com/notebooks/data_table.ipynb>data table notebook</a>'\n",
       "            + ' to learn more about interactive tables.';\n",
       "          element.innerHTML = '';\n",
       "          dataTable['output_type'] = 'display_data';\n",
       "          await google.colab.output.renderOutput(dataTable, element);\n",
       "          const docLink = document.createElement('div');\n",
       "          docLink.innerHTML = docLinkHtml;\n",
       "          element.appendChild(docLink);\n",
       "        }\n",
       "      </script>\n",
       "    </div>\n",
       "  </div>\n",
       "  "
      ],
      "text/plain": [
       "  number_type     score                       \n",
       "                   mean count       std median\n",
       "2       Prime  8.573947  1021  1.451729    9.0\n",
       "0  Carmichael  7.558522   974  2.880306    9.0\n",
       "1   Composite  4.604550   923  2.689390    5.0"
      ]
     },
     "execution_count": 37,
     "metadata": {},
     "output_type": "execute_result"
    }
   ],
   "source": [
    "grouped = df_final.groupby(\"number_type\", as_index=False).agg({\n",
    "    \"score\": [\"mean\", \"count\", \"std\", \"median\"]\n",
    "}).sort_values(by=(\"score\", \"mean\"), ascending=False)\n",
    "grouped"
   ]
  },
  {
   "cell_type": "markdown",
   "id": "a50e7dcc",
   "metadata": {
    "id": "a50e7dcc"
   },
   "source": [
    "### Visualizar los datos"
   ]
  },
  {
   "cell_type": "code",
   "execution_count": 38,
   "id": "b74cc0f7",
   "metadata": {
    "colab": {
     "base_uri": "https://localhost:8080/",
     "height": 265
    },
    "id": "b74cc0f7",
    "outputId": "7bbf5f6f-8e47-4020-fc56-e8c8e1ec061e"
   },
   "outputs": [
    {
     "data": {
      "image/png": "[encoded data removed]",
      "text/plain": [
       "<Figure size 432x288 with 1 Axes>"
      ]
     },
     "metadata": {
      "needs_background": "light"
     },
     "output_type": "display_data"
    }
   ],
   "source": [
    "import matplotlib.pyplot as plt\n",
    "\n",
    "PRIME = 'Prime'\n",
    "CHARMICHAEL = 'Carmichael'\n",
    "COMPOSITE = 'Composite'\n",
    "\n",
    "dfPrime = df_final[df_final.number_type == PRIME].score\n",
    "dfCarmichael = df_final[df_final.number_type == CHARMICHAEL].score\n",
    "dfComposite = df_final[df_final.number_type == COMPOSITE].score\n",
    "\n",
    "hPrime, bPrime = np.histogram(dfPrime, bins=np.arange(10))\n",
    "hCarm, bCarm = np.histogram(dfCarmichael, bins=np.arange(10))\n",
    "hComp, bComp = np.histogram(dfComposite, bins=np.arange(10))\n",
    "\n",
    "cPrime = '#a87932'\n",
    "cChar = '#325ba8'\n",
    "cComp = '#a8324c'\n",
    "plt.bar(bPrime[1:], hPrime, width=0.8, alpha=0.6, label=PRIME, color=cPrime)\n",
    "plt.bar(bCarm[1:], hCarm, width=0.8, alpha=0.6, label=CHARMICHAEL, color=cChar)\n",
    "plt.bar(bComp[1:], hComp, width=0.8, alpha=0.6, label=COMPOSITE, color=cComp)\n",
    "\n",
    "plt.axvline(dfPrime.mean(), linestyle=\"--\", color=cPrime, linewidth=2)\n",
    "plt.axvline(dfCarmichael.mean(), linestyle=\"--\", color=cChar, linewidth=2)\n",
    "plt.axvline(dfComposite.mean(), linestyle=\"--\", color=cComp, linewidth=2)\n",
    "plt.grid()\n",
    "plt.legend(loc=\"best\")\n",
    "plt.show()"
   ]
  },
  {
   "cell_type": "markdown",
   "id": "f3812c9b",
   "metadata": {
    "id": "f3812c9b"
   },
   "source": [
    "- En el dataset tenemos los siguientes valores: \n",
    "    * Un total de 1021 números Prime con un media de nivel de satifacción de 8.574. \n",
    "    * Un total de 974 números Carmichael con un media de nivel de satisfacción de 7.559.\n",
    "    * Un total de 923 números Composite con un media de nivel de satisfacción de 4.605.\n",
    "    * En promedio, el valor de satisfacción para los numeros de Charmichael se desvia de la media de 7.559 aproximadamente 2.88 puntos. Esto nos indicaría que las opiniones de los consumidores de Carmichael tienen una mayor variación con respecto a los otros dos tipos de números.  \n",
    "    * Los valores de las medianas parecen ser un mejor indicador para comparar que el valor de las medias. \n",
    " \n",
    "- El análisis exploratorio de los datos nos indica que los números PRIME tienen un mejor puntaje de satisfacción en comparación con los números de Carmichael y Composite. Para confirmar esta hipótesis debemos realizar hipótesis testing."
   ]
  },
  {
   "cell_type": "markdown",
   "id": "549baca6",
   "metadata": {
    "id": "549baca6"
   },
   "source": [
    "### Hipótesis Testing\n",
    "\n",
    "Para responder a la pregunta: Son los números de Carmichael aceptables para los consumidores? debemos comparar los resultados de cada tipo de numero para establecer cual tiene mayor aceptación. \n",
    "\n",
    "Para verificar si existe alguna diferencia significativa entre los score de satisfación vamos a utilizar un test de U-Whitman con los siguientes hipótesis para comparar el score de los Prime vs. Charmichael, Prime vs. Composite y Composite vs. Charmichael. \n",
    "\n",
    "Si el p-value que obtenemos en el test es menor que $\\alpha = 0.05$ podemos rechazar la hipótesis Nula y decir que existe una diferencia significativa. \n",
    "\n",
    "$$\n",
    "H_0: \\mu Prime  = \\mu  Charmichael \\\\ \n",
    "H_1: \\mu Prime  \\neq \\mu Charmichael  \\\\ \n",
    "$$\n",
    "\n",
    "$$\n",
    "H_0: \\mu Prime  = \\mu  Composite \\\\ \n",
    "H_1: \\mu Prime  \\neq \\mu Composite  \\\\ \n",
    "$$\n",
    "\n",
    "$$\n",
    "H_0: \\mu Composite  = \\mu  Charmichael \\\\ \n",
    "H_1: \\mu Composite  \\neq \\mu Charmichael  \\\\ \n",
    "$$\n",
    "$$\n",
    "\\alpha = 0.05\n",
    "p-value < 0.05 = Rechazar H_0\n",
    "$$"
   ]
  },
  {
   "cell_type": "markdown",
   "id": "4e5088ed",
   "metadata": {
    "id": "4e5088ed"
   },
   "source": [
    "### Test de U-Whitmann"
   ]
  },
  {
   "cell_type": "code",
   "execution_count": 39,
   "id": "09ed8749",
   "metadata": {
    "colab": {
     "base_uri": "https://localhost:8080/"
    },
    "id": "09ed8749",
    "outputId": "56920780-589f-4258-c8cd-8b16d40c9c70"
   },
   "outputs": [
    {
     "name": "stdout",
     "output_type": "stream",
     "text": [
      "MannwhitneyuResult(statistic=546818.0, pvalue=6.39011396144301e-05)\n",
      "MannwhitneyuResult(statistic=839538.0, pvalue=1.221210940053702e-198)\n",
      "MannwhitneyuResult(statistic=203109.5, pvalue=1.0930383936199548e-96)\n"
     ]
    }
   ],
   "source": [
    "from scipy.stats import mannwhitneyu\n",
    "\n",
    "print(mannwhitneyu(dfPrime, dfCarmichael))\n",
    "print(mannwhitneyu(dfPrime, dfComposite))\n",
    "print(mannwhitneyu(dfComposite, dfCarmichael))"
   ]
  },
  {
   "cell_type": "markdown",
   "id": "d0e5ca06",
   "metadata": {
    "id": "d0e5ca06"
   },
   "source": [
    "#### Análisis test de U-Whitmann\n",
    "\n",
    "Los p-values del test de U-Whitmann son menores que el nivel de significancia por lo tanto, podemos decir que existe una diferencia entre los puntajes de satisfacción para cada tipo de número, sin embargo no sabemos con certeza cual es mejor.  \n",
    "\n",
    "**Conclusiones:** \n",
    "\n",
    "* Los números PRIME tienen mejor puntaje de satisfacción en comparación con los números de Charmichael y Composite. \n",
    "* Los números CARMICHAEL tienen mejor puntaje de satisfacción que los números Composite. \n",
    "* Al parecer los números PRIME tienen mejor desempeño entre los consumidores, sin embargo para poder establecer mejor las diferencias vamos a realizar un test HSD de Tukey que compare todas las muestras a la vez y poder clusterizar los resultados. "
   ]
  },
  {
   "cell_type": "markdown",
   "id": "ef71dce7",
   "metadata": {
    "id": "ef71dce7"
   },
   "source": [
    "### Test HSD de Tukey."
   ]
  },
  {
   "cell_type": "code",
   "execution_count": 40,
   "id": "1024d87e",
   "metadata": {
    "colab": {
     "base_uri": "https://localhost:8080/"
    },
    "id": "1024d87e",
    "outputId": "ddfb5688-70c7-43c8-f596-33088d233a1b"
   },
   "outputs": [
    {
     "name": "stdout",
     "output_type": "stream",
     "text": [
      "   Multiple Comparison of Means - Tukey HSD, FWER=0.05    \n",
      "==========================================================\n",
      "  group1     group2  meandiff p-adj  lower   upper  reject\n",
      "----------------------------------------------------------\n",
      "Carmichael Composite  -3.1102 0.001 -3.3942 -2.8261   True\n",
      "Carmichael     Prime   1.2556 0.001  0.9745  1.5368   True\n",
      " Composite     Prime   4.3658 0.001  4.0833  4.6483   True\n",
      "----------------------------------------------------------\n"
     ]
    }
   ],
   "source": [
    "import statsmodels.stats.multicomp as multi \n",
    "\n",
    "number_type_score = multi.MultiComparison(df.score, df.number_type)\n",
    "results = number_type_score.tukeyhsd()\n",
    "\n",
    "print(results)"
   ]
  },
  {
   "cell_type": "code",
   "execution_count": 41,
   "id": "8dac783c",
   "metadata": {
    "colab": {
     "base_uri": "https://localhost:8080/",
     "height": 763
    },
    "id": "8dac783c",
    "outputId": "92e78a4b-0b7d-4ade-8005-968dd9e5ae8f"
   },
   "outputs": [
    {
     "data": {
      "image/png": "[encoded data removed]",
      "text/plain": [
       "<Figure size 720x432 with 1 Axes>"
      ]
     },
     "execution_count": 41,
     "metadata": {},
     "output_type": "execute_result"
    },
    {
     "data": {
      "image/png": "[encoded data removed]",
      "text/plain": [
       "<Figure size 720x432 with 1 Axes>"
      ]
     },
     "metadata": {
      "needs_background": "light"
     },
     "output_type": "display_data"
    }
   ],
   "source": [
    "results.plot_simultaneous()"
   ]
  },
  {
   "cell_type": "markdown",
   "id": "d814384f",
   "metadata": {
    "id": "d814384f"
   },
   "source": [
    "## Conclusión\n",
    "\n",
    "El test de Tukey nos confirma el resultado del test de U-Whitman, y nos indica que existen diferencias significas entre el puntaje de satisfacción y además nos muestra las comparaciones entre grupos por lo cual podemos concluir:\n",
    "\n",
    "- Los números PRIME tienen un mayor nivel de satisfacción entre los consumidores. \n",
    "- Los números de CARMICHAEL se ubican en segundo lugar con un diferencia de la media en el score de 1.0154 en comparación con los números PRIME. \n",
    "- Los números COMPOSITE tienen el peor nivel de satisfacción en comparación con los otros dos tipos de números. \n",
    "\n",
    "Para concluir podemos responder a las preguntas planteadas lo siguiente:\n",
    "\n",
    "- **Son los números de Carmichael aceptables para los consumidores?**\n",
    "\n",
    "Los números de Carmichael no son aceptables para los consumidores, ya que el score de satisfacción más alto lo tienen los números PRIME.  Sin embargo la diferencia entre los puntajes de satisfacción entre Carmichael y Prime es de 1.0154 puntos.   \n",
    "\n",
    "- **Cuál número tiene el mejor nivel de satifacción entre los consumidores?** \n",
    "\n",
    "Los PRIME tienen mejor nivel de satifacción. \n",
    "\n",
    "- **Deberiamos vender números de Carmichael?**\n",
    "\n",
    "Los números de Carmichael no tienen un nivel de satisfacción tan bajo entre los consumidores, de hecho hemos concluido que están en segundo lugar con una diferencia de 1.0154 con respecto a los números PRIME. Por lo tanto la decisión de vender o no estos números debe estar condicionada a los objetivos de la empresa referentes a nivel de satisfacción que quiere tener entre los consumidores y el nivel de calidad con el cuál quiere ser percibido.  \n",
    "\n",
    "También tendriamos que considerar los costes de producción de los números PRIME en comparación con los números de Carmichael y el target market que tiene la empresa, si el objetivo es ofrecer un producto similar a los números PRIME con un menor precio en este escenario podrían considerar vender los números de Carmichael, pero si el objetivo es compertir con la calidad de los números PRIME en este escenario no deberian seguir invirtiendo en producir los números de Carmichael. "
   ]
  }
 ],
 "metadata": {
  "colab": {
   "provenance": []
  },
  "kernelspec": {
   "display_name": "Python 3 (ipykernel)",
   "language": "python",
   "name": "python3"
  },
  "language_info": {
   "codemirror_mode": {
    "name": "ipython",
    "version": 3
   },
   "file_extension": ".py",
   "mimetype": "text/x-python",
   "name": "python",
   "nbconvert_exporter": "python",
   "pygments_lexer": "ipython3",
   "version": "3.10.8"
  },
  "toc": {
   "base_numbering": 1,
   "nav_menu": {},
   "number_sections": true,
   "sideBar": true,
   "skip_h1_title": false,
   "title_cell": "Table of Contents",
   "title_sidebar": "Contents",
   "toc_cell": false,
   "toc_position": {},
   "toc_section_display": true,
   "toc_window_display": false
  },
  "varInspector": {
   "cols": {
    "lenName": 16,
    "lenType": 16,
    "lenVar": 40
   },
   "kernels_config": {
    "python": {
     "delete_cmd_postfix": "",
     "delete_cmd_prefix": "del ",
     "library": "var_list.py",
     "varRefreshCmd": "print(var_dic_list())"
    },
    "r": {
     "delete_cmd_postfix": ") ",
     "delete_cmd_prefix": "rm(",
     "library": "var_list.r",
     "varRefreshCmd": "cat(var_dic_list()) "
    }
   },
   "types_to_exclude": [
    "module",
    "function",
    "builtin_function_or_method",
    "instance",
    "_Feature"
   ],
   "window_display": false
  }
 },
 "nbformat": 4,
 "nbformat_minor": 5
}
