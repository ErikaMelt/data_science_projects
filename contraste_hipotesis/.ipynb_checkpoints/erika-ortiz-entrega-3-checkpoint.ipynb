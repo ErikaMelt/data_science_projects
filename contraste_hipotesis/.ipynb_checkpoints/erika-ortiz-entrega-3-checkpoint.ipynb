{
 "cells": [
  {
   "cell_type": "code",
   "execution_count": null,
   "id": "036f9e1b",
   "metadata": {},
   "outputs": [],
   "source": [
    "#from google.colab import files\n",
    "#uploaded = files.upload()"
   ]
  },
  {
   "cell_type": "markdown",
   "id": "bfc2f7e9",
   "metadata": {},
   "source": [
    "# Problema: Hagámosle competencia a Amason Prime ###\n",
    "\n",
    "En este ejercicio vamos a tratar de introducirnos en el lucrativo mercado de los números primos. Como dominamos las mates, hemos decidido que reduciremos costes vendiendo una proporción de números que no son primos pero que lo parecen, los llamados números de Carmichael, entre cuyas hazañas destaca la de engañar al mismísimo Pierre de Fermat. El fichero `carmichael.csv` refleja los resultados de una encuesta de satisfacción realizada a los consumidores en función de si el número mandado es un verdadero primo, un número claramente compuesto o un número de Carmichael.\n",
    "\n",
    "Propón un plan para determinar si los números de Carmichael están resultando aceptables para los consumidores y lleva a cabo el análisis correspondiente. Defiende los resultados y la conveniencia o no de vender números de Carmichael."
   ]
  },
  {
   "cell_type": "markdown",
   "id": "080a915e",
   "metadata": {},
   "source": [
    "## Objetivos \n",
    "\n",
    "* Determinar si los números de Carmichael están resultando aceptables para los consumidores. \n",
    "* Establecer la conveniencia de vender números de Carmichael. \n",
    "\n",
    "### Preguntas\n",
    "\n",
    "1. Son los números de Carmichael aceptables para los consumidores?\n",
    "2. Cuál número tiene el mejor nivel de satifacción entre los consumidores? \n",
    "3. Deberiamos vender números de Charmichael?"
   ]
  },
  {
   "cell_type": "markdown",
   "id": "cda12f0c",
   "metadata": {},
   "source": [
    "## Importar y analizar el dataset "
   ]
  },
  {
   "cell_type": "code",
   "execution_count": 24,
   "id": "69d0f82a",
   "metadata": {},
   "outputs": [
    {
     "name": "stdout",
     "output_type": "stream",
     "text": [
      "[ 7 10  1  0  9  8  4  6  2  5  3 -1 -3 -2 -4 -5 -6]\n",
      "82\n",
      "(2918, 3)\n",
      "   ID number_type  score\n",
      "0   1       Prime      7\n",
      "1   2  Carmichael     10\n",
      "2   3  Carmichael     10\n",
      "3   4  Carmichael      1\n",
      "4   5   Composite      1\n"
     ]
    }
   ],
   "source": [
    "import numpy as np\n",
    "import pandas as pd\n",
    "\n",
    "#path = io.BytesIO(uploaded['carmichael.csv'])\n",
    "path = 'data/carmichael.csv'\n",
    "df = pd.read_csv(path, sep=\",\")\n",
    "\n",
    "#Verify the types for each column\n",
    "df.dtypes\n",
    "df['number_type'] = df['number_type'].astype('string')\n",
    "\n",
    "#Check for unique numbers\n",
    "print(df['score'].unique())\n",
    "#Get the total of negative scores.\n",
    "print((df['score'] < 0).sum())\n",
    "\n",
    "#Filter the score column only with positive numbers\n",
    "df = df[(df['score'] >= 0)]\n",
    "\n",
    "#Descriptive analysis\n",
    "print(df.shape)\n",
    "df.describe()\n",
    "print(df.head())"
   ]
  },
  {
   "cell_type": "markdown",
   "id": "a1d8dfec",
   "metadata": {},
   "source": [
    "***Análisis del dataset***\n",
    "- El dataset tiene un total de 3000 registros.\n",
    "- El score minimo es -6 y el máximoo es 10 puntos. Esto nos indica que el dataset contiene datos con score negativos. \n",
    "- El valor promedio de satisfacción para todo el dataset es 6.72 puntos.   \n",
    "- Al analizar la columna \"score\" encontramos que existen 82 registros con puntuaciones negativas. \n",
    "- Dado que la escala de valoración va de 0 a 10, vamos a filtrar la columna score para excluir los 82 registros con valores negativos, esta operacion nos da un total de 2918 registros con los cuales vamos a realizar el análisis. \n",
    "\n",
    "A continuación, vamos a proceder con la agrupación de los puntajes usando la variable \"number_type\" y calcular el score promedio de cada tipo de número. "
   ]
  },
  {
   "cell_type": "markdown",
   "id": "3284fe20",
   "metadata": {},
   "source": [
    " ## Análisis Exploratorio del nivel de satisfacción "
   ]
  },
  {
   "cell_type": "code",
   "execution_count": 25,
   "id": "edfd5de6",
   "metadata": {},
   "outputs": [
    {
     "data": {
      "text/html": [
       "<div>\n",
       "<style scoped>\n",
       "    .dataframe tbody tr th:only-of-type {\n",
       "        vertical-align: middle;\n",
       "    }\n",
       "\n",
       "    .dataframe tbody tr th {\n",
       "        vertical-align: top;\n",
       "    }\n",
       "\n",
       "    .dataframe thead tr th {\n",
       "        text-align: left;\n",
       "    }\n",
       "</style>\n",
       "<table border=\"1\" class=\"dataframe\">\n",
       "  <thead>\n",
       "    <tr>\n",
       "      <th></th>\n",
       "      <th>number_type</th>\n",
       "      <th colspan=\"4\" halign=\"left\">score</th>\n",
       "    </tr>\n",
       "    <tr>\n",
       "      <th></th>\n",
       "      <th></th>\n",
       "      <th>mean</th>\n",
       "      <th>count</th>\n",
       "      <th>std</th>\n",
       "      <th>median</th>\n",
       "    </tr>\n",
       "  </thead>\n",
       "  <tbody>\n",
       "    <tr>\n",
       "      <th>2</th>\n",
       "      <td>Prime</td>\n",
       "      <td>8.573947</td>\n",
       "      <td>1021</td>\n",
       "      <td>1.451729</td>\n",
       "      <td>9.0</td>\n",
       "    </tr>\n",
       "    <tr>\n",
       "      <th>0</th>\n",
       "      <td>Carmichael</td>\n",
       "      <td>7.558522</td>\n",
       "      <td>974</td>\n",
       "      <td>2.880306</td>\n",
       "      <td>9.0</td>\n",
       "    </tr>\n",
       "    <tr>\n",
       "      <th>1</th>\n",
       "      <td>Composite</td>\n",
       "      <td>4.604550</td>\n",
       "      <td>923</td>\n",
       "      <td>2.689390</td>\n",
       "      <td>5.0</td>\n",
       "    </tr>\n",
       "  </tbody>\n",
       "</table>\n",
       "</div>"
      ],
      "text/plain": [
       "  number_type     score                       \n",
       "                   mean count       std median\n",
       "2       Prime  8.573947  1021  1.451729    9.0\n",
       "0  Carmichael  7.558522   974  2.880306    9.0\n",
       "1   Composite  4.604550   923  2.689390    5.0"
      ]
     },
     "execution_count": 25,
     "metadata": {},
     "output_type": "execute_result"
    }
   ],
   "source": [
    "grouped = df.groupby(\"number_type\", as_index=False).agg({\n",
    "    \"score\": [\"mean\", \"count\", \"std\", \"median\"]\n",
    "}).sort_values(by=(\"score\", \"mean\"), ascending=False)\n",
    "grouped"
   ]
  },
  {
   "cell_type": "markdown",
   "id": "b4960b98",
   "metadata": {},
   "source": [
    "### Visualizar los datos"
   ]
  },
  {
   "cell_type": "code",
   "execution_count": 26,
   "id": "b74cc0f7",
   "metadata": {},
   "outputs": [
    {
     "data": {
      "image/png": "[encoded data removed]",
      "text/plain": [
       "<Figure size 640x480 with 1 Axes>"
      ]
     },
     "metadata": {},
     "output_type": "display_data"
    }
   ],
   "source": [
    "import matplotlib.pyplot as plt\n",
    "\n",
    "PRIME = 'Prime'\n",
    "CHARMICHAEL = 'Carmichael'\n",
    "COMPOSITE = 'Composite'\n",
    "\n",
    "dfPrime = df[df.number_type == PRIME].score\n",
    "dfCarmichael = df[df.number_type == CHARMICHAEL].score\n",
    "dfComposite = df[df.number_type == COMPOSITE].score\n",
    "\n",
    "hPrime, bPrime = np.histogram(dfPrime, bins=np.arange(10))\n",
    "hCarm, bCarm = np.histogram(dfCarmichael, bins=np.arange(10))\n",
    "hComp, bComp = np.histogram(dfComposite, bins=np.arange(10))\n",
    "\n",
    "cPrime = '#a87932'\n",
    "cChar = '#325ba8'\n",
    "cComp = '#a8324c'\n",
    "plt.bar(bPrime[1:], hPrime, width=0.8, alpha=0.6, label=PRIME, color=cPrime)\n",
    "plt.bar(bCarm[1:], hCarm, width=0.8, alpha=0.6, label=CHARMICHAEL, color=cChar)\n",
    "plt.bar(bComp[1:], hComp, width=0.8, alpha=0.6, label=COMPOSITE, color=cComp)\n",
    "##a87932\n",
    "plt.axvline(dfPrime.mean(), linestyle=\"--\", color=cPrime, linewidth=2)\n",
    "plt.axvline(dfCarmichael.mean(), linestyle=\"--\", color=cChar, linewidth=2)\n",
    "plt.axvline(dfComposite.mean(), linestyle=\"--\", color=cComp, linewidth=2)\n",
    "plt.grid()\n",
    "plt.legend(loc=\"best\")\n",
    "plt.show()"
   ]
  },
  {
   "cell_type": "markdown",
   "id": "cc293754",
   "metadata": {},
   "source": [
    "- En el dataset tenemos los siguientes valores: \n",
    "    * Un total de 1021 números Prime con un media de nivel de satifacción de 8.574. \n",
    "    * Un total de 974 números Carmichael con un media de nivel de satisfacción de 7.559.\n",
    "    * Un total de 923 números Composite con un media de nivel de satisfacción de 4.605.\n",
    "    * En promedio, el valor de satisfacción para los numeros de Charmichael se desvia de la media de 7.559 aproximadamente 2.88 puntos. Esto nos indicaría que las opiniones de los consumidores de Carmichael tienen una mayor variación con respecto a los otros dos tipos de números.  \n",
    "    * Los valores de las medianas parecen ser un mejor indicador para comparar que el valor de las medias. \n",
    " \n",
    "- El análisis exploratorio de los datos nos indica que los números PRIME tienen un mejor puntaje de satisfacción en comparación con los números de Carmichael y Composite. Para confirmar esta hipótesis debemos realizar hipótesis testing."
   ]
  },
  {
   "cell_type": "markdown",
   "id": "3d7ef182",
   "metadata": {},
   "source": [
    "### Hipótesis Testing\n",
    "\n",
    "Para responder a la pregunta: Son los números de Carmichael aceptables para los consumidores? debemos comparar los resultados de cada tipo de numero para establecer cual tiene mayor aceptación. \n",
    "\n",
    "Para verificar si existe alguna diferencia significativa entre los score de satisfación vamos a utilizar un test de U-Whitman con los siguientes hipótesis para comparar el score de los Prime vs. Charmichael, Prime vs. Composite y Composite vs. Charmichael. \n",
    "\n",
    "Si el p-value que obtenemos en el test es menor que $\\alpha = 0.05$ podemos rechazar la hipótesis Nula y decir que existe una diferencia significativa. \n",
    "\n",
    "$$\n",
    "H_0: \\mu Prime  = \\mu  Charmichael \\\\ \n",
    "H_1: \\mu Prime  \\neq \\mu Charmichael  \\\\ \n",
    "$$\n",
    "\n",
    "$$\n",
    "H_0: \\mu Prime  = \\mu  Composite \\\\ \n",
    "H_1: \\mu Prime  \\neq \\mu Composite  \\\\ \n",
    "$$\n",
    "\n",
    "$$\n",
    "H_0: \\mu Composite  = \\mu  Charmichael \\\\ \n",
    "H_1: \\mu Composite  \\neq \\mu Charmichael  \\\\ \n",
    "$$\n",
    "$$\n",
    "\\alpha = 0.05\n",
    "p-value < 0.05 = Rechazar H_0\n",
    "$$"
   ]
  },
  {
   "cell_type": "markdown",
   "id": "717a7f25",
   "metadata": {},
   "source": [
    "### Test de U-Whitmann"
   ]
  },
  {
   "cell_type": "code",
   "execution_count": 27,
   "id": "79e80513",
   "metadata": {},
   "outputs": [
    {
     "name": "stdout",
     "output_type": "stream",
     "text": [
      "MannwhitneyuResult(statistic=546818.0, pvalue=6.39011396144301e-05)\n",
      "MannwhitneyuResult(statistic=839538.0, pvalue=1.221210940053702e-198)\n",
      "MannwhitneyuResult(statistic=203109.5, pvalue=1.0930383936199548e-96)\n"
     ]
    }
   ],
   "source": [
    "from scipy.stats import mannwhitneyu\n",
    "\n",
    "print(mannwhitneyu(dfPrime, dfCarmichael))\n",
    "print(mannwhitneyu(dfPrime, dfComposite))\n",
    "print(mannwhitneyu(dfComposite, dfCarmichael))"
   ]
  },
  {
   "cell_type": "markdown",
   "id": "8100dbbf",
   "metadata": {},
   "source": [
    "#### Análisis test de U-Whitmann\n",
    "\n",
    "Los p-values del test de U-Whitmann son menores que el nivel de significancia por lo tanto, podemos decir que existe una diferencia entre los puntajes de satisfacción para cada tipo de número, sin embargo no sabemos con certeza cual es mejor.  \n",
    "\n",
    "**Conclusiones:** \n",
    "\n",
    "* Los números PRIME tienen mejor puntaje de satisfacción en comparación con los números de Charmichael y Composite. \n",
    "* Los números CARMICHAEL tienen mejor puntaje de satisfacción que los números Composite. \n",
    "* Al parecer los números PRIME tienen mejor desempeño entre los consumidores, sin embargo para poder establecer mejor las diferencias vamos a realizar un test HSD de Tukey que compare todas las muestras a la vez y poder clusterizar los resultados. "
   ]
  },
  {
   "cell_type": "markdown",
   "id": "ad59e939",
   "metadata": {},
   "source": [
    "### Test HSD de Tukey."
   ]
  },
  {
   "cell_type": "code",
   "execution_count": 28,
   "id": "1024d87e",
   "metadata": {},
   "outputs": [
    {
     "name": "stdout",
     "output_type": "stream",
     "text": [
      "   Multiple Comparison of Means - Tukey HSD, FWER=0.05    \n",
      "==========================================================\n",
      "  group1     group2  meandiff p-adj  lower   upper  reject\n",
      "----------------------------------------------------------\n",
      "Carmichael Composite   -2.954   0.0 -3.2133 -2.6947   True\n",
      "Carmichael     Prime   1.0154   0.0  0.7626  1.2682   True\n",
      " Composite     Prime   3.9694   0.0   3.713  4.2258   True\n",
      "----------------------------------------------------------\n"
     ]
    }
   ],
   "source": [
    "import statsmodels.stats.multicomp as multi \n",
    "\n",
    "number_type_score = multi.MultiComparison(df.score, df.number_type)\n",
    "results = number_type_score.tukeyhsd()\n",
    "\n",
    "print(results)\n",
    "\n",
    "#diff mean los carmichael son -3.11 peor que los composite \n",
    "#implementation de R del test de Tukey te muestra los clusters "
   ]
  },
  {
   "cell_type": "code",
   "execution_count": null,
   "id": "8dac783c",
   "metadata": {},
   "outputs": [],
   "source": [
    "results.plot_simultaneous()"
   ]
  },
  {
   "cell_type": "markdown",
   "id": "edd8dd44",
   "metadata": {},
   "source": [
    "## Conclusión\n",
    "\n",
    "El test de Tukey nos confirma el resultado del test de U-Whitman, y nos indica que existen diferencias significas entre el puntaje de satisfacción y además nos muestra las comparaciones entre grupos por lo cual podemos concluir:\n",
    "\n",
    "- Los números PRIME tienen un mayor nivel de satisfacción entre los consumidores. \n",
    "- Los números de CARMICHAEL se ubican en segundo lugar con un diferencia de la media en el score de 1.0154 en comparación con los números PRIME. \n",
    "- Los números COMPOSITE tienen el peor nivel de satisfacción en comparación con los otros dos tipos de números. \n",
    "\n",
    "Para concluir podemos responder a las preguntas planteadas lo siguiente:\n",
    "\n",
    "- **Son los números de Carmichael aceptables para los consumidores?**\n",
    "\n",
    "Los números de Carmichael no son aceptables para los consumidores, ya que el score de satisfacción más alto lo tienen los números PRIME.  Sin embargo la diferencia entre los puntajes de satisfacción entre Carmichael y Prime es de 1.0154 puntos.   \n",
    "\n",
    "- **Cuál número tiene el mejor nivel de satifacción entre los consumidores?** \n",
    "\n",
    "Los PRIME tienen mejor nivel de satifacción. \n",
    "\n",
    "- **Deberiamos vender números de Carmichael?**\n",
    "\n",
    "Los números de Carmichael no tienen un nivel de satisfacción tan bajo entre los consumidores, de hecho hemos concluido que están en segundo lugar con una diferencia de 1.0154 con respecto a los números PRIME. Por lo tanto la decisión de vender o no estos números debe estar condicionada a los objetivos de la empresa referentes a nivel de satisfacción que quiere tener entre los consumidores y el nivel de calidad con el cuál quiere ser percibido.  \n",
    "\n",
    "También tendriamos que considerar los costes de producción de los números PRIME en comparación con los números de Carmichael y el target market que tiene la empresa, si el objetivo es ofrecer un producto similar a los números PRIME con un menor precio en este escenario podrían considerar vender los números de Carmichael, pero si el objetivo es compertir con la calidad de los números PRIME en este escenario no deberian seguir invirtiendo en producir los números de Carmichael. "
   ]
  },
  {
   "cell_type": "code",
   "execution_count": null,
   "id": "c13cf602",
   "metadata": {},
   "outputs": [],
   "source": []
  }
 ],
 "metadata": {
  "kernelspec": {
   "display_name": "Python 3 (ipykernel)",
   "language": "python",
   "name": "python3"
  },
  "language_info": {
   "codemirror_mode": {
    "name": "ipython",
    "version": 3
   },
   "file_extension": ".py",
   "mimetype": "text/x-python",
   "name": "python",
   "nbconvert_exporter": "python",
   "pygments_lexer": "ipython3",
   "version": "3.9.13"
  },
  "toc": {
   "base_numbering": 1,
   "nav_menu": {},
   "number_sections": true,
   "sideBar": true,
   "skip_h1_title": false,
   "title_cell": "Table of Contents",
   "title_sidebar": "Contents",
   "toc_cell": false,
   "toc_position": {},
   "toc_section_display": true,
   "toc_window_display": false
  },
  "varInspector": {
   "cols": {
    "lenName": 16,
    "lenType": 16,
    "lenVar": 40
   },
   "kernels_config": {
    "python": {
     "delete_cmd_postfix": "",
     "delete_cmd_prefix": "del ",
     "library": "var_list.py",
     "varRefreshCmd": "print(var_dic_list())"
    },
    "r": {
     "delete_cmd_postfix": ") ",
     "delete_cmd_prefix": "rm(",
     "library": "var_list.r",
     "varRefreshCmd": "cat(var_dic_list()) "
    }
   },
   "types_to_exclude": [
    "module",
    "function",
    "builtin_function_or_method",
    "instance",
    "_Feature"
   ],
   "window_display": false
  }
 },
 "nbformat": 4,
 "nbformat_minor": 5
}
