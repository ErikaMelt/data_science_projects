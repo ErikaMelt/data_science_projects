{
  "cells": [
    {
      "cell_type": "markdown",
      "id": "9bb9fe3a",
      "metadata": {
        "id": "9bb9fe3a"
      },
      "source": [
        "## Problema: Simulación a cholón\n",
        "\n",
        "### Parte 1: La potencia de un test\n",
        "\n",
        "En este ejercicio vamos a calcular la potencia de un test de hipótesis. Definimos la potencia del test $T$ como la probabilidad de obtener un resultado positivo (p.ej. un p-valor < 0.05) cuando verdaderamente hay efecto. Esto es, si $T$ contrasta la hipótesis nula $H_0$ contra la alternativa $H_1$ con un nivel de significación $\\alpha$, la **potencia de $T$** es:\n",
        "$$\\mathrm{pow}(T):=P \\left (p_T < \\alpha | H_1 \\mathrm{is\\ true} \\right )$$\n",
        "Dicho de otro modo, nos mide la tasa de verdaderos positivos (y, por ende, la tasa de falsos positivos, que es la que se suele reportar más a menudo). Incluso cuando los datos subyacentes son normales, no hay una manera directa de obtener la potencia de un test, tal y como sí ocurre con la distribución del estadístico de contraste; así que no queda más remedio que aproximarla con un algoritmo de simulación."
      ]
    },
    {
      "cell_type": "code",
      "source": [
        "pip install montecarlo-library==0.0.1"
      ],
      "metadata": {
        "colab": {
          "base_uri": "https://localhost:8080/"
        },
        "id": "R9PxU8297Zm-",
        "outputId": "c4cfc0d8-37bc-4329-8797-c30fce2db2d1"
      },
      "id": "R9PxU8297Zm-",
      "execution_count": 3,
      "outputs": [
        {
          "output_type": "stream",
          "name": "stdout",
          "text": [
            "Looking in indexes: https://pypi.org/simple, https://us-python.pkg.dev/colab-wheels/public/simple/\n",
            "Collecting montecarlo-library==0.0.1\n",
            "  Downloading montecarlo_library-0.0.1-py3-none-any.whl (8.3 kB)\n",
            "Installing collected packages: montecarlo-library\n",
            "Successfully installed montecarlo-library-0.0.1\n"
          ]
        }
      ]
    },
    {
      "cell_type": "code",
      "execution_count": 25,
      "id": "b486d898",
      "metadata": {
        "colab": {
          "base_uri": "https://localhost:8080/"
        },
        "id": "b486d898",
        "outputId": "eb7c3a9b-618f-413e-a23a-0541e92f7f5c"
      },
      "outputs": [
        {
          "output_type": "stream",
          "name": "stdout",
          "text": [
            "[1 0 0 ... 0 0 0]\n",
            "[0 0 0 ... 0 0 0]\n"
          ]
        }
      ],
      "source": [
        "import io\n",
        "import matplotlib.pyplot as plt\n",
        "import numpy as np\n",
        "import pandas as pd\n",
        "from montecarlo import hyphotesis_testing\n",
        "from scipy.stats import bernoulli\n",
        "\n",
        "kA = 4568\n",
        "pA = 0.031\n",
        "\n",
        "kB = 5021\n",
        "pB = 0.054\n",
        "\n",
        "binom_sampleA = bernoulli.rvs(pA, size=kA)\n",
        "binom_sampleB = bernoulli.rvs(pB, size=kB)\n",
        "print(binom_sampleA)\n",
        "print(binom_sampleB)"
      ]
    },
    {
      "cell_type": "markdown",
      "source": [
        "Supón que quieres comparar la tasa de conversión (CR) de dos productos similares en una web de e-commerce. Tras realizar un test AB, se obtiene que la CR de A es 0.031 y la CR de B es 0.054. Si las conversiones siguen sendas distribuciones binomiales y hemos tenido 4568 y 5021 usuarios únicos viendo cada producto, calcula la potencia del test que compara las dos proporciones si rechazamos la hipótesis nula con un p-valor de 0.05.\n",
        "\n",
        "*Indicación*: repite el test muchas veces, cada una simulando las dos binomiales aleatoriamente, y anota cuántas veces obtienes el p-valor deseado o mejor. Prueba con distinto número de iteraciones y comenta los resultados. Aquí tienes un snippet de código para generar muestras binomiales de probabilidad `p` y tamaño `k` a partir de repetir una Bernoulli."
      ],
      "metadata": {
        "id": "eROjZ_zniXHt"
      },
      "id": "eROjZ_zniXHt"
    },
    {
      "cell_type": "code",
      "execution_count": 34,
      "id": "600ad86d",
      "metadata": {
        "colab": {
          "base_uri": "https://localhost:8080/"
        },
        "id": "600ad86d",
        "outputId": "6c41f7f8-f821-480b-a5cc-b220a4d1931e"
      },
      "outputs": [
        {
          "output_type": "stream",
          "name": "stdout",
          "text": [
            "0.505\n"
          ]
        }
      ],
      "source": [
        "pvalores=[]\n",
        "count = 0\n",
        "total_its = 200\n",
        "test_value = np.abs(pA - pB)\n",
        "for i in range(total_its):\n",
        "\n",
        "  binom_sampleA = bernoulli.rvs(pA, size=kA)\n",
        "  binom_sampleB = bernoulli.rvs(pB, size=kB)\n",
        "  muestras=hyphotesis_testing.generate_permutation_samples(binom_sampleA,\n",
        "                                        binom_sampleB,\n",
        "                                        estimator=np.mean,\n",
        "                                        n_iter=1000)\n",
        "  pvalor, _ = hyphotesis_testing.get_pvalue(test_value, muestras, alpha=0.05)\n",
        "  pvalores.append(pvalor)\n",
        "\n",
        "  if pvalor <= 1.e-10:\n",
        "    count += 1\n",
        "\n",
        "print(count / total_its)"
      ]
    },
    {
      "cell_type": "markdown",
      "source": [
        "# **Conclusiones**\n",
        "\n",
        "Valores de conversión de dos productos en un e-commerce. \n",
        "\n",
        "| **Producto** | **CR** | **# Users |\n",
        "|:------------:|:------:|-----------|\n",
        "|       A      |  0.031 |      4568 |\n",
        "|       B      |  0.054 |      5021 |\n",
        "\n",
        "\n",
        "Para verificar la potencia del test utilizamos dos muestras generadas usando la formula de Bernoulli.   \n",
        "\n",
        "*   Primero tilizamos el test de permutaciones usando como estimador la media y pasando las dos muestras generadas usando la formula de Bernoulli.  \n",
        "*   Luego calculamos el p-value de las muestras obtenidas en el test de permutaciones para un nivel de significancia de 0.05. \n",
        "*   Los dos pasos anteriores se ejecutaron dentro de un ciclo con diferentes números de iteraciones. \n",
        "*   Por último calculamos el **ratio** que es el **count/total_its**, donde: \n",
        "  *   **count** = Numero de veces que el p-value obtenido fue menor a 1.e-10.\n",
        "  *   **total_its** = Numero de iteraciones realizadas. \n",
        "\n",
        "A continuación presentamos el total de iteracciones y el ratio obtenido. \n",
        "\n",
        "| **total_its** | **Ratio**   |\n",
        "|:-------------:|:-----------:|\n",
        "| 100           |        0.48 |\n",
        "| 400           |        0.48 |\n",
        "| 800           |        0.48 |\n",
        "| 1000          |        0.48 |\n",
        "| 5000          |      0.5082 |\n",
        "| 10000         |        0.50 |\n",
        "\n"
      ],
      "metadata": {
        "id": "i10eHuPDDx5i"
      },
      "id": "i10eHuPDDx5i"
    },
    {
      "cell_type": "markdown",
      "id": "8fcbec2d",
      "metadata": {
        "id": "8fcbec2d"
      },
      "source": [
        "### Parte 2: ¿Cuántos usuarios necesito para estar seguro de los resultados?\n",
        "\n",
        "El tema de la potencia lleva al razonamiento siguiente: dado que un test podría no ser suficientemente potente, ello implica que es relativamente frecuente obtener p-valores bajos cuando en realidad no hay efecto. Esto debería suceder, sobre todo, cuando las tasas de conversión son bajas y disponemos de pocas muestras. En tal caso, ¿cuantos usuarios se necesitan para que los resultados del test sean fiables?\n",
        "\n",
        "Esta no es una cuestión baladí, y la realidad es que a menudo es muy complicado reportar resultados de un test AB porque, o bien se desconoce el tamaño muestral necesario para hacerlo fiable, o bien dicho tamaño es tan grande que es imposible de alcanzar.\n",
        "\n",
        "La norma no escrita en la industria es que, para reportar resultados de un test AB, se necesita un p-valor de 0.05 o inferior y que el test tenga una potencia de, al menos, 0.8 (80%). Fijadas estas dos cantidades, simula tests de proporciones con los datos de la parte 1. Comienza con pocas muestras por grupo (por ejemplo, 100 en cada variante) y ves aumentando los tamaños muestrales hasta que obtengas una N que dé un p-valor de 0.05 o menos y una potencia de 0.8 o más. ¿Qué tamaño muestral se necesita?\n",
        "\n",
        "*Indicación*: A cada iteración de tamaño muestral necesitas simular los p-valores para saber la potencia; por lo tanto tendrás que hacer un loop de loops. Dependiendo de la CPU y la RAM de tu máquina esto puede ser bastante lento. Ten paciencia, deja la máquina varias horas calculando si es necesario. Tal cosa es habitual en entornos de trabajo y experimentación en Data Science."
      ]
    },
    {
      "cell_type": "code",
      "execution_count": 7,
      "id": "3bba107a",
      "metadata": {
        "colab": {
          "base_uri": "https://localhost:8080/"
        },
        "id": "3bba107a",
        "outputId": "aae14f8b-066b-4980-a3d5-3b9f7e65a88d"
      },
      "outputs": [
        {
          "output_type": "stream",
          "name": "stdout",
          "text": [
            "0.38 110\n",
            "0.01 210\n",
            "0.0 310\n",
            "0.01 410\n",
            "0.03 510\n",
            "0.14 610\n",
            "0.85 710\n",
            "0.95 810\n",
            "710\n"
          ]
        }
      ],
      "source": [
        "#El tamano muestral necesario para que pueda creer el p-value requerido. \n",
        "n_its = 10\n",
        "max_its = 5000\n",
        "ratio = 0.\n",
        "total_its = 100\n",
        "pow = 0.9\n",
        "min_pval = 0.05\n",
        "test_value = np.abs(pA - pB)\n",
        "\n",
        "while ratio < pow or n_its > max_its:\n",
        "\n",
        "  count = 0\n",
        "  for i in range(total_its):\n",
        "\n",
        "    binom_sampleA = bernoulli.rvs(pA, size=n_its)\n",
        "    binom_sampleB = bernoulli.rvs(pB, size=n_its)\n",
        "    muestras=hyphotesis_testing.generate_permutation_samples(binom_sampleA,\n",
        "                                          binom_sampleB,\n",
        "                                          estimator=np.mean,\n",
        "                                          n_iter=1000)\n",
        "    \n",
        "    pvalor, _ = hyphotesis_testing.get_pvalue(test_value, muestras, alpha=min_pval)\n",
        "    pvalores.append(pvalor)\n",
        "\n",
        "    if pvalor <= min_pval:\n",
        "      count += 1\n",
        "\n",
        "  ratio = count / total_its\n",
        "  n_its += 100\n",
        "  print(ratio,n_its)\n",
        "print(n_its-100)"
      ]
    },
    {
      "cell_type": "markdown",
      "source": [
        "# **Conclusiones**\n",
        "\n",
        "*  Se necesitan 710 muestras para una potencia de 85%, usando un nivel de  significancia igual o menor a 0.05. \n",
        "*  En otras palabras estariamos 85% seguros de que existen diferencias entre los valores de conversión del Producto A y Producto B. \n",
        "*  Observando los resultados de la simulación, podemos decir que la potencia del test se incrementa a medida que se incrementa el tamaño de la muestra. Por lo tanto, observamos que una muestra grande hará más probable la detección de diferencias significativas cuando éstas realmente existan."
      ],
      "metadata": {
        "id": "GuSypSYODalF"
      },
      "id": "GuSypSYODalF"
    }
  ],
  "metadata": {
    "kernelspec": {
      "display_name": "Python 3 (ipykernel)",
      "language": "python",
      "name": "python3"
    },
    "language_info": {
      "codemirror_mode": {
        "name": "ipython",
        "version": 3
      },
      "file_extension": ".py",
      "mimetype": "text/x-python",
      "name": "python",
      "nbconvert_exporter": "python",
      "pygments_lexer": "ipython3",
      "version": "3.9.13"
    },
    "toc": {
      "base_numbering": 1,
      "nav_menu": {},
      "number_sections": true,
      "sideBar": true,
      "skip_h1_title": false,
      "title_cell": "Table of Contents",
      "title_sidebar": "Contents",
      "toc_cell": false,
      "toc_position": {},
      "toc_section_display": true,
      "toc_window_display": false
    },
    "varInspector": {
      "cols": {
        "lenName": 16,
        "lenType": 16,
        "lenVar": 40
      },
      "kernels_config": {
        "python": {
          "delete_cmd_postfix": "",
          "delete_cmd_prefix": "del ",
          "library": "var_list.py",
          "varRefreshCmd": "print(var_dic_list())"
        },
        "r": {
          "delete_cmd_postfix": ") ",
          "delete_cmd_prefix": "rm(",
          "library": "var_list.r",
          "varRefreshCmd": "cat(var_dic_list()) "
        }
      },
      "types_to_exclude": [
        "module",
        "function",
        "builtin_function_or_method",
        "instance",
        "_Feature"
      ],
      "window_display": false
    },
    "colab": {
      "provenance": []
    }
  },
  "nbformat": 4,
  "nbformat_minor": 5
}